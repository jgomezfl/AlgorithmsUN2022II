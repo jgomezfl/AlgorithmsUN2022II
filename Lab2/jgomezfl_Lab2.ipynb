{
  "cells": [
    {
      "cell_type": "markdown",
      "metadata": {
        "id": "view-in-github",
        "colab_type": "text"
      },
      "source": [
        "<a href=\"https://colab.research.google.com/github/jgomezfl/AlgorithmsUN2022II/blob/circleci-project-setup/Lab2/jgomezfl_Lab2.ipynb\" target=\"_parent\"><img src=\"https://colab.research.google.com/assets/colab-badge.svg\" alt=\"Open In Colab\"/></a>"
      ]
    },
    {
      "cell_type": "code",
      "source": [
        "!pip install -U fortran-magic"
      ],
      "metadata": {
        "colab": {
          "base_uri": "https://localhost:8080/"
        },
        "id": "9QUi47AIAEfH",
        "outputId": "9e98d1b6-ba67-432a-8aac-fe7f3dca82ae"
      },
      "execution_count": null,
      "outputs": [
        {
          "output_type": "stream",
          "name": "stdout",
          "text": [
            "Looking in indexes: https://pypi.org/simple, https://us-python.pkg.dev/colab-wheels/public/simple/\n",
            "Collecting fortran-magic\n",
            "  Downloading fortran_magic-0.7-py3-none-any.whl (9.6 kB)\n",
            "Requirement already satisfied: numpy in /usr/local/lib/python3.7/dist-packages (from fortran-magic) (1.21.6)\n",
            "Requirement already satisfied: ipython in /usr/local/lib/python3.7/dist-packages (from fortran-magic) (7.9.0)\n",
            "Requirement already satisfied: pickleshare in /usr/local/lib/python3.7/dist-packages (from ipython->fortran-magic) (0.7.5)\n",
            "Requirement already satisfied: traitlets>=4.2 in /usr/local/lib/python3.7/dist-packages (from ipython->fortran-magic) (5.1.1)\n",
            "Requirement already satisfied: prompt-toolkit<2.1.0,>=2.0.0 in /usr/local/lib/python3.7/dist-packages (from ipython->fortran-magic) (2.0.10)\n",
            "Collecting jedi>=0.10\n",
            "  Downloading jedi-0.18.1-py2.py3-none-any.whl (1.6 MB)\n",
            "\u001b[K     |████████████████████████████████| 1.6 MB 5.3 MB/s \n",
            "\u001b[?25hRequirement already satisfied: setuptools>=18.5 in /usr/local/lib/python3.7/dist-packages (from ipython->fortran-magic) (57.4.0)\n",
            "Requirement already satisfied: backcall in /usr/local/lib/python3.7/dist-packages (from ipython->fortran-magic) (0.2.0)\n",
            "Requirement already satisfied: pexpect in /usr/local/lib/python3.7/dist-packages (from ipython->fortran-magic) (4.8.0)\n",
            "Requirement already satisfied: pygments in /usr/local/lib/python3.7/dist-packages (from ipython->fortran-magic) (2.6.1)\n",
            "Requirement already satisfied: decorator in /usr/local/lib/python3.7/dist-packages (from ipython->fortran-magic) (4.4.2)\n",
            "Requirement already satisfied: parso<0.9.0,>=0.8.0 in /usr/local/lib/python3.7/dist-packages (from jedi>=0.10->ipython->fortran-magic) (0.8.3)\n",
            "Requirement already satisfied: six>=1.9.0 in /usr/local/lib/python3.7/dist-packages (from prompt-toolkit<2.1.0,>=2.0.0->ipython->fortran-magic) (1.15.0)\n",
            "Requirement already satisfied: wcwidth in /usr/local/lib/python3.7/dist-packages (from prompt-toolkit<2.1.0,>=2.0.0->ipython->fortran-magic) (0.2.5)\n",
            "Requirement already satisfied: ptyprocess>=0.5 in /usr/local/lib/python3.7/dist-packages (from pexpect->ipython->fortran-magic) (0.7.0)\n",
            "Installing collected packages: jedi, fortran-magic\n",
            "Successfully installed fortran-magic-0.7 jedi-0.18.1\n"
          ]
        }
      ]
    },
    {
      "cell_type": "code",
      "execution_count": null,
      "metadata": {
        "autoscroll": false,
        "ein.tags": "worksheet-0",
        "id": "FrAt48DtiXb-",
        "outputId": "3552be8d-935c-4780-a963-c8edb0b08cb6",
        "colab": {
          "base_uri": "https://localhost:8080/",
          "height": 52
        }
      },
      "outputs": [
        {
          "output_type": "stream",
          "name": "stderr",
          "text": [
            "/usr/local/lib/python3.7/dist-packages/fortranmagic.py:147: UserWarning: get_ipython_cache_dir has moved to the IPython.paths module since IPython 4.0.\n",
            "  self._lib_dir = os.path.join(get_ipython_cache_dir(), 'fortran')\n"
          ]
        },
        {
          "output_type": "display_data",
          "data": {
            "application/javascript": [
              "new Promise(function(resolve, reject) {\n",
              "\tvar script = document.createElement(\"script\");\n",
              "\tscript.onload = resolve;\n",
              "\tscript.onerror = reject;\n",
              "\tscript.src = \"https://raw.github.com/marijnh/CodeMirror/master/mode/fortran/fortran.js\";\n",
              "\tdocument.head.appendChild(script);\n",
              "}).then(() => {\n",
              "IPython.config.cell_magic_highlight['magic_fortran'] = {'reg':[/^%%fortran/]};\n",
              "});"
            ]
          },
          "metadata": {}
        }
      ],
      "source": [
        "%matplotlib inline\n",
        "%load_ext fortranmagic\n",
        "\n",
        "import sys; sys.path.append('..')\n",
        "\n",
        "import pandas as pd\n",
        "import numpy as np\n",
        "import matplotlib as mpl\n",
        "import matplotlib.pyplot as plt\n",
        "import seaborn as sns\n",
        "import fortranmagic as fm\n",
        "import time\n",
        "\n",
        "mpl.rc('figure', figsize=(12, 7))\n",
        "\n",
        "ran_the_first_cell = True\n",
        "\n",
        "jan2017 = pd.to_datetime(['2017-01-03 00:00:00+00:00',\n",
        " '2017-01-04 00:00:00+00:00',\n",
        " '2017-01-05 00:00:00+00:00',\n",
        " '2017-01-06 00:00:00+00:00',\n",
        " '2017-01-09 00:00:00+00:00',\n",
        " '2017-01-10 00:00:00+00:00',\n",
        " '2017-01-11 00:00:00+00:00',\n",
        " '2017-01-12 00:00:00+00:00',\n",
        " '2017-01-13 00:00:00+00:00',\n",
        " '2017-01-17 00:00:00+00:00',\n",
        " '2017-01-18 00:00:00+00:00',\n",
        " '2017-01-19 00:00:00+00:00',\n",
        " '2017-01-20 00:00:00+00:00',\n",
        " '2017-01-23 00:00:00+00:00',\n",
        " '2017-01-24 00:00:00+00:00',\n",
        " '2017-01-25 00:00:00+00:00',\n",
        " '2017-01-26 00:00:00+00:00',\n",
        " '2017-01-27 00:00:00+00:00',\n",
        " '2017-01-30 00:00:00+00:00',\n",
        " '2017-01-31 00:00:00+00:00',\n",
        " '2017-02-01 00:00:00+00:00'])\n",
        "calendar = jan2017.values.astype('datetime64[D]')\n",
        "\n",
        "event_dates = pd.to_datetime(['2017-01-06 00:00:00+00:00', \n",
        "                             '2017-01-07 00:00:00+00:00', \n",
        "                             '2017-01-08 00:00:00+00:00']).values.astype('datetime64[D]')\n",
        "event_values = np.array([10, 15, 20])"
      ]
    },
    {
      "cell_type": "markdown",
      "metadata": {
        "ein.tags": "worksheet-0",
        "id": "lHm410FBiXcC"
      },
      "source": [
        "<center>\n",
        "  <h1>The PyData Toolbox</h1>\n",
        "  <h3>Scott Sanderson (Twitter: @scottbsanderson, GitHub: ssanderson)</h3>\n",
        "  <h3><a href=\"https://github.com/ssanderson/pydata-toolbox\">https://github.com/ssanderson/pydata-toolbox</a></h3>\n",
        "</center>"
      ]
    },
    {
      "cell_type": "markdown",
      "metadata": {
        "collapsed": true,
        "ein.tags": "worksheet-0",
        "id": "0CXHsFMBiXcD"
      },
      "source": [
        "# About Me:\n",
        "\n",
        "<img src=\"https://raw.githubusercontent.com/ssanderson/pydata-toolbox/master/notebooks/images/me.jpg\" alt=\"Drawing\" style=\"width: 300px;\"/>\n",
        "\n",
        "- Senior Engineer at [Quantopian](www.quantopian.com)\n",
        "- Background in Mathematics and Philosophy\n",
        "- **Twitter:** [@scottbsanderson](https://twitter.com/scottbsanderson)\n",
        "- **GitHub:** [ssanderson](github.com/ssanderson)"
      ]
    },
    {
      "cell_type": "markdown",
      "metadata": {
        "id": "tcOO-3C8iXcE"
      },
      "source": [
        "## Outline\n",
        "\n",
        "- Built-in Data Structures\n",
        "- Numpy `array`\n",
        "- Pandas `Series`/`DataFrame`\n",
        "- Plotting and \"Real-World\" Analyses"
      ]
    },
    {
      "cell_type": "markdown",
      "metadata": {
        "id": "qGj-c9CliXcE"
      },
      "source": [
        "# Data Structures"
      ]
    },
    {
      "cell_type": "markdown",
      "metadata": {
        "id": "Nsn-QHmCiXcF"
      },
      "source": [
        "> Rule 5. Data dominates. If you've chosen the right data structures and organized things well, the algorithms\n",
        "will almost always be self-evident. Data structures, not algorithms, are central to programming.\n",
        "\n",
        "- *Notes on Programming in C*, by Rob Pike."
      ]
    },
    {
      "cell_type": "markdown",
      "metadata": {
        "id": "_yhFg_rXiXcF"
      },
      "source": [
        "# Lists"
      ]
    },
    {
      "cell_type": "code",
      "execution_count": null,
      "metadata": {
        "collapsed": true,
        "id": "97QvmzbqiXcG"
      },
      "outputs": [],
      "source": [
        "assert ran_the_first_cell, \"Oh noes!\""
      ]
    },
    {
      "cell_type": "code",
      "execution_count": null,
      "metadata": {
        "id": "nhIZgNXLiXcG",
        "outputId": "23336c4f-a897-47e1-c041-20bc2267031d",
        "colab": {
          "base_uri": "https://localhost:8080/"
        }
      },
      "outputs": [
        {
          "output_type": "execute_result",
          "data": {
            "text/plain": [
              "[1, 'two', 3.0, 4, 5.0, 'six']"
            ]
          },
          "metadata": {},
          "execution_count": 20
        }
      ],
      "source": [
        "l = [1, 'two', 3.0, 4, 5.0, \"six\"]\n",
        "l"
      ]
    },
    {
      "cell_type": "code",
      "execution_count": null,
      "metadata": {
        "id": "Cjj8bfDAiXcH",
        "outputId": "e2055742-64b5-4059-a9fc-171a252cf3bb",
        "colab": {
          "base_uri": "https://localhost:8080/"
        }
      },
      "outputs": [
        {
          "output_type": "stream",
          "name": "stdout",
          "text": [
            "first: 1\n",
            "second: two\n"
          ]
        }
      ],
      "source": [
        "# Lists can be indexed like C-style arrays.\n",
        "first = l[0]\n",
        "second = l[1]\n",
        "print(\"first:\", first)\n",
        "print(\"second:\", second)"
      ]
    },
    {
      "cell_type": "code",
      "execution_count": null,
      "metadata": {
        "id": "cVozluPbiXcH",
        "outputId": "211414c7-2cfb-4bbc-817e-3bf1e1c3dffd",
        "colab": {
          "base_uri": "https://localhost:8080/"
        }
      },
      "outputs": [
        {
          "output_type": "stream",
          "name": "stdout",
          "text": [
            "last: six\n",
            "second to last: 5.0\n"
          ]
        }
      ],
      "source": [
        "# Negative indexing gives elements relative to the end of the list.\n",
        "last = l[-1]\n",
        "penultimate = l[-2]\n",
        "print(\"last:\", last)\n",
        "print(\"second to last:\", penultimate)"
      ]
    },
    {
      "cell_type": "code",
      "execution_count": null,
      "metadata": {
        "id": "PTqqm8MeiXcI",
        "outputId": "d4400361-8a08-4069-bc2c-357d5e6423d5",
        "colab": {
          "base_uri": "https://localhost:8080/"
        }
      },
      "outputs": [
        {
          "output_type": "execute_result",
          "data": {
            "text/plain": [
              "['two', 3.0]"
            ]
          },
          "metadata": {},
          "execution_count": 23
        }
      ],
      "source": [
        "# Lists can also be sliced, which makes a copy of elements between \n",
        "# start (inclusive) and stop (exclusive)\n",
        "sublist = l[1:3]\n",
        "sublist"
      ]
    },
    {
      "cell_type": "code",
      "execution_count": null,
      "metadata": {
        "id": "ugUUXXUViXcI",
        "outputId": "67f1e02e-abff-41dd-8bc0-454977d7311b",
        "colab": {
          "base_uri": "https://localhost:8080/"
        }
      },
      "outputs": [
        {
          "output_type": "execute_result",
          "data": {
            "text/plain": [
              "[1, 'two', 3.0]"
            ]
          },
          "metadata": {},
          "execution_count": 24
        }
      ],
      "source": [
        "# l[:N] is equivalent to l[0:N].\n",
        "first_three = l[:3]\n",
        "first_three"
      ]
    },
    {
      "cell_type": "code",
      "execution_count": null,
      "metadata": {
        "id": "otoRjbK7iXcI",
        "outputId": "eaeaa134-84f3-4f4c-f237-80f9215308ef",
        "colab": {
          "base_uri": "https://localhost:8080/"
        }
      },
      "outputs": [
        {
          "output_type": "execute_result",
          "data": {
            "text/plain": [
              "[4, 5.0, 'six']"
            ]
          },
          "metadata": {},
          "execution_count": 25
        }
      ],
      "source": [
        "# l[3:] is equivalent to l[3:len(l)].\n",
        "after_three = l[3:]\n",
        "after_three"
      ]
    },
    {
      "cell_type": "code",
      "execution_count": null,
      "metadata": {
        "id": "2ZndPPspiXcJ",
        "outputId": "915f2d60-58a0-4328-d905-b6e98657d211",
        "colab": {
          "base_uri": "https://localhost:8080/"
        }
      },
      "outputs": [
        {
          "output_type": "execute_result",
          "data": {
            "text/plain": [
              "['b', 'd', 'f']"
            ]
          },
          "metadata": {},
          "execution_count": 26
        }
      ],
      "source": [
        "# There's also a third parameter, \"step\", which gets every Nth element.\n",
        "l = ['a', 'b', 'c', 'd', 'e', 'f', 'g','h']\n",
        "l[1:7:2]"
      ]
    },
    {
      "cell_type": "code",
      "execution_count": null,
      "metadata": {
        "id": "dt2OMhnZiXcJ",
        "outputId": "5446dc71-50ea-40b6-de1c-60dff4c3ff9e",
        "colab": {
          "base_uri": "https://localhost:8080/"
        }
      },
      "outputs": [
        {
          "output_type": "execute_result",
          "data": {
            "text/plain": [
              "['h', 'g', 'f', 'e', 'd', 'c', 'b', 'a']"
            ]
          },
          "metadata": {},
          "execution_count": 27
        }
      ],
      "source": [
        "# This is a cute way to reverse a list.\n",
        "l[::-1]"
      ]
    },
    {
      "cell_type": "code",
      "execution_count": null,
      "metadata": {
        "id": "uDIdawFwiXcJ",
        "outputId": "c534da4a-b69f-462e-9de3-a8cc21378c67",
        "colab": {
          "base_uri": "https://localhost:8080/"
        }
      },
      "outputs": [
        {
          "output_type": "stream",
          "name": "stdout",
          "text": [
            "Before: [1, 2, 3, 4, 5]\n",
            "After: [1, 2, 3, 4, 5, 'six']\n"
          ]
        }
      ],
      "source": [
        "# Lists can be grown efficiently (in O(1) amortized time).\n",
        "l = [1, 2, 3, 4, 5]\n",
        "print(\"Before:\", l)\n",
        "l.append('six')\n",
        "print(\"After:\", l)"
      ]
    },
    {
      "cell_type": "code",
      "execution_count": null,
      "metadata": {
        "id": "OIhO0xxUiXcK",
        "outputId": "fbb99707-b94e-49f4-843f-217e32d6cb21",
        "colab": {
          "base_uri": "https://localhost:8080/"
        }
      },
      "outputs": [
        {
          "output_type": "execute_result",
          "data": {
            "text/plain": [
              "[2, 4, 6, 8, 10]"
            ]
          },
          "metadata": {},
          "execution_count": 29
        }
      ],
      "source": [
        "# Comprehensions let us perform elementwise computations.\n",
        "l = [1, 2, 3, 4, 5]\n",
        "[x * 2 for x in l]"
      ]
    },
    {
      "cell_type": "markdown",
      "metadata": {
        "ein.tags": "worksheet-0",
        "id": "gh1Uw4KtiXcK"
      },
      "source": [
        "## Review: Python Lists\n",
        "\n",
        "- Zero-indexed sequence of arbitrary Python values.\n",
        "- Slicing syntax: `l[start:stop:step]` copies elements at regular intervals from `start` to `stop`.\n",
        "- Efficient (`O(1)`) appends and removes from end.\n",
        "- Comprehension syntax: `[f(x) for x in l if cond(x)]`."
      ]
    },
    {
      "cell_type": "markdown",
      "metadata": {
        "id": "KPeFQQs5iXcK"
      },
      "source": [
        "# Dictionaries"
      ]
    },
    {
      "cell_type": "code",
      "execution_count": null,
      "metadata": {
        "id": "55GAxN3AiXcL",
        "outputId": "1b6d1b3d-b284-4be7-cc71-dae581c4ebad",
        "colab": {
          "base_uri": "https://localhost:8080/"
        }
      },
      "outputs": [
        {
          "output_type": "execute_result",
          "data": {
            "text/plain": [
              "{'David': 'Hume', 'Immanuel': 'Kant', 'Bertrand': 'Russell'}"
            ]
          },
          "metadata": {},
          "execution_count": 30
        }
      ],
      "source": [
        "# Dictionaries are key-value mappings.\n",
        "philosophers = {'David': 'Hume', 'Immanuel': 'Kant', 'Bertrand': 'Russell'}\n",
        "philosophers"
      ]
    },
    {
      "cell_type": "code",
      "execution_count": null,
      "metadata": {
        "id": "V3JS2kHSiXcL",
        "outputId": "2fc6840f-48cf-4e3e-fe82-9dec2a297adb",
        "colab": {
          "base_uri": "https://localhost:8080/"
        }
      },
      "outputs": [
        {
          "output_type": "execute_result",
          "data": {
            "text/plain": [
              "{'David': 'Hume',\n",
              " 'Immanuel': 'Kant',\n",
              " 'Bertrand': 'Russell',\n",
              " 'Ludwig': 'Wittgenstein'}"
            ]
          },
          "metadata": {},
          "execution_count": 31
        }
      ],
      "source": [
        "# Like lists, dictionaries are size-mutable.\n",
        "philosophers['Ludwig'] = 'Wittgenstein'\n",
        "philosophers"
      ]
    },
    {
      "cell_type": "code",
      "execution_count": null,
      "metadata": {
        "id": "YRGePTociXcL",
        "outputId": "8f910909-a0d4-459f-c271-d7135213e723",
        "colab": {
          "base_uri": "https://localhost:8080/"
        }
      },
      "outputs": [
        {
          "output_type": "execute_result",
          "data": {
            "text/plain": [
              "{'Immanuel': 'Kant', 'Bertrand': 'Russell', 'Ludwig': 'Wittgenstein'}"
            ]
          },
          "metadata": {},
          "execution_count": 32
        }
      ],
      "source": [
        "del philosophers['David']\n",
        "philosophers"
      ]
    },
    {
      "cell_type": "code",
      "execution_count": null,
      "metadata": {
        "id": "2E4f_6pQiXcM",
        "outputId": "01bfccce-f3e6-4b48-f4f1-4ac928eaa5d9",
        "colab": {
          "base_uri": "https://localhost:8080/",
          "height": 183
        }
      },
      "outputs": [
        {
          "output_type": "error",
          "ename": "TypeError",
          "evalue": "ignored",
          "traceback": [
            "\u001b[0;31m---------------------------------------------------------------------------\u001b[0m",
            "\u001b[0;31mTypeError\u001b[0m                                 Traceback (most recent call last)",
            "\u001b[0;32m<ipython-input-33-042d882bd6b0>\u001b[0m in \u001b[0;36m<module>\u001b[0;34m\u001b[0m\n\u001b[1;32m      1\u001b[0m \u001b[0;31m# No slicing.\u001b[0m\u001b[0;34m\u001b[0m\u001b[0;34m\u001b[0m\u001b[0;34m\u001b[0m\u001b[0m\n\u001b[0;32m----> 2\u001b[0;31m \u001b[0mphilosophers\u001b[0m\u001b[0;34m[\u001b[0m\u001b[0;34m'Bertrand'\u001b[0m\u001b[0;34m:\u001b[0m\u001b[0;34m'Immanuel'\u001b[0m\u001b[0;34m]\u001b[0m\u001b[0;34m\u001b[0m\u001b[0;34m\u001b[0m\u001b[0m\n\u001b[0m",
            "\u001b[0;31mTypeError\u001b[0m: unhashable type: 'slice'"
          ]
        }
      ],
      "source": [
        "# No slicing.\n",
        "philosophers['Bertrand':'Immanuel']"
      ]
    },
    {
      "cell_type": "markdown",
      "metadata": {
        "ein.tags": "worksheet-0",
        "id": "xvN8eqK2iXcM"
      },
      "source": [
        "## Review: Python Dictionaries\n",
        "\n",
        "- Unordered key-value mapping from (almost) arbitrary keys to arbitrary values.\n",
        "- Efficient (`O(1)`) lookup, insertion, and deletion.\n",
        "- No slicing (would require a notion of order)."
      ]
    },
    {
      "cell_type": "markdown",
      "metadata": {
        "id": "3C9gwhYDiXcM"
      },
      "source": [
        "<center><img src=\"https://raw.githubusercontent.com/ssanderson/pydata-toolbox/master/notebooks/images/pacino.gif\" alt=\"Drawing\" style=\"width: 100%;\"/></center>\n"
      ]
    },
    {
      "cell_type": "code",
      "execution_count": null,
      "metadata": {
        "collapsed": true,
        "id": "eqFZgJyyiXcM"
      },
      "outputs": [],
      "source": [
        "# Suppose we have some matrices...\n",
        "a = [[1, 2, 3],\n",
        "     [2, 3, 4],\n",
        "     [5, 6, 7],\n",
        "     [1, 1, 1]]\n",
        "\n",
        "b = [[1, 2, 3, 4],\n",
        "     [2, 3, 4, 5]]"
      ]
    },
    {
      "cell_type": "code",
      "execution_count": null,
      "metadata": {
        "collapsed": true,
        "id": "TfFqABAMiXcM"
      },
      "outputs": [],
      "source": [
        "def matmul(A, B):\n",
        "    \"\"\"Multiply matrix A by matrix B.\"\"\"\n",
        "    rows_out = len(A)\n",
        "    cols_out = len(B[0])\n",
        "    out = [[0 for col in range(cols_out)] for row in range(rows_out)]\n",
        "    \n",
        "    for i in range(rows_out):\n",
        "        for j in range(cols_out):\n",
        "            for k in range(len(B)):\n",
        "                out[i][j] += A[i][k] * B[k][j]\n",
        "    return out"
      ]
    },
    {
      "cell_type": "markdown",
      "metadata": {
        "id": "Yuee_jmYiXcN"
      },
      "source": [
        "<center><img src=\"https://raw.githubusercontent.com/ssanderson/pydata-toolbox/master/notebooks/images/gross.gif\" alt=\"Drawing\" style=\"width: 50%;\"/></center>\n"
      ]
    },
    {
      "cell_type": "code",
      "execution_count": null,
      "metadata": {
        "id": "PerN-NDRiXcN",
        "colab": {
          "base_uri": "https://localhost:8080/"
        },
        "outputId": "6393d595-e9ec-4ff9-dcd7-4a58781e703b"
      },
      "outputs": [
        {
          "output_type": "stream",
          "name": "stdout",
          "text": [
            "CPU times: user 22 µs, sys: 4 µs, total: 26 µs\n",
            "Wall time: 29.6 µs\n"
          ]
        },
        {
          "output_type": "execute_result",
          "data": {
            "text/plain": [
              "[[5, 8, 11, 14], [8, 13, 18, 23], [17, 28, 39, 50], [3, 5, 7, 9]]"
            ]
          },
          "metadata": {},
          "execution_count": 5
        }
      ],
      "source": [
        "%%time\n",
        "\n",
        "matmul(a, b)"
      ]
    },
    {
      "cell_type": "markdown",
      "source": [
        "**My own example 1 - Changing in matmul(A, B) Python len(B) (# of rows of B) for len(A[0]) (# of columns of A)**"
      ],
      "metadata": {
        "id": "EFlf_ZLgsUEo"
      }
    },
    {
      "cell_type": "code",
      "source": [
        "def newmatmul(A, B):\n",
        "    \"\"\"Multiply matrix A by matrix B.\"\"\"\n",
        "    rows_out = len(A)\n",
        "    cols_out = len(B[0])\n",
        "    out = [[0 for col in range(cols_out)] for row in range(rows_out)]\n",
        "    \n",
        "    for i in range(rows_out):\n",
        "        for j in range(cols_out):\n",
        "            for k in range(len(A[0])):\n",
        "                out[i][j] += A[i][k] * B[k][j]\n",
        "    return out"
      ],
      "metadata": {
        "id": "T71BRNaG3fev"
      },
      "execution_count": null,
      "outputs": []
    },
    {
      "cell_type": "markdown",
      "source": [
        "**My own example 2 - Verifiying error with in matmul(A, B) Python with the original matrices when changing len(B) (# of rows of B) for len(A[0]) (# of colums of A)**"
      ],
      "metadata": {
        "id": "8sLiMfvlUJzp"
      }
    },
    {
      "cell_type": "code",
      "source": [
        "%%time\n",
        "newmatmul(a,b)"
      ],
      "metadata": {
        "id": "HjyOAFQW3gc3",
        "colab": {
          "base_uri": "https://localhost:8080/",
          "height": 252
        },
        "outputId": "74c1943f-f331-4679-cdfc-665a6c878a39"
      },
      "execution_count": null,
      "outputs": [
        {
          "output_type": "error",
          "ename": "IndexError",
          "evalue": "ignored",
          "traceback": [
            "\u001b[0;31m---------------------------------------------------------------------------\u001b[0m",
            "\u001b[0;31mIndexError\u001b[0m                                Traceback (most recent call last)",
            "\u001b[0;32m<timed eval>\u001b[0m in \u001b[0;36m<module>\u001b[0;34m\u001b[0m\n",
            "\u001b[0;32m<ipython-input-6-88cceb068f70>\u001b[0m in \u001b[0;36mnewmatmul\u001b[0;34m(A, B)\u001b[0m\n\u001b[1;32m      8\u001b[0m         \u001b[0;32mfor\u001b[0m \u001b[0mj\u001b[0m \u001b[0;32min\u001b[0m \u001b[0mrange\u001b[0m\u001b[0;34m(\u001b[0m\u001b[0mcols_out\u001b[0m\u001b[0;34m)\u001b[0m\u001b[0;34m:\u001b[0m\u001b[0;34m\u001b[0m\u001b[0;34m\u001b[0m\u001b[0m\n\u001b[1;32m      9\u001b[0m             \u001b[0;32mfor\u001b[0m \u001b[0mk\u001b[0m \u001b[0;32min\u001b[0m \u001b[0mrange\u001b[0m\u001b[0;34m(\u001b[0m\u001b[0mlen\u001b[0m\u001b[0;34m(\u001b[0m\u001b[0mA\u001b[0m\u001b[0;34m[\u001b[0m\u001b[0;36m0\u001b[0m\u001b[0;34m]\u001b[0m\u001b[0;34m)\u001b[0m\u001b[0;34m)\u001b[0m\u001b[0;34m:\u001b[0m\u001b[0;34m\u001b[0m\u001b[0;34m\u001b[0m\u001b[0m\n\u001b[0;32m---> 10\u001b[0;31m                 \u001b[0mout\u001b[0m\u001b[0;34m[\u001b[0m\u001b[0mi\u001b[0m\u001b[0;34m]\u001b[0m\u001b[0;34m[\u001b[0m\u001b[0mj\u001b[0m\u001b[0;34m]\u001b[0m \u001b[0;34m+=\u001b[0m \u001b[0mA\u001b[0m\u001b[0;34m[\u001b[0m\u001b[0mi\u001b[0m\u001b[0;34m]\u001b[0m\u001b[0;34m[\u001b[0m\u001b[0mk\u001b[0m\u001b[0;34m]\u001b[0m \u001b[0;34m*\u001b[0m \u001b[0mB\u001b[0m\u001b[0;34m[\u001b[0m\u001b[0mk\u001b[0m\u001b[0;34m]\u001b[0m\u001b[0;34m[\u001b[0m\u001b[0mj\u001b[0m\u001b[0;34m]\u001b[0m\u001b[0;34m\u001b[0m\u001b[0;34m\u001b[0m\u001b[0m\n\u001b[0m\u001b[1;32m     11\u001b[0m     \u001b[0;32mreturn\u001b[0m \u001b[0mout\u001b[0m\u001b[0;34m\u001b[0m\u001b[0;34m\u001b[0m\u001b[0m\n",
            "\u001b[0;31mIndexError\u001b[0m: list index out of range"
          ]
        }
      ]
    },
    {
      "cell_type": "markdown",
      "source": [
        "**My own example 3 - Chekcing the mtarix multiplication compatibility condition  len(A[0]) == len(B)**"
      ],
      "metadata": {
        "id": "AGztFKBNuQ_e"
      }
    },
    {
      "cell_type": "code",
      "source": [
        "len(a[0]) == len(b)"
      ],
      "metadata": {
        "id": "4rgHkUNC3haX",
        "colab": {
          "base_uri": "https://localhost:8080/"
        },
        "outputId": "ac9d0c44-51ea-4b0e-d6d9-25328134c178"
      },
      "execution_count": null,
      "outputs": [
        {
          "output_type": "execute_result",
          "data": {
            "text/plain": [
              "False"
            ]
          },
          "metadata": {},
          "execution_count": 8
        }
      ]
    },
    {
      "cell_type": "markdown",
      "source": [
        "**My own example 4 -  Verifiying error with in matmul(A, B) Python when checking the mtarix multiplication compatibility condition  len(A[0]) == len(B)**"
      ],
      "metadata": {
        "id": "A4SoDNPpuZpp"
      }
    },
    {
      "cell_type": "code",
      "source": [
        "newmatmul(a,b)"
      ],
      "metadata": {
        "id": "wpnd21c83jQI",
        "colab": {
          "base_uri": "https://localhost:8080/",
          "height": 269
        },
        "outputId": "11180c30-c367-4df2-f3d0-fea2887de448"
      },
      "execution_count": null,
      "outputs": [
        {
          "output_type": "error",
          "ename": "IndexError",
          "evalue": "ignored",
          "traceback": [
            "\u001b[0;31m---------------------------------------------------------------------------\u001b[0m",
            "\u001b[0;31mIndexError\u001b[0m                                Traceback (most recent call last)",
            "\u001b[0;32m<ipython-input-9-19495cc9cd23>\u001b[0m in \u001b[0;36m<module>\u001b[0;34m\u001b[0m\n\u001b[0;32m----> 1\u001b[0;31m \u001b[0mnewmatmul\u001b[0m\u001b[0;34m(\u001b[0m\u001b[0ma\u001b[0m\u001b[0;34m,\u001b[0m\u001b[0mb\u001b[0m\u001b[0;34m)\u001b[0m\u001b[0;34m\u001b[0m\u001b[0;34m\u001b[0m\u001b[0m\n\u001b[0m",
            "\u001b[0;32m<ipython-input-6-88cceb068f70>\u001b[0m in \u001b[0;36mnewmatmul\u001b[0;34m(A, B)\u001b[0m\n\u001b[1;32m      8\u001b[0m         \u001b[0;32mfor\u001b[0m \u001b[0mj\u001b[0m \u001b[0;32min\u001b[0m \u001b[0mrange\u001b[0m\u001b[0;34m(\u001b[0m\u001b[0mcols_out\u001b[0m\u001b[0;34m)\u001b[0m\u001b[0;34m:\u001b[0m\u001b[0;34m\u001b[0m\u001b[0;34m\u001b[0m\u001b[0m\n\u001b[1;32m      9\u001b[0m             \u001b[0;32mfor\u001b[0m \u001b[0mk\u001b[0m \u001b[0;32min\u001b[0m \u001b[0mrange\u001b[0m\u001b[0;34m(\u001b[0m\u001b[0mlen\u001b[0m\u001b[0;34m(\u001b[0m\u001b[0mA\u001b[0m\u001b[0;34m[\u001b[0m\u001b[0;36m0\u001b[0m\u001b[0;34m]\u001b[0m\u001b[0;34m)\u001b[0m\u001b[0;34m)\u001b[0m\u001b[0;34m:\u001b[0m\u001b[0;34m\u001b[0m\u001b[0;34m\u001b[0m\u001b[0m\n\u001b[0;32m---> 10\u001b[0;31m                 \u001b[0mout\u001b[0m\u001b[0;34m[\u001b[0m\u001b[0mi\u001b[0m\u001b[0;34m]\u001b[0m\u001b[0;34m[\u001b[0m\u001b[0mj\u001b[0m\u001b[0;34m]\u001b[0m \u001b[0;34m+=\u001b[0m \u001b[0mA\u001b[0m\u001b[0;34m[\u001b[0m\u001b[0mi\u001b[0m\u001b[0;34m]\u001b[0m\u001b[0;34m[\u001b[0m\u001b[0mk\u001b[0m\u001b[0;34m]\u001b[0m \u001b[0;34m*\u001b[0m \u001b[0mB\u001b[0m\u001b[0;34m[\u001b[0m\u001b[0mk\u001b[0m\u001b[0;34m]\u001b[0m\u001b[0;34m[\u001b[0m\u001b[0mj\u001b[0m\u001b[0;34m]\u001b[0m\u001b[0;34m\u001b[0m\u001b[0;34m\u001b[0m\u001b[0m\n\u001b[0m\u001b[1;32m     11\u001b[0m     \u001b[0;32mreturn\u001b[0m \u001b[0mout\u001b[0m\u001b[0;34m\u001b[0m\u001b[0;34m\u001b[0m\u001b[0m\n",
            "\u001b[0;31mIndexError\u001b[0m: list index out of range"
          ]
        }
      ]
    },
    {
      "cell_type": "markdown",
      "source": [
        "**My own example 5 - Deifining A and B that are compatiible for multiplcation**"
      ],
      "metadata": {
        "id": "MZTTYVu0ufCY"
      }
    },
    {
      "cell_type": "code",
      "source": [
        "a5 = [[1, 2, 3],\n",
        "     [2, 3, 4],\n",
        "     [5, 6, 7],\n",
        "     [1, 1, 1]]\n",
        "\n",
        "b5 = [[1, 2, 3, 4],\n",
        "     [2, 3, 4, 5],\n",
        "      [6, 7, 8, 9]]"
      ],
      "metadata": {
        "id": "q8nHrWQz3kby"
      },
      "execution_count": null,
      "outputs": []
    },
    {
      "cell_type": "markdown",
      "source": [
        "**My own example 6 - Runinng the correct Python matrix multiplication code with the matrices with dimensions compatible for multiplication.**"
      ],
      "metadata": {
        "id": "GM5DAXUIuhEg"
      }
    },
    {
      "cell_type": "code",
      "source": [
        "newmatmul(a5,b5)"
      ],
      "metadata": {
        "id": "Ip600JFN3qHX",
        "colab": {
          "base_uri": "https://localhost:8080/"
        },
        "outputId": "cd5bc046-6cd4-409d-b054-364ff54e898d"
      },
      "execution_count": null,
      "outputs": [
        {
          "output_type": "execute_result",
          "data": {
            "text/plain": [
              "[[23, 29, 35, 41], [32, 41, 50, 59], [59, 77, 95, 113], [9, 12, 15, 18]]"
            ]
          },
          "metadata": {},
          "execution_count": 11
        }
      ]
    },
    {
      "cell_type": "code",
      "execution_count": null,
      "metadata": {
        "id": "X1tnwMvd3bIP",
        "colab": {
          "base_uri": "https://localhost:8080/"
        },
        "outputId": "90598877-7c6c-4c8f-f458-b89784700bde"
      },
      "outputs": [
        {
          "output_type": "execute_result",
          "data": {
            "text/plain": [
              "[[0.3757003311392968,\n",
              "  0.048588641380974185,\n",
              "  0.08478168018052834,\n",
              "  0.5072409949895608],\n",
              " [0.3088008658681636,\n",
              "  0.7062205597862199,\n",
              "  0.22589640225515062,\n",
              "  0.029588794883133596],\n",
              " [0.01839349720378014,\n",
              "  0.7719034965423391,\n",
              "  0.13394367263644558,\n",
              "  0.013052505293708494]]"
            ]
          },
          "metadata": {},
          "execution_count": 12
        }
      ],
      "source": [
        "import random\n",
        "def random_matrix(m, n):\n",
        "    out = []\n",
        "    for row in range(m):\n",
        "        out.append([random.random() for _ in range(n)])\n",
        "    return out\n",
        "\n",
        "randm = random_matrix(3, 4)\n",
        "randm"
      ]
    },
    {
      "cell_type": "markdown",
      "source": [
        "**My own example 7 - Running 10 times matmul(randa, randb) with randa and randb a randon matrices of 600 x 100 and 100 x 600 and calulating the average execution time**"
      ],
      "metadata": {
        "id": "3-eUeNjHhHP7"
      }
    },
    {
      "cell_type": "code",
      "source": [
        "randa = random_matrix(600,100)\n",
        "randb = random_matrix(100,600)"
      ],
      "metadata": {
        "id": "M-e3aEaU37_H"
      },
      "execution_count": null,
      "outputs": []
    },
    {
      "cell_type": "code",
      "source": [
        "def newmatmuls(A, B):\n",
        "    \"\"\"Multiply matrix A by matrix B.\"\"\"\n",
        "    rows_out = len(A)\n",
        "    cols_out = len(B[0])\n",
        "    out = [[0 for col in range(cols_out)] for row in range(rows_out)]\n",
        "    \n",
        "    for i in range(rows_out):\n",
        "        for j in range(cols_out):\n",
        "            for k in range(len(A[0])):\n",
        "                out[i][j] += A[i][k] * B[k][j]\n",
        "    print(\"Multiplication ended\")"
      ],
      "metadata": {
        "id": "XeY_yqp8bMI7"
      },
      "execution_count": null,
      "outputs": []
    },
    {
      "cell_type": "code",
      "source": [
        "%%time\n",
        "newmatmuls(randa,randb)"
      ],
      "metadata": {
        "colab": {
          "base_uri": "https://localhost:8080/"
        },
        "id": "KCvSAEo_ckdb",
        "outputId": "e0ca7f1b-8ed8-4443-b051-38f20d9a8f3f"
      },
      "execution_count": null,
      "outputs": [
        {
          "output_type": "stream",
          "name": "stdout",
          "text": [
            "Multiplication ended\n",
            "CPU times: user 9.66 s, sys: 35.9 ms, total: 9.69 s\n",
            "Wall time: 9.86 s\n"
          ]
        }
      ]
    },
    {
      "cell_type": "code",
      "source": [
        "%%time\n",
        "for i in range(10):\n",
        "  newmatmuls(randa,randb)\n",
        "  randa = random_matrix(600,100)\n",
        "  randb = random_matrix(100,600)"
      ],
      "metadata": {
        "colab": {
          "base_uri": "https://localhost:8080/"
        },
        "id": "GnZK-fZ7a05h",
        "outputId": "10aef24b-147d-4358-ec4a-3c1eca44b6a5"
      },
      "execution_count": null,
      "outputs": [
        {
          "output_type": "stream",
          "name": "stdout",
          "text": [
            "Multiplication ended\n",
            "Multiplication ended\n",
            "Multiplication ended\n",
            "Multiplication ended\n",
            "Multiplication ended\n",
            "Multiplication ended\n",
            "Multiplication ended\n",
            "Multiplication ended\n",
            "Multiplication ended\n",
            "Multiplication ended\n",
            "CPU times: user 1min 29s, sys: 225 ms, total: 1min 30s\n",
            "Wall time: 1min 30s\n"
          ]
        }
      ]
    },
    {
      "cell_type": "code",
      "source": [
        "promedioPy = 9100 // 10\n",
        "promedioPy"
      ],
      "metadata": {
        "colab": {
          "base_uri": "https://localhost:8080/"
        },
        "id": "NzO3Yrv7cGTw",
        "outputId": "8e7272f6-d01a-46ef-f4c9-0bd757a83f07"
      },
      "execution_count": null,
      "outputs": [
        {
          "output_type": "execute_result",
          "data": {
            "text/plain": [
              "910"
            ]
          },
          "metadata": {},
          "execution_count": 17
        }
      ]
    },
    {
      "cell_type": "markdown",
      "source": [
        "**My own example 8 - Creating the average execution time data frame and adding Python's average execution time**"
      ],
      "metadata": {
        "id": "FXisJPNSN-Tf"
      }
    },
    {
      "cell_type": "code",
      "source": [
        "import pandas as pd\n",
        "pyAvg = {\n",
        "  \"Time (ms)\": [910]\n",
        "}\n",
        "\n",
        "avgExec = pd.DataFrame(pyAvg, index = [\"Python\"])\n",
        "avgExec"
      ],
      "metadata": {
        "id": "2fK25g003-ww",
        "colab": {
          "base_uri": "https://localhost:8080/",
          "height": 81
        },
        "outputId": "15fcb7c5-ab3c-449e-cc01-84ded063c6a1"
      },
      "execution_count": null,
      "outputs": [
        {
          "output_type": "execute_result",
          "data": {
            "text/plain": [
              "        Time (ms)\n",
              "Python        910"
            ],
            "text/html": [
              "\n",
              "  <div id=\"df-39f0fe4d-1cd0-4f1e-8296-493156632147\">\n",
              "    <div class=\"colab-df-container\">\n",
              "      <div>\n",
              "<style scoped>\n",
              "    .dataframe tbody tr th:only-of-type {\n",
              "        vertical-align: middle;\n",
              "    }\n",
              "\n",
              "    .dataframe tbody tr th {\n",
              "        vertical-align: top;\n",
              "    }\n",
              "\n",
              "    .dataframe thead th {\n",
              "        text-align: right;\n",
              "    }\n",
              "</style>\n",
              "<table border=\"1\" class=\"dataframe\">\n",
              "  <thead>\n",
              "    <tr style=\"text-align: right;\">\n",
              "      <th></th>\n",
              "      <th>Time (ms)</th>\n",
              "    </tr>\n",
              "  </thead>\n",
              "  <tbody>\n",
              "    <tr>\n",
              "      <th>Python</th>\n",
              "      <td>910</td>\n",
              "    </tr>\n",
              "  </tbody>\n",
              "</table>\n",
              "</div>\n",
              "      <button class=\"colab-df-convert\" onclick=\"convertToInteractive('df-39f0fe4d-1cd0-4f1e-8296-493156632147')\"\n",
              "              title=\"Convert this dataframe to an interactive table.\"\n",
              "              style=\"display:none;\">\n",
              "        \n",
              "  <svg xmlns=\"http://www.w3.org/2000/svg\" height=\"24px\"viewBox=\"0 0 24 24\"\n",
              "       width=\"24px\">\n",
              "    <path d=\"M0 0h24v24H0V0z\" fill=\"none\"/>\n",
              "    <path d=\"M18.56 5.44l.94 2.06.94-2.06 2.06-.94-2.06-.94-.94-2.06-.94 2.06-2.06.94zm-11 1L8.5 8.5l.94-2.06 2.06-.94-2.06-.94L8.5 2.5l-.94 2.06-2.06.94zm10 10l.94 2.06.94-2.06 2.06-.94-2.06-.94-.94-2.06-.94 2.06-2.06.94z\"/><path d=\"M17.41 7.96l-1.37-1.37c-.4-.4-.92-.59-1.43-.59-.52 0-1.04.2-1.43.59L10.3 9.45l-7.72 7.72c-.78.78-.78 2.05 0 2.83L4 21.41c.39.39.9.59 1.41.59.51 0 1.02-.2 1.41-.59l7.78-7.78 2.81-2.81c.8-.78.8-2.07 0-2.86zM5.41 20L4 18.59l7.72-7.72 1.47 1.35L5.41 20z\"/>\n",
              "  </svg>\n",
              "      </button>\n",
              "      \n",
              "  <style>\n",
              "    .colab-df-container {\n",
              "      display:flex;\n",
              "      flex-wrap:wrap;\n",
              "      gap: 12px;\n",
              "    }\n",
              "\n",
              "    .colab-df-convert {\n",
              "      background-color: #E8F0FE;\n",
              "      border: none;\n",
              "      border-radius: 50%;\n",
              "      cursor: pointer;\n",
              "      display: none;\n",
              "      fill: #1967D2;\n",
              "      height: 32px;\n",
              "      padding: 0 0 0 0;\n",
              "      width: 32px;\n",
              "    }\n",
              "\n",
              "    .colab-df-convert:hover {\n",
              "      background-color: #E2EBFA;\n",
              "      box-shadow: 0px 1px 2px rgba(60, 64, 67, 0.3), 0px 1px 3px 1px rgba(60, 64, 67, 0.15);\n",
              "      fill: #174EA6;\n",
              "    }\n",
              "\n",
              "    [theme=dark] .colab-df-convert {\n",
              "      background-color: #3B4455;\n",
              "      fill: #D2E3FC;\n",
              "    }\n",
              "\n",
              "    [theme=dark] .colab-df-convert:hover {\n",
              "      background-color: #434B5C;\n",
              "      box-shadow: 0px 1px 3px 1px rgba(0, 0, 0, 0.15);\n",
              "      filter: drop-shadow(0px 1px 2px rgba(0, 0, 0, 0.3));\n",
              "      fill: #FFFFFF;\n",
              "    }\n",
              "  </style>\n",
              "\n",
              "      <script>\n",
              "        const buttonEl =\n",
              "          document.querySelector('#df-39f0fe4d-1cd0-4f1e-8296-493156632147 button.colab-df-convert');\n",
              "        buttonEl.style.display =\n",
              "          google.colab.kernel.accessAllowed ? 'block' : 'none';\n",
              "\n",
              "        async function convertToInteractive(key) {\n",
              "          const element = document.querySelector('#df-39f0fe4d-1cd0-4f1e-8296-493156632147');\n",
              "          const dataTable =\n",
              "            await google.colab.kernel.invokeFunction('convertToInteractive',\n",
              "                                                     [key], {});\n",
              "          if (!dataTable) return;\n",
              "\n",
              "          const docLinkHtml = 'Like what you see? Visit the ' +\n",
              "            '<a target=\"_blank\" href=https://colab.research.google.com/notebooks/data_table.ipynb>data table notebook</a>'\n",
              "            + ' to learn more about interactive tables.';\n",
              "          element.innerHTML = '';\n",
              "          dataTable['output_type'] = 'display_data';\n",
              "          await google.colab.output.renderOutput(dataTable, element);\n",
              "          const docLink = document.createElement('div');\n",
              "          docLink.innerHTML = docLinkHtml;\n",
              "          element.appendChild(docLink);\n",
              "        }\n",
              "      </script>\n",
              "    </div>\n",
              "  </div>\n",
              "  "
            ]
          },
          "metadata": {},
          "execution_count": 18
        }
      ]
    },
    {
      "cell_type": "markdown",
      "source": [
        "**My own example 9 - Running 10 times randa and randb mutiplicaction as NumPy arrays  adding NumPy's average execution time**"
      ],
      "metadata": {
        "id": "OiFYD3tghLcL"
      }
    },
    {
      "cell_type": "code",
      "source": [
        "%%time\n",
        "randa = np.array(random_matrix(600,100))\n",
        "randb = np.array(random_matrix(100,600))\n",
        "\n",
        "for i in range(10):\n",
        "  randa@randb\n",
        "\n"
      ],
      "metadata": {
        "id": "bHX4icJx5KZo",
        "colab": {
          "base_uri": "https://localhost:8080/"
        },
        "outputId": "63c0ac91-1a9d-42ae-a27d-0f58ed7b5e01"
      },
      "execution_count": null,
      "outputs": [
        {
          "output_type": "stream",
          "name": "stdout",
          "text": [
            "CPU times: user 82.4 ms, sys: 7.99 ms, total: 90.4 ms\n",
            "Wall time: 68.6 ms\n"
          ]
        }
      ]
    },
    {
      "cell_type": "code",
      "source": [
        "avgExec.loc[\"Numpy\"] = [62.3]\n",
        "avgExec"
      ],
      "metadata": {
        "colab": {
          "base_uri": "https://localhost:8080/",
          "height": 112
        },
        "id": "xNThVF7vgfRR",
        "outputId": "da16e5d6-a384-4a8b-8cff-09726851c600"
      },
      "execution_count": null,
      "outputs": [
        {
          "output_type": "execute_result",
          "data": {
            "text/plain": [
              "        Time (ms)\n",
              "Python      910.0\n",
              "Numpy        62.3"
            ],
            "text/html": [
              "\n",
              "  <div id=\"df-3531f9d7-cd15-467d-bb7a-59cb48be61b4\">\n",
              "    <div class=\"colab-df-container\">\n",
              "      <div>\n",
              "<style scoped>\n",
              "    .dataframe tbody tr th:only-of-type {\n",
              "        vertical-align: middle;\n",
              "    }\n",
              "\n",
              "    .dataframe tbody tr th {\n",
              "        vertical-align: top;\n",
              "    }\n",
              "\n",
              "    .dataframe thead th {\n",
              "        text-align: right;\n",
              "    }\n",
              "</style>\n",
              "<table border=\"1\" class=\"dataframe\">\n",
              "  <thead>\n",
              "    <tr style=\"text-align: right;\">\n",
              "      <th></th>\n",
              "      <th>Time (ms)</th>\n",
              "    </tr>\n",
              "  </thead>\n",
              "  <tbody>\n",
              "    <tr>\n",
              "      <th>Python</th>\n",
              "      <td>910.0</td>\n",
              "    </tr>\n",
              "    <tr>\n",
              "      <th>Numpy</th>\n",
              "      <td>62.3</td>\n",
              "    </tr>\n",
              "  </tbody>\n",
              "</table>\n",
              "</div>\n",
              "      <button class=\"colab-df-convert\" onclick=\"convertToInteractive('df-3531f9d7-cd15-467d-bb7a-59cb48be61b4')\"\n",
              "              title=\"Convert this dataframe to an interactive table.\"\n",
              "              style=\"display:none;\">\n",
              "        \n",
              "  <svg xmlns=\"http://www.w3.org/2000/svg\" height=\"24px\"viewBox=\"0 0 24 24\"\n",
              "       width=\"24px\">\n",
              "    <path d=\"M0 0h24v24H0V0z\" fill=\"none\"/>\n",
              "    <path d=\"M18.56 5.44l.94 2.06.94-2.06 2.06-.94-2.06-.94-.94-2.06-.94 2.06-2.06.94zm-11 1L8.5 8.5l.94-2.06 2.06-.94-2.06-.94L8.5 2.5l-.94 2.06-2.06.94zm10 10l.94 2.06.94-2.06 2.06-.94-2.06-.94-.94-2.06-.94 2.06-2.06.94z\"/><path d=\"M17.41 7.96l-1.37-1.37c-.4-.4-.92-.59-1.43-.59-.52 0-1.04.2-1.43.59L10.3 9.45l-7.72 7.72c-.78.78-.78 2.05 0 2.83L4 21.41c.39.39.9.59 1.41.59.51 0 1.02-.2 1.41-.59l7.78-7.78 2.81-2.81c.8-.78.8-2.07 0-2.86zM5.41 20L4 18.59l7.72-7.72 1.47 1.35L5.41 20z\"/>\n",
              "  </svg>\n",
              "      </button>\n",
              "      \n",
              "  <style>\n",
              "    .colab-df-container {\n",
              "      display:flex;\n",
              "      flex-wrap:wrap;\n",
              "      gap: 12px;\n",
              "    }\n",
              "\n",
              "    .colab-df-convert {\n",
              "      background-color: #E8F0FE;\n",
              "      border: none;\n",
              "      border-radius: 50%;\n",
              "      cursor: pointer;\n",
              "      display: none;\n",
              "      fill: #1967D2;\n",
              "      height: 32px;\n",
              "      padding: 0 0 0 0;\n",
              "      width: 32px;\n",
              "    }\n",
              "\n",
              "    .colab-df-convert:hover {\n",
              "      background-color: #E2EBFA;\n",
              "      box-shadow: 0px 1px 2px rgba(60, 64, 67, 0.3), 0px 1px 3px 1px rgba(60, 64, 67, 0.15);\n",
              "      fill: #174EA6;\n",
              "    }\n",
              "\n",
              "    [theme=dark] .colab-df-convert {\n",
              "      background-color: #3B4455;\n",
              "      fill: #D2E3FC;\n",
              "    }\n",
              "\n",
              "    [theme=dark] .colab-df-convert:hover {\n",
              "      background-color: #434B5C;\n",
              "      box-shadow: 0px 1px 3px 1px rgba(0, 0, 0, 0.15);\n",
              "      filter: drop-shadow(0px 1px 2px rgba(0, 0, 0, 0.3));\n",
              "      fill: #FFFFFF;\n",
              "    }\n",
              "  </style>\n",
              "\n",
              "      <script>\n",
              "        const buttonEl =\n",
              "          document.querySelector('#df-3531f9d7-cd15-467d-bb7a-59cb48be61b4 button.colab-df-convert');\n",
              "        buttonEl.style.display =\n",
              "          google.colab.kernel.accessAllowed ? 'block' : 'none';\n",
              "\n",
              "        async function convertToInteractive(key) {\n",
              "          const element = document.querySelector('#df-3531f9d7-cd15-467d-bb7a-59cb48be61b4');\n",
              "          const dataTable =\n",
              "            await google.colab.kernel.invokeFunction('convertToInteractive',\n",
              "                                                     [key], {});\n",
              "          if (!dataTable) return;\n",
              "\n",
              "          const docLinkHtml = 'Like what you see? Visit the ' +\n",
              "            '<a target=\"_blank\" href=https://colab.research.google.com/notebooks/data_table.ipynb>data table notebook</a>'\n",
              "            + ' to learn more about interactive tables.';\n",
              "          element.innerHTML = '';\n",
              "          dataTable['output_type'] = 'display_data';\n",
              "          await google.colab.output.renderOutput(dataTable, element);\n",
              "          const docLink = document.createElement('div');\n",
              "          docLink.innerHTML = docLinkHtml;\n",
              "          element.appendChild(docLink);\n",
              "        }\n",
              "      </script>\n",
              "    </div>\n",
              "  </div>\n",
              "  "
            ]
          },
          "metadata": {},
          "execution_count": 20
        }
      ]
    },
    {
      "cell_type": "code",
      "execution_count": null,
      "metadata": {
        "scrolled": true,
        "id": "M5czoKckiXcN",
        "outputId": "281eb7c4-c964-4e5a-cc0f-402866a7b3c0",
        "colab": {
          "base_uri": "https://localhost:8080/"
        }
      },
      "outputs": [
        {
          "output_type": "stream",
          "name": "stdout",
          "text": [
            "CPU times: user 6.81 s, sys: 66.1 ms, total: 6.87 s\n",
            "Wall time: 6.86 s\n"
          ]
        }
      ],
      "source": [
        "%%time\n",
        "randa = random_matrix(600, 100)\n",
        "randb = random_matrix(100, 600)\n",
        "x = matmul(randa, randb)"
      ]
    },
    {
      "cell_type": "code",
      "execution_count": null,
      "metadata": {
        "collapsed": true,
        "id": "hXy_q4S8iXcN"
      },
      "outputs": [],
      "source": [
        "# Maybe that's not that bad?  Let's try a simpler case.\n",
        "def python_dot_product(xs, ys):\n",
        "    return sum(x * y for x, y in zip(xs, ys))"
      ]
    },
    {
      "cell_type": "code",
      "execution_count": null,
      "metadata": {
        "collapsed": true,
        "id": "qylqVrbqiXcO"
      },
      "outputs": [],
      "source": [
        "%%fortran\n",
        "subroutine fortran_dot_product(xs, ys, result)\n",
        "    double precision, intent(in) :: xs(:)\n",
        "    double precision, intent(in) :: ys(:)\n",
        "    double precision, intent(out) :: result\n",
        "    \n",
        "    result = sum(xs * ys)\n",
        "end"
      ]
    },
    {
      "cell_type": "code",
      "execution_count": null,
      "metadata": {
        "collapsed": true,
        "id": "BGacVDX-iXcO"
      },
      "outputs": [],
      "source": [
        "list_data = [float(i) for i in range(100000)]\n",
        "array_data = np.array(list_data)"
      ]
    },
    {
      "cell_type": "code",
      "execution_count": null,
      "metadata": {
        "id": "aaZPRE4aiXcO",
        "outputId": "8a14cd40-d34d-428c-be98-01658da8ccd7",
        "colab": {
          "base_uri": "https://localhost:8080/"
        }
      },
      "outputs": [
        {
          "output_type": "stream",
          "name": "stdout",
          "text": [
            "CPU times: user 8.01 ms, sys: 0 ns, total: 8.01 ms\n",
            "Wall time: 8.33 ms\n"
          ]
        },
        {
          "output_type": "execute_result",
          "data": {
            "text/plain": [
              "333328333350000.0"
            ]
          },
          "metadata": {},
          "execution_count": 257
        }
      ],
      "source": [
        "%%time\n",
        "python_dot_product(list_data, list_data)"
      ]
    },
    {
      "cell_type": "code",
      "execution_count": null,
      "metadata": {
        "id": "e9tNvTwLiXcO",
        "outputId": "15788602-def2-4348-ce9b-f7324ea520b2",
        "colab": {
          "base_uri": "https://localhost:8080/"
        }
      },
      "outputs": [
        {
          "output_type": "stream",
          "name": "stdout",
          "text": [
            "CPU times: user 136 µs, sys: 5 µs, total: 141 µs\n",
            "Wall time: 147 µs\n"
          ]
        },
        {
          "output_type": "execute_result",
          "data": {
            "text/plain": [
              "333328333350000.0"
            ]
          },
          "metadata": {},
          "execution_count": 258
        }
      ],
      "source": [
        "%%time\n",
        "fortran_dot_product(array_data, array_data)"
      ]
    },
    {
      "cell_type": "markdown",
      "metadata": {
        "id": "qW-_Q7yuiXcO"
      },
      "source": [
        "<center><img src=\"https://raw.githubusercontent.com/ssanderson/pydata-toolbox/master/notebooks/images/sloth.gif\" alt=\"Drawing\" style=\"width: 1080px;\"/></center>\n"
      ]
    },
    {
      "cell_type": "markdown",
      "source": [
        "**My own example 13 - Defining Fortran subroutine matmul(A,B) for 600x100 and 100x600 matrices**"
      ],
      "metadata": {
        "id": "_ra5WDYERX1e"
      }
    },
    {
      "cell_type": "code",
      "source": [
        "%%fortran \n",
        "subroutine multmatr(m1,m2,fm1,cm2,cm1,resu)\n",
        "    double precision, intent(in) :: m1(600,*) \n",
        "    double precision, intent(in) :: m2(100,*)\n",
        "    integer, intent(in) :: fm1,cm1,cm2\n",
        "    double precision, intent(out) :: resu(fm1,cm2)\n",
        "    iloop: do i = 1, fm1\n",
        "      jloop: do j = 1, cm2\n",
        "        resu(i,j) = 0\n",
        "        kloop: do k = 1, cm1\n",
        "          resu(i,j) = resu(i,j) + m1(i,k)*m2(k,j)\n",
        "        end do kloop\n",
        "      end do jloop\n",
        "    end do iloop\n",
        "end subroutine multmatr"
      ],
      "metadata": {
        "id": "m7_6zo6OtBRg"
      },
      "execution_count": null,
      "outputs": []
    },
    {
      "cell_type": "markdown",
      "source": [
        "**My own example 14 -Run Fortran subroutine matmul(A,B) with 600x100 and 100x600 matrices**"
      ],
      "metadata": {
        "id": "cf5NwQZQRjx-"
      }
    },
    {
      "cell_type": "code",
      "source": [
        "%time\n",
        "mat1 = np.array(random_matrix(600,100))\n",
        "mat2 = np.array(random_matrix(100,600))\n",
        "\n",
        "film1= len(mat1)\n",
        "colm1= len(mat1[0])\n",
        "colm2= len(mat2[0])\n",
        "\n",
        "res = multmatr(mat1,mat2,film1,colm2,colm1)\n",
        "res"
      ],
      "metadata": {
        "id": "S7xtJkrb6yuQ",
        "colab": {
          "base_uri": "https://localhost:8080/"
        },
        "outputId": "88ee78dc-2263-433c-9c72-369284b1ae8f"
      },
      "execution_count": null,
      "outputs": [
        {
          "output_type": "stream",
          "name": "stdout",
          "text": [
            "CPU times: user 2 µs, sys: 0 ns, total: 2 µs\n",
            "Wall time: 7.15 µs\n"
          ]
        },
        {
          "output_type": "execute_result",
          "data": {
            "text/plain": [
              "array([[28.55665026, 21.87055227, 22.38451582, ..., 25.46184733,\n",
              "        25.60216683, 27.33647836],\n",
              "       [25.67883734, 18.96020563, 21.22289461, ..., 22.78162292,\n",
              "        22.52868209, 25.34934974],\n",
              "       [24.47027265, 18.37787487, 21.52642866, ..., 23.07245651,\n",
              "        23.5326845 , 25.67326309],\n",
              "       ...,\n",
              "       [26.52524846, 20.17496622, 22.37848114, ..., 23.90068398,\n",
              "        23.74859074, 26.79993926],\n",
              "       [26.336948  , 20.91254619, 24.35764638, ..., 25.8060569 ,\n",
              "        26.90076816, 28.56064163],\n",
              "       [27.48418173, 21.50529812, 22.06220886, ..., 24.393442  ,\n",
              "        24.94672041, 26.22169518]])"
            ]
          },
          "metadata": {},
          "execution_count": 260
        }
      ]
    },
    {
      "cell_type": "markdown",
      "source": [
        "**My own example 15 - Running 10 times the  Fortran subroutine matmul(A,B) with 600x100 and 100x600 matrices and adding Fortran magic average execution time to the data frame**"
      ],
      "metadata": {
        "id": "5yjoH7W_R0E3"
      }
    },
    {
      "cell_type": "code",
      "source": [
        "%%time\n",
        "tiemForMag = []\n",
        "for i in range(10):\n",
        "\n",
        "  film1= len(mat1)\n",
        "  colm1= len(mat1[0])\n",
        "  colm2= len(mat2[0])\n",
        "  multmatr(mat1,mat2,film1,colm2,colm1)\n",
        "\n",
        "  mat1 = random_matrix(600,100)\n",
        "  mat2 = random_matrix(100,600)\n",
        "  print('Multiplication ended')"
      ],
      "metadata": {
        "id": "2-A0QOte603A",
        "colab": {
          "base_uri": "https://localhost:8080/"
        },
        "outputId": "f8005943-48f4-4122-d929-7422d7034113"
      },
      "execution_count": null,
      "outputs": [
        {
          "output_type": "stream",
          "name": "stdout",
          "text": [
            "Multiplication ended\n",
            "Multiplication ended\n",
            "Multiplication ended\n",
            "Multiplication ended\n",
            "Multiplication ended\n",
            "Multiplication ended\n",
            "Multiplication ended\n",
            "Multiplication ended\n",
            "Multiplication ended\n",
            "Multiplication ended\n",
            "CPU times: user 465 ms, sys: 17.9 ms, total: 483 ms\n",
            "Wall time: 485 ms\n"
          ]
        }
      ]
    },
    {
      "cell_type": "code",
      "source": [
        "avgExec.loc[\"Fortran Magic\"] = [465]\n",
        "avgExec"
      ],
      "metadata": {
        "colab": {
          "base_uri": "https://localhost:8080/",
          "height": 143
        },
        "id": "q1ytjjDCbdsQ",
        "outputId": "aa85e2df-80bb-46ac-e3f4-c2226c54c7e9"
      },
      "execution_count": null,
      "outputs": [
        {
          "output_type": "execute_result",
          "data": {
            "text/plain": [
              "               Time (ms)\n",
              "Python             910.0\n",
              "Numpy               62.3\n",
              "Fortran Magic      465.0"
            ],
            "text/html": [
              "\n",
              "  <div id=\"df-61f77e5e-dae4-484a-922a-56cf6dfdb89d\">\n",
              "    <div class=\"colab-df-container\">\n",
              "      <div>\n",
              "<style scoped>\n",
              "    .dataframe tbody tr th:only-of-type {\n",
              "        vertical-align: middle;\n",
              "    }\n",
              "\n",
              "    .dataframe tbody tr th {\n",
              "        vertical-align: top;\n",
              "    }\n",
              "\n",
              "    .dataframe thead th {\n",
              "        text-align: right;\n",
              "    }\n",
              "</style>\n",
              "<table border=\"1\" class=\"dataframe\">\n",
              "  <thead>\n",
              "    <tr style=\"text-align: right;\">\n",
              "      <th></th>\n",
              "      <th>Time (ms)</th>\n",
              "    </tr>\n",
              "  </thead>\n",
              "  <tbody>\n",
              "    <tr>\n",
              "      <th>Python</th>\n",
              "      <td>910.0</td>\n",
              "    </tr>\n",
              "    <tr>\n",
              "      <th>Numpy</th>\n",
              "      <td>62.3</td>\n",
              "    </tr>\n",
              "    <tr>\n",
              "      <th>Fortran Magic</th>\n",
              "      <td>465.0</td>\n",
              "    </tr>\n",
              "  </tbody>\n",
              "</table>\n",
              "</div>\n",
              "      <button class=\"colab-df-convert\" onclick=\"convertToInteractive('df-61f77e5e-dae4-484a-922a-56cf6dfdb89d')\"\n",
              "              title=\"Convert this dataframe to an interactive table.\"\n",
              "              style=\"display:none;\">\n",
              "        \n",
              "  <svg xmlns=\"http://www.w3.org/2000/svg\" height=\"24px\"viewBox=\"0 0 24 24\"\n",
              "       width=\"24px\">\n",
              "    <path d=\"M0 0h24v24H0V0z\" fill=\"none\"/>\n",
              "    <path d=\"M18.56 5.44l.94 2.06.94-2.06 2.06-.94-2.06-.94-.94-2.06-.94 2.06-2.06.94zm-11 1L8.5 8.5l.94-2.06 2.06-.94-2.06-.94L8.5 2.5l-.94 2.06-2.06.94zm10 10l.94 2.06.94-2.06 2.06-.94-2.06-.94-.94-2.06-.94 2.06-2.06.94z\"/><path d=\"M17.41 7.96l-1.37-1.37c-.4-.4-.92-.59-1.43-.59-.52 0-1.04.2-1.43.59L10.3 9.45l-7.72 7.72c-.78.78-.78 2.05 0 2.83L4 21.41c.39.39.9.59 1.41.59.51 0 1.02-.2 1.41-.59l7.78-7.78 2.81-2.81c.8-.78.8-2.07 0-2.86zM5.41 20L4 18.59l7.72-7.72 1.47 1.35L5.41 20z\"/>\n",
              "  </svg>\n",
              "      </button>\n",
              "      \n",
              "  <style>\n",
              "    .colab-df-container {\n",
              "      display:flex;\n",
              "      flex-wrap:wrap;\n",
              "      gap: 12px;\n",
              "    }\n",
              "\n",
              "    .colab-df-convert {\n",
              "      background-color: #E8F0FE;\n",
              "      border: none;\n",
              "      border-radius: 50%;\n",
              "      cursor: pointer;\n",
              "      display: none;\n",
              "      fill: #1967D2;\n",
              "      height: 32px;\n",
              "      padding: 0 0 0 0;\n",
              "      width: 32px;\n",
              "    }\n",
              "\n",
              "    .colab-df-convert:hover {\n",
              "      background-color: #E2EBFA;\n",
              "      box-shadow: 0px 1px 2px rgba(60, 64, 67, 0.3), 0px 1px 3px 1px rgba(60, 64, 67, 0.15);\n",
              "      fill: #174EA6;\n",
              "    }\n",
              "\n",
              "    [theme=dark] .colab-df-convert {\n",
              "      background-color: #3B4455;\n",
              "      fill: #D2E3FC;\n",
              "    }\n",
              "\n",
              "    [theme=dark] .colab-df-convert:hover {\n",
              "      background-color: #434B5C;\n",
              "      box-shadow: 0px 1px 3px 1px rgba(0, 0, 0, 0.15);\n",
              "      filter: drop-shadow(0px 1px 2px rgba(0, 0, 0, 0.3));\n",
              "      fill: #FFFFFF;\n",
              "    }\n",
              "  </style>\n",
              "\n",
              "      <script>\n",
              "        const buttonEl =\n",
              "          document.querySelector('#df-61f77e5e-dae4-484a-922a-56cf6dfdb89d button.colab-df-convert');\n",
              "        buttonEl.style.display =\n",
              "          google.colab.kernel.accessAllowed ? 'block' : 'none';\n",
              "\n",
              "        async function convertToInteractive(key) {\n",
              "          const element = document.querySelector('#df-61f77e5e-dae4-484a-922a-56cf6dfdb89d');\n",
              "          const dataTable =\n",
              "            await google.colab.kernel.invokeFunction('convertToInteractive',\n",
              "                                                     [key], {});\n",
              "          if (!dataTable) return;\n",
              "\n",
              "          const docLinkHtml = 'Like what you see? Visit the ' +\n",
              "            '<a target=\"_blank\" href=https://colab.research.google.com/notebooks/data_table.ipynb>data table notebook</a>'\n",
              "            + ' to learn more about interactive tables.';\n",
              "          element.innerHTML = '';\n",
              "          dataTable['output_type'] = 'display_data';\n",
              "          await google.colab.output.renderOutput(dataTable, element);\n",
              "          const docLink = document.createElement('div');\n",
              "          docLink.innerHTML = docLinkHtml;\n",
              "          element.appendChild(docLink);\n",
              "        }\n",
              "      </script>\n",
              "    </div>\n",
              "  </div>\n",
              "  "
            ]
          },
          "metadata": {},
          "execution_count": 21
        }
      ]
    },
    {
      "cell_type": "markdown",
      "source": [
        "**My own example 16 - Creating a  Fortran program that mutiplies 10 times A(600x100) and  B (100x600) matrices**"
      ],
      "metadata": {
        "id": "w5hURiGOShpG"
      }
    },
    {
      "cell_type": "code",
      "source": [
        "%%fortran \n",
        "subroutine multmatr10(m1,m2,fm1,cm2,cm1,resu)\n",
        "    double precision, intent(in) :: m1(600,*) \n",
        "    double precision, intent(in) :: m2(100,*)\n",
        "    integer, intent(in) :: fm1,cm1,cm2\n",
        "    double precision, intent(out) :: resu(fm1,cm2)\n",
        "    mloop: do m = 1, 10\n",
        "      iloop: do i = 1, fm1\n",
        "        jloop: do j = 1, cm2\n",
        "          resu(i,j) = 0\n",
        "          kloop: do k = 1, cm1\n",
        "            resu(i,j) = resu(i,j) + m1(i,k)*m2(k,j)\n",
        "          end do kloop\n",
        "        end do jloop\n",
        "      end do iloop\n",
        "    end do mloop\n",
        "end subroutine multmatr10"
      ],
      "metadata": {
        "id": "xCkI1njo62Hv"
      },
      "execution_count": null,
      "outputs": []
    },
    {
      "cell_type": "markdown",
      "source": [
        "**My own example 17 - Running the Fortran program that mutiplies 10 times A(600x100) and  B (100x600) matrices**"
      ],
      "metadata": {
        "id": "LJOrD7hyYmTJ"
      }
    },
    {
      "cell_type": "code",
      "source": [
        "%%time\n",
        "mat1 = np.array(random_matrix(600,100))\n",
        "mat2 = np.array(random_matrix(100,600))\n",
        "\n",
        "film1= len(mat1)\n",
        "colm1= len(mat1[0])\n",
        "colm2= len(mat2[0])\n",
        "\n",
        "res = multmatr10(mat1,mat2,film1,colm2,colm1)\n"
      ],
      "metadata": {
        "id": "hmBeCMGV63z6",
        "colab": {
          "base_uri": "https://localhost:8080/"
        },
        "outputId": "0bb3aecc-4ee8-4d13-c7ce-3f88cc2933eb"
      },
      "execution_count": null,
      "outputs": [
        {
          "output_type": "stream",
          "name": "stdout",
          "text": [
            "CPU times: user 292 ms, sys: 5.94 ms, total: 298 ms\n",
            "Wall time: 302 ms\n"
          ]
        }
      ]
    },
    {
      "cell_type": "markdown",
      "source": [
        "**My own example 18 - Adding Fortran average execution time to the data frame**"
      ],
      "metadata": {
        "id": "21wSmo50YfIo"
      }
    },
    {
      "cell_type": "code",
      "source": [
        "avgExec.loc[\"Fortran\"] = [289]\n",
        "avgExec"
      ],
      "metadata": {
        "id": "UDMgoacS642X",
        "colab": {
          "base_uri": "https://localhost:8080/",
          "height": 175
        },
        "outputId": "5ddfbe86-caaa-475f-ea3a-1e21c1c6299d"
      },
      "execution_count": null,
      "outputs": [
        {
          "output_type": "execute_result",
          "data": {
            "text/plain": [
              "               Time (ms)\n",
              "Python             910.0\n",
              "Numpy               62.3\n",
              "Fortran Magic      465.0\n",
              "Fortran            289.0"
            ],
            "text/html": [
              "\n",
              "  <div id=\"df-113687c2-0a85-4c89-a825-ae5071a0b608\">\n",
              "    <div class=\"colab-df-container\">\n",
              "      <div>\n",
              "<style scoped>\n",
              "    .dataframe tbody tr th:only-of-type {\n",
              "        vertical-align: middle;\n",
              "    }\n",
              "\n",
              "    .dataframe tbody tr th {\n",
              "        vertical-align: top;\n",
              "    }\n",
              "\n",
              "    .dataframe thead th {\n",
              "        text-align: right;\n",
              "    }\n",
              "</style>\n",
              "<table border=\"1\" class=\"dataframe\">\n",
              "  <thead>\n",
              "    <tr style=\"text-align: right;\">\n",
              "      <th></th>\n",
              "      <th>Time (ms)</th>\n",
              "    </tr>\n",
              "  </thead>\n",
              "  <tbody>\n",
              "    <tr>\n",
              "      <th>Python</th>\n",
              "      <td>910.0</td>\n",
              "    </tr>\n",
              "    <tr>\n",
              "      <th>Numpy</th>\n",
              "      <td>62.3</td>\n",
              "    </tr>\n",
              "    <tr>\n",
              "      <th>Fortran Magic</th>\n",
              "      <td>465.0</td>\n",
              "    </tr>\n",
              "    <tr>\n",
              "      <th>Fortran</th>\n",
              "      <td>289.0</td>\n",
              "    </tr>\n",
              "  </tbody>\n",
              "</table>\n",
              "</div>\n",
              "      <button class=\"colab-df-convert\" onclick=\"convertToInteractive('df-113687c2-0a85-4c89-a825-ae5071a0b608')\"\n",
              "              title=\"Convert this dataframe to an interactive table.\"\n",
              "              style=\"display:none;\">\n",
              "        \n",
              "  <svg xmlns=\"http://www.w3.org/2000/svg\" height=\"24px\"viewBox=\"0 0 24 24\"\n",
              "       width=\"24px\">\n",
              "    <path d=\"M0 0h24v24H0V0z\" fill=\"none\"/>\n",
              "    <path d=\"M18.56 5.44l.94 2.06.94-2.06 2.06-.94-2.06-.94-.94-2.06-.94 2.06-2.06.94zm-11 1L8.5 8.5l.94-2.06 2.06-.94-2.06-.94L8.5 2.5l-.94 2.06-2.06.94zm10 10l.94 2.06.94-2.06 2.06-.94-2.06-.94-.94-2.06-.94 2.06-2.06.94z\"/><path d=\"M17.41 7.96l-1.37-1.37c-.4-.4-.92-.59-1.43-.59-.52 0-1.04.2-1.43.59L10.3 9.45l-7.72 7.72c-.78.78-.78 2.05 0 2.83L4 21.41c.39.39.9.59 1.41.59.51 0 1.02-.2 1.41-.59l7.78-7.78 2.81-2.81c.8-.78.8-2.07 0-2.86zM5.41 20L4 18.59l7.72-7.72 1.47 1.35L5.41 20z\"/>\n",
              "  </svg>\n",
              "      </button>\n",
              "      \n",
              "  <style>\n",
              "    .colab-df-container {\n",
              "      display:flex;\n",
              "      flex-wrap:wrap;\n",
              "      gap: 12px;\n",
              "    }\n",
              "\n",
              "    .colab-df-convert {\n",
              "      background-color: #E8F0FE;\n",
              "      border: none;\n",
              "      border-radius: 50%;\n",
              "      cursor: pointer;\n",
              "      display: none;\n",
              "      fill: #1967D2;\n",
              "      height: 32px;\n",
              "      padding: 0 0 0 0;\n",
              "      width: 32px;\n",
              "    }\n",
              "\n",
              "    .colab-df-convert:hover {\n",
              "      background-color: #E2EBFA;\n",
              "      box-shadow: 0px 1px 2px rgba(60, 64, 67, 0.3), 0px 1px 3px 1px rgba(60, 64, 67, 0.15);\n",
              "      fill: #174EA6;\n",
              "    }\n",
              "\n",
              "    [theme=dark] .colab-df-convert {\n",
              "      background-color: #3B4455;\n",
              "      fill: #D2E3FC;\n",
              "    }\n",
              "\n",
              "    [theme=dark] .colab-df-convert:hover {\n",
              "      background-color: #434B5C;\n",
              "      box-shadow: 0px 1px 3px 1px rgba(0, 0, 0, 0.15);\n",
              "      filter: drop-shadow(0px 1px 2px rgba(0, 0, 0, 0.3));\n",
              "      fill: #FFFFFF;\n",
              "    }\n",
              "  </style>\n",
              "\n",
              "      <script>\n",
              "        const buttonEl =\n",
              "          document.querySelector('#df-113687c2-0a85-4c89-a825-ae5071a0b608 button.colab-df-convert');\n",
              "        buttonEl.style.display =\n",
              "          google.colab.kernel.accessAllowed ? 'block' : 'none';\n",
              "\n",
              "        async function convertToInteractive(key) {\n",
              "          const element = document.querySelector('#df-113687c2-0a85-4c89-a825-ae5071a0b608');\n",
              "          const dataTable =\n",
              "            await google.colab.kernel.invokeFunction('convertToInteractive',\n",
              "                                                     [key], {});\n",
              "          if (!dataTable) return;\n",
              "\n",
              "          const docLinkHtml = 'Like what you see? Visit the ' +\n",
              "            '<a target=\"_blank\" href=https://colab.research.google.com/notebooks/data_table.ipynb>data table notebook</a>'\n",
              "            + ' to learn more about interactive tables.';\n",
              "          element.innerHTML = '';\n",
              "          dataTable['output_type'] = 'display_data';\n",
              "          await google.colab.output.renderOutput(dataTable, element);\n",
              "          const docLink = document.createElement('div');\n",
              "          docLink.innerHTML = docLinkHtml;\n",
              "          element.appendChild(docLink);\n",
              "        }\n",
              "      </script>\n",
              "    </div>\n",
              "  </div>\n",
              "  "
            ]
          },
          "metadata": {},
          "execution_count": 22
        }
      ]
    },
    {
      "cell_type": "markdown",
      "source": [
        "**My own example 19 - Creating a c program that mutiplies 10 times A(600x100) and  B (100x600) matrices**"
      ],
      "metadata": {
        "id": "8G8ZZ2hfZXYA"
      }
    },
    {
      "cell_type": "code",
      "source": [
        "%%writefile multiplication.c\n",
        "\n",
        "\n",
        "#include <stdio.h>\n",
        "\n",
        "int rand();\n",
        "int main() {\n",
        "  int matriza[600][100];\n",
        "  int matrizb[100][600];\n",
        "  int matrizf[100][100];\n",
        "\n",
        "//Fill matrix A\n",
        "for(int i = 0 ; i < 600 ; i++){\n",
        "    for(int j = 0 ; j < 100 ; j++){\n",
        "        matriza[i][j] = rand()%10;\n",
        "      }\n",
        "    }\n",
        "// Fill matrix B\n",
        "for(int i = 0 ; i < 100 ; i++){\n",
        "    for(int j = 0 ; j < 600 ; j++){\n",
        "        matrizb[i][j] = rand()%10;\n",
        "      }\n",
        "    }\n",
        "\n",
        "\n",
        "for (int i = 0; i < 100; i++) {\n",
        "      for (int j = 0; j < 100; j++) {\n",
        "        int a = 0;\n",
        "         for (int k = 0; k < 600; k++) {           \n",
        "            a += matriza[k][j] * matrizb[i][k];\n",
        "         }\n",
        "         matrizf[i][j] = a;\n",
        "      }\n",
        "   }\n",
        "\n",
        "/*\n",
        "for (int i = 0; i < 100; ++i) {\n",
        "    for (int j = 0; j < 100; ++j) {\n",
        "        printf(\"%d  \", matrizf[i][j]);\n",
        "        if (j == 99){\n",
        "          printf(\"\\n\");\n",
        "        }\n",
        "    }\n",
        "  }\n",
        "*/\n",
        "}"
      ],
      "metadata": {
        "id": "BknrT-KK65wP",
        "colab": {
          "base_uri": "https://localhost:8080/"
        },
        "outputId": "494106ef-4db0-4cd4-8191-e12456a3e508"
      },
      "execution_count": null,
      "outputs": [
        {
          "output_type": "stream",
          "name": "stdout",
          "text": [
            "Overwriting multiplication.c\n"
          ]
        }
      ]
    },
    {
      "cell_type": "markdown",
      "source": [
        "**My own example 20 - Running the c program that mutiplies 10 times A(600x100) and  B (100x600) matrices**"
      ],
      "metadata": {
        "id": "i-oPlTweZndB"
      }
    },
    {
      "cell_type": "code",
      "source": [
        "%%shell\n",
        "\n",
        "gcc multiplication.c -o mul\n"
      ],
      "metadata": {
        "id": "CKFgaMTa67Ri",
        "colab": {
          "base_uri": "https://localhost:8080/"
        },
        "outputId": "d7c82597-39ad-438e-da15-b87ee0368cf9"
      },
      "execution_count": null,
      "outputs": [
        {
          "output_type": "execute_result",
          "data": {
            "text/plain": []
          },
          "metadata": {},
          "execution_count": 267
        }
      ]
    },
    {
      "cell_type": "code",
      "source": [
        "%%time\n",
        "%%shell\n",
        "./mul"
      ],
      "metadata": {
        "id": "bxJIPTTY4m5B",
        "colab": {
          "base_uri": "https://localhost:8080/"
        },
        "outputId": "c3b94344-68e7-48cf-a012-72897959929f"
      },
      "execution_count": null,
      "outputs": [
        {
          "output_type": "stream",
          "name": "stdout",
          "text": [
            "CPU times: user 8.64 ms, sys: 16.2 ms, total: 24.8 ms\n",
            "Wall time: 136 ms\n"
          ]
        },
        {
          "output_type": "execute_result",
          "data": {
            "text/plain": []
          },
          "metadata": {},
          "execution_count": 268
        }
      ]
    },
    {
      "cell_type": "code",
      "source": [
        "%%time\n",
        "%%shell\n",
        "./mul"
      ],
      "metadata": {
        "id": "jZ-r7CS8BbCy",
        "colab": {
          "base_uri": "https://localhost:8080/"
        },
        "outputId": "51ba5d10-20ab-45ff-c71e-a322d7f6b95b"
      },
      "execution_count": null,
      "outputs": [
        {
          "output_type": "stream",
          "name": "stdout",
          "text": [
            "CPU times: user 7.87 ms, sys: 14.1 ms, total: 22 ms\n",
            "Wall time: 122 ms\n"
          ]
        },
        {
          "output_type": "execute_result",
          "data": {
            "text/plain": []
          },
          "metadata": {},
          "execution_count": 269
        }
      ]
    },
    {
      "cell_type": "code",
      "source": [
        "%%time\n",
        "%%shell\n",
        "./mul"
      ],
      "metadata": {
        "id": "DP8RhtuGBcpY",
        "colab": {
          "base_uri": "https://localhost:8080/"
        },
        "outputId": "70c82e9c-464a-450d-95ec-2c0290f8ce26"
      },
      "execution_count": null,
      "outputs": [
        {
          "output_type": "stream",
          "name": "stdout",
          "text": [
            "CPU times: user 4.12 ms, sys: 12.1 ms, total: 16.2 ms\n",
            "Wall time: 127 ms\n"
          ]
        },
        {
          "output_type": "execute_result",
          "data": {
            "text/plain": []
          },
          "metadata": {},
          "execution_count": 270
        }
      ]
    },
    {
      "cell_type": "code",
      "source": [
        "%%time\n",
        "%%shell\n",
        "./mul"
      ],
      "metadata": {
        "id": "hZf3bEeMBcpZ",
        "colab": {
          "base_uri": "https://localhost:8080/"
        },
        "outputId": "669bfc06-6013-4150-a64b-7fc01ae9a26e"
      },
      "execution_count": null,
      "outputs": [
        {
          "output_type": "stream",
          "name": "stdout",
          "text": [
            "CPU times: user 6.33 ms, sys: 6.06 ms, total: 12.4 ms\n",
            "Wall time: 123 ms\n"
          ]
        },
        {
          "output_type": "execute_result",
          "data": {
            "text/plain": []
          },
          "metadata": {},
          "execution_count": 271
        }
      ]
    },
    {
      "cell_type": "code",
      "source": [
        "%%time\n",
        "%%shell\n",
        "./mul"
      ],
      "metadata": {
        "id": "CJ4Koi6DBc8Z",
        "colab": {
          "base_uri": "https://localhost:8080/"
        },
        "outputId": "6acabf4a-2f7c-466b-d7ae-d5b71bab1766"
      },
      "execution_count": null,
      "outputs": [
        {
          "output_type": "stream",
          "name": "stdout",
          "text": [
            "CPU times: user 6.89 ms, sys: 8.05 ms, total: 14.9 ms\n",
            "Wall time: 120 ms\n"
          ]
        },
        {
          "output_type": "execute_result",
          "data": {
            "text/plain": []
          },
          "metadata": {},
          "execution_count": 272
        }
      ]
    },
    {
      "cell_type": "code",
      "source": [
        "%%time\n",
        "%%shell\n",
        "./mul"
      ],
      "metadata": {
        "id": "zpwxGQUNBc8Z",
        "colab": {
          "base_uri": "https://localhost:8080/"
        },
        "outputId": "9fe5e291-4b06-4d98-e175-825c08096842"
      },
      "execution_count": null,
      "outputs": [
        {
          "output_type": "stream",
          "name": "stdout",
          "text": [
            "CPU times: user 7.11 ms, sys: 6.1 ms, total: 13.2 ms\n",
            "Wall time: 117 ms\n"
          ]
        },
        {
          "output_type": "execute_result",
          "data": {
            "text/plain": []
          },
          "metadata": {},
          "execution_count": 273
        }
      ]
    },
    {
      "cell_type": "code",
      "source": [
        "%%time\n",
        "%%shell\n",
        "./mul"
      ],
      "metadata": {
        "id": "oKT9CxqlBdJU",
        "colab": {
          "base_uri": "https://localhost:8080/"
        },
        "outputId": "008e66b1-2d0e-4dd6-c483-4ebc0333a3a3"
      },
      "execution_count": null,
      "outputs": [
        {
          "output_type": "stream",
          "name": "stdout",
          "text": [
            "CPU times: user 6.9 ms, sys: 8.08 ms, total: 15 ms\n",
            "Wall time: 121 ms\n"
          ]
        },
        {
          "output_type": "execute_result",
          "data": {
            "text/plain": []
          },
          "metadata": {},
          "execution_count": 274
        }
      ]
    },
    {
      "cell_type": "code",
      "source": [
        "%%time\n",
        "%%shell\n",
        "./mul"
      ],
      "metadata": {
        "id": "ayjtKgZZBdJU",
        "colab": {
          "base_uri": "https://localhost:8080/"
        },
        "outputId": "e3cb3270-4f55-4d04-9a62-7a446b09a334"
      },
      "execution_count": null,
      "outputs": [
        {
          "output_type": "stream",
          "name": "stdout",
          "text": [
            "CPU times: user 5.74 ms, sys: 14 ms, total: 19.8 ms\n",
            "Wall time: 123 ms\n"
          ]
        },
        {
          "output_type": "execute_result",
          "data": {
            "text/plain": []
          },
          "metadata": {},
          "execution_count": 275
        }
      ]
    },
    {
      "cell_type": "code",
      "source": [
        "%%time\n",
        "%%shell\n",
        "./mul"
      ],
      "metadata": {
        "id": "OUDnG1S1BdW0",
        "colab": {
          "base_uri": "https://localhost:8080/"
        },
        "outputId": "44b1e536-0b5b-44b7-9de4-27d9f8d36ff6"
      },
      "execution_count": null,
      "outputs": [
        {
          "output_type": "stream",
          "name": "stdout",
          "text": [
            "CPU times: user 10.7 ms, sys: 5.08 ms, total: 15.8 ms\n",
            "Wall time: 121 ms\n"
          ]
        },
        {
          "output_type": "execute_result",
          "data": {
            "text/plain": []
          },
          "metadata": {},
          "execution_count": 276
        }
      ]
    },
    {
      "cell_type": "code",
      "source": [
        "%%time\n",
        "%%shell\n",
        "./mul"
      ],
      "metadata": {
        "id": "hwNVWaj8BdW0",
        "colab": {
          "base_uri": "https://localhost:8080/"
        },
        "outputId": "690943d5-da38-49ba-abcc-9476e7f5248a"
      },
      "execution_count": null,
      "outputs": [
        {
          "output_type": "stream",
          "name": "stdout",
          "text": [
            "CPU times: user 5.67 ms, sys: 7.17 ms, total: 12.8 ms\n",
            "Wall time: 123 ms\n"
          ]
        },
        {
          "output_type": "execute_result",
          "data": {
            "text/plain": []
          },
          "metadata": {},
          "execution_count": 277
        }
      ]
    },
    {
      "cell_type": "markdown",
      "source": [
        "**My own example 21 - Adding c average execution time to the data frame**"
      ],
      "metadata": {
        "id": "U9Wf-9DPZ3R4"
      }
    },
    {
      "cell_type": "code",
      "source": [
        "from statistics import mean\n",
        "totalC = (115, 116, 116, 121, 121, 161, 121, 120, 120, 113)\n",
        "promedioC = mean(totalC)\n",
        "promedioC\n"
      ],
      "metadata": {
        "id": "EfsTc5wN695I",
        "colab": {
          "base_uri": "https://localhost:8080/"
        },
        "outputId": "b23f2afb-1038-45db-9639-048255e4a5ba"
      },
      "execution_count": null,
      "outputs": [
        {
          "output_type": "execute_result",
          "data": {
            "text/plain": [
              "122.4"
            ]
          },
          "metadata": {},
          "execution_count": 23
        }
      ]
    },
    {
      "cell_type": "code",
      "source": [
        "avgExec.loc[\"C\"] = [122.4]\n",
        "avgExec"
      ],
      "metadata": {
        "id": "mtKyS4PCfvjV",
        "colab": {
          "base_uri": "https://localhost:8080/",
          "height": 206
        },
        "outputId": "47c45453-346a-41ca-b4f5-d0fde7adf83c"
      },
      "execution_count": null,
      "outputs": [
        {
          "output_type": "execute_result",
          "data": {
            "text/plain": [
              "               Time (ms)\n",
              "Python             910.0\n",
              "Numpy               62.3\n",
              "Fortran Magic      465.0\n",
              "Fortran            289.0\n",
              "C                  122.4"
            ],
            "text/html": [
              "\n",
              "  <div id=\"df-2eecfec6-cb1f-4292-85ba-efc5e61ce839\">\n",
              "    <div class=\"colab-df-container\">\n",
              "      <div>\n",
              "<style scoped>\n",
              "    .dataframe tbody tr th:only-of-type {\n",
              "        vertical-align: middle;\n",
              "    }\n",
              "\n",
              "    .dataframe tbody tr th {\n",
              "        vertical-align: top;\n",
              "    }\n",
              "\n",
              "    .dataframe thead th {\n",
              "        text-align: right;\n",
              "    }\n",
              "</style>\n",
              "<table border=\"1\" class=\"dataframe\">\n",
              "  <thead>\n",
              "    <tr style=\"text-align: right;\">\n",
              "      <th></th>\n",
              "      <th>Time (ms)</th>\n",
              "    </tr>\n",
              "  </thead>\n",
              "  <tbody>\n",
              "    <tr>\n",
              "      <th>Python</th>\n",
              "      <td>910.0</td>\n",
              "    </tr>\n",
              "    <tr>\n",
              "      <th>Numpy</th>\n",
              "      <td>62.3</td>\n",
              "    </tr>\n",
              "    <tr>\n",
              "      <th>Fortran Magic</th>\n",
              "      <td>465.0</td>\n",
              "    </tr>\n",
              "    <tr>\n",
              "      <th>Fortran</th>\n",
              "      <td>289.0</td>\n",
              "    </tr>\n",
              "    <tr>\n",
              "      <th>C</th>\n",
              "      <td>122.4</td>\n",
              "    </tr>\n",
              "  </tbody>\n",
              "</table>\n",
              "</div>\n",
              "      <button class=\"colab-df-convert\" onclick=\"convertToInteractive('df-2eecfec6-cb1f-4292-85ba-efc5e61ce839')\"\n",
              "              title=\"Convert this dataframe to an interactive table.\"\n",
              "              style=\"display:none;\">\n",
              "        \n",
              "  <svg xmlns=\"http://www.w3.org/2000/svg\" height=\"24px\"viewBox=\"0 0 24 24\"\n",
              "       width=\"24px\">\n",
              "    <path d=\"M0 0h24v24H0V0z\" fill=\"none\"/>\n",
              "    <path d=\"M18.56 5.44l.94 2.06.94-2.06 2.06-.94-2.06-.94-.94-2.06-.94 2.06-2.06.94zm-11 1L8.5 8.5l.94-2.06 2.06-.94-2.06-.94L8.5 2.5l-.94 2.06-2.06.94zm10 10l.94 2.06.94-2.06 2.06-.94-2.06-.94-.94-2.06-.94 2.06-2.06.94z\"/><path d=\"M17.41 7.96l-1.37-1.37c-.4-.4-.92-.59-1.43-.59-.52 0-1.04.2-1.43.59L10.3 9.45l-7.72 7.72c-.78.78-.78 2.05 0 2.83L4 21.41c.39.39.9.59 1.41.59.51 0 1.02-.2 1.41-.59l7.78-7.78 2.81-2.81c.8-.78.8-2.07 0-2.86zM5.41 20L4 18.59l7.72-7.72 1.47 1.35L5.41 20z\"/>\n",
              "  </svg>\n",
              "      </button>\n",
              "      \n",
              "  <style>\n",
              "    .colab-df-container {\n",
              "      display:flex;\n",
              "      flex-wrap:wrap;\n",
              "      gap: 12px;\n",
              "    }\n",
              "\n",
              "    .colab-df-convert {\n",
              "      background-color: #E8F0FE;\n",
              "      border: none;\n",
              "      border-radius: 50%;\n",
              "      cursor: pointer;\n",
              "      display: none;\n",
              "      fill: #1967D2;\n",
              "      height: 32px;\n",
              "      padding: 0 0 0 0;\n",
              "      width: 32px;\n",
              "    }\n",
              "\n",
              "    .colab-df-convert:hover {\n",
              "      background-color: #E2EBFA;\n",
              "      box-shadow: 0px 1px 2px rgba(60, 64, 67, 0.3), 0px 1px 3px 1px rgba(60, 64, 67, 0.15);\n",
              "      fill: #174EA6;\n",
              "    }\n",
              "\n",
              "    [theme=dark] .colab-df-convert {\n",
              "      background-color: #3B4455;\n",
              "      fill: #D2E3FC;\n",
              "    }\n",
              "\n",
              "    [theme=dark] .colab-df-convert:hover {\n",
              "      background-color: #434B5C;\n",
              "      box-shadow: 0px 1px 3px 1px rgba(0, 0, 0, 0.15);\n",
              "      filter: drop-shadow(0px 1px 2px rgba(0, 0, 0, 0.3));\n",
              "      fill: #FFFFFF;\n",
              "    }\n",
              "  </style>\n",
              "\n",
              "      <script>\n",
              "        const buttonEl =\n",
              "          document.querySelector('#df-2eecfec6-cb1f-4292-85ba-efc5e61ce839 button.colab-df-convert');\n",
              "        buttonEl.style.display =\n",
              "          google.colab.kernel.accessAllowed ? 'block' : 'none';\n",
              "\n",
              "        async function convertToInteractive(key) {\n",
              "          const element = document.querySelector('#df-2eecfec6-cb1f-4292-85ba-efc5e61ce839');\n",
              "          const dataTable =\n",
              "            await google.colab.kernel.invokeFunction('convertToInteractive',\n",
              "                                                     [key], {});\n",
              "          if (!dataTable) return;\n",
              "\n",
              "          const docLinkHtml = 'Like what you see? Visit the ' +\n",
              "            '<a target=\"_blank\" href=https://colab.research.google.com/notebooks/data_table.ipynb>data table notebook</a>'\n",
              "            + ' to learn more about interactive tables.';\n",
              "          element.innerHTML = '';\n",
              "          dataTable['output_type'] = 'display_data';\n",
              "          await google.colab.output.renderOutput(dataTable, element);\n",
              "          const docLink = document.createElement('div');\n",
              "          docLink.innerHTML = docLinkHtml;\n",
              "          element.appendChild(docLink);\n",
              "        }\n",
              "      </script>\n",
              "    </div>\n",
              "  </div>\n",
              "  "
            ]
          },
          "metadata": {},
          "execution_count": 24
        }
      ]
    },
    {
      "cell_type": "markdown",
      "source": [
        "**My own example 22 - Creating a C++ program that mutiplies 10 times A(600x100) and  B (100x600) matrices**"
      ],
      "metadata": {
        "id": "XkgHEUB2aFI1"
      }
    },
    {
      "cell_type": "code",
      "source": [
        "%%writefile main.cpp\n",
        "#include <iostream>\n",
        "#include <cstdlib>\n",
        "using namespace std;\n",
        "\n",
        "\n",
        "\n",
        "int main()\n",
        "{\n",
        "  int mat1[100][600];\n",
        "  int mat2[600][100];\n",
        "\n",
        "  int resp[100][100];\n",
        "\n",
        "  for(int i = 0 ; i < 100 ; i++){\n",
        "    for(int j = 0 ; j < 600 ; j++){\n",
        "      mat1[i][j] = 1+(rand() % 9);\n",
        "    }\n",
        "  }\n",
        "\n",
        "  for(int i = 0 ; i < 600 ; i++){\n",
        "    for(int j = 0 ; j < 100 ; j++){\n",
        "      mat2[i][j] = 1+(rand() % 9);\n",
        "    }\n",
        "  }\n",
        "\n",
        "  for(int i = 0 ; i < 100 ; i++){\n",
        "    for(int j = 0 ; j < 100 ; j++){\n",
        "      int aux = 0;\n",
        "      for(int k = 0 ; k < 600 ; k++){\n",
        "        aux += mat1[i][k] * mat2[k][j];\n",
        "      }\n",
        "      resp[i][j] = aux;\n",
        "    }\n",
        "  }\n",
        "\n",
        "  /*for(int i = 0 ; i < 100 ; i++){\n",
        "    for(int j = 0 ; j < 100 ; j++){\n",
        "      cout << resp[i][j] << \" \";\n",
        "    }\n",
        "    cout << endl;\n",
        "  }*/\n",
        "\n",
        "}"
      ],
      "metadata": {
        "id": "U1CoUYEw6-9P",
        "colab": {
          "base_uri": "https://localhost:8080/"
        },
        "outputId": "a58238c5-e364-48c3-ff7c-744e776479d1"
      },
      "execution_count": null,
      "outputs": [
        {
          "output_type": "stream",
          "name": "stdout",
          "text": [
            "Overwriting main.cpp\n"
          ]
        }
      ]
    },
    {
      "cell_type": "markdown",
      "source": [
        "**My own example 23 - Running the C++ program that mutiplies 10 times A(600x100) and  B (100x600) matrices**"
      ],
      "metadata": {
        "id": "WFpb2F81aKJA"
      }
    },
    {
      "cell_type": "code",
      "source": [
        "%%time\n",
        "%%script bash\n",
        "g++ main.cpp \n",
        "./a.out"
      ],
      "metadata": {
        "id": "PtHXnFnAH5F7",
        "colab": {
          "base_uri": "https://localhost:8080/"
        },
        "outputId": "b0d1a688-72d4-491c-8964-17a9d414a6e3"
      },
      "execution_count": null,
      "outputs": [
        {
          "output_type": "stream",
          "name": "stdout",
          "text": [
            "CPU times: user 8.66 ms, sys: 8.14 ms, total: 16.8 ms\n",
            "Wall time: 276 ms\n"
          ]
        }
      ]
    },
    {
      "cell_type": "code",
      "source": [
        "%%time\n",
        "%%script bash\n",
        "g++ main.cpp \n",
        "./a.out"
      ],
      "metadata": {
        "id": "xlqwKvsPIAIy",
        "colab": {
          "base_uri": "https://localhost:8080/"
        },
        "outputId": "5508c755-578a-4449-92a1-bd2720f19155"
      },
      "execution_count": null,
      "outputs": [
        {
          "output_type": "stream",
          "name": "stdout",
          "text": [
            "CPU times: user 10.1 ms, sys: 4.19 ms, total: 14.3 ms\n",
            "Wall time: 255 ms\n"
          ]
        }
      ]
    },
    {
      "cell_type": "code",
      "source": [
        "%%time\n",
        "%%script bash\n",
        "g++ main.cpp \n",
        "./a.out"
      ],
      "metadata": {
        "id": "-4q2OZm0IDXb",
        "colab": {
          "base_uri": "https://localhost:8080/"
        },
        "outputId": "0ac7e3a3-ebe4-4e4d-a007-018bd310f9f2"
      },
      "execution_count": null,
      "outputs": [
        {
          "output_type": "stream",
          "name": "stdout",
          "text": [
            "CPU times: user 10.2 ms, sys: 8.99 ms, total: 19.2 ms\n",
            "Wall time: 294 ms\n"
          ]
        }
      ]
    },
    {
      "cell_type": "code",
      "source": [
        "%%time\n",
        "%%script bash\n",
        "g++ main.cpp \n",
        "./a.out"
      ],
      "metadata": {
        "id": "YAoCWOekINhU",
        "colab": {
          "base_uri": "https://localhost:8080/"
        },
        "outputId": "a41f9073-c3c6-4e84-a477-239a550ea8cd"
      },
      "execution_count": null,
      "outputs": [
        {
          "output_type": "stream",
          "name": "stdout",
          "text": [
            "CPU times: user 6.51 ms, sys: 14.3 ms, total: 20.8 ms\n",
            "Wall time: 297 ms\n"
          ]
        }
      ]
    },
    {
      "cell_type": "code",
      "source": [
        "%%time\n",
        "%%script bash\n",
        "g++ main.cpp \n",
        "./a.out"
      ],
      "metadata": {
        "id": "JkHzabXGINVK",
        "colab": {
          "base_uri": "https://localhost:8080/"
        },
        "outputId": "f8d41225-1496-453e-c0ef-c69e9111ed25"
      },
      "execution_count": null,
      "outputs": [
        {
          "output_type": "stream",
          "name": "stdout",
          "text": [
            "CPU times: user 10.5 ms, sys: 14 ms, total: 24.5 ms\n",
            "Wall time: 316 ms\n"
          ]
        }
      ]
    },
    {
      "cell_type": "code",
      "source": [
        "%%time\n",
        "%%script bash\n",
        "g++ main.cpp \n",
        "./a.out"
      ],
      "metadata": {
        "id": "t1pJsefsINJq",
        "colab": {
          "base_uri": "https://localhost:8080/"
        },
        "outputId": "80147dc8-e3d3-48bb-d328-fb9b23f81097"
      },
      "execution_count": null,
      "outputs": [
        {
          "output_type": "stream",
          "name": "stdout",
          "text": [
            "CPU times: user 7.85 ms, sys: 9.13 ms, total: 17 ms\n",
            "Wall time: 298 ms\n"
          ]
        }
      ]
    },
    {
      "cell_type": "code",
      "source": [
        "%%time\n",
        "%%script bash\n",
        "g++ main.cpp \n",
        "./a.out"
      ],
      "metadata": {
        "id": "PtcaFZpDIM37",
        "colab": {
          "base_uri": "https://localhost:8080/"
        },
        "outputId": "31a4f525-ddb3-45e9-b7b6-ba2bc392c6f1"
      },
      "execution_count": null,
      "outputs": [
        {
          "output_type": "stream",
          "name": "stdout",
          "text": [
            "CPU times: user 7.64 ms, sys: 15.1 ms, total: 22.8 ms\n",
            "Wall time: 310 ms\n"
          ]
        }
      ]
    },
    {
      "cell_type": "code",
      "source": [
        "%%time\n",
        "%%script bash\n",
        "g++ main.cpp \n",
        "./a.out"
      ],
      "metadata": {
        "id": "plrcWRAHIMqK",
        "colab": {
          "base_uri": "https://localhost:8080/"
        },
        "outputId": "f1c893bb-5695-4d64-8449-0f8f36007da1"
      },
      "execution_count": null,
      "outputs": [
        {
          "output_type": "stream",
          "name": "stdout",
          "text": [
            "CPU times: user 7.69 ms, sys: 10.1 ms, total: 17.8 ms\n",
            "Wall time: 305 ms\n"
          ]
        }
      ]
    },
    {
      "cell_type": "code",
      "source": [
        "%%time\n",
        "%%script bash\n",
        "g++ main.cpp \n",
        "./a.out"
      ],
      "metadata": {
        "id": "iYEMg7sEIMaS",
        "colab": {
          "base_uri": "https://localhost:8080/"
        },
        "outputId": "e725131b-5758-4929-b29c-db62c67bf586"
      },
      "execution_count": null,
      "outputs": [
        {
          "output_type": "stream",
          "name": "stdout",
          "text": [
            "CPU times: user 13 ms, sys: 9.09 ms, total: 22.1 ms\n",
            "Wall time: 295 ms\n"
          ]
        }
      ]
    },
    {
      "cell_type": "code",
      "source": [
        "%%time\n",
        "%%script bash\n",
        "g++ main.cpp \n",
        "./a.out"
      ],
      "metadata": {
        "id": "VPZmdeLgIL06",
        "colab": {
          "base_uri": "https://localhost:8080/"
        },
        "outputId": "1f284ced-e803-4586-aca2-1bcb042e84de"
      },
      "execution_count": null,
      "outputs": [
        {
          "output_type": "stream",
          "name": "stdout",
          "text": [
            "CPU times: user 5.9 ms, sys: 8.16 ms, total: 14.1 ms\n",
            "Wall time: 275 ms\n"
          ]
        }
      ]
    },
    {
      "cell_type": "markdown",
      "source": [
        "**My own example 24 - Adding C++ average execution time to the data frame**"
      ],
      "metadata": {
        "id": "GSEE2zDjaPmg"
      }
    },
    {
      "cell_type": "code",
      "source": [
        "from statistics import mean\n",
        "totalCmasmas = (128, 126, 85.6, 151, 116, 137, 145, 147, 104, 106)\n",
        "promedioCmasmas = mean(totalCmasmas)\n",
        "promedioCmasmas"
      ],
      "metadata": {
        "id": "YL_YL8Qm7B0w",
        "colab": {
          "base_uri": "https://localhost:8080/"
        },
        "outputId": "ee83e79a-6334-4f64-8d83-243f04d5ff93"
      },
      "execution_count": null,
      "outputs": [
        {
          "output_type": "execute_result",
          "data": {
            "text/plain": [
              "124.56"
            ]
          },
          "metadata": {},
          "execution_count": 291
        }
      ]
    },
    {
      "cell_type": "code",
      "source": [
        "avgExec.loc[\"C++\"] = [124.56]\n",
        "avgExec"
      ],
      "metadata": {
        "id": "q7krswhMk-S1",
        "colab": {
          "base_uri": "https://localhost:8080/",
          "height": 238
        },
        "outputId": "ca16051c-935b-4ab7-eb62-163fff62e473"
      },
      "execution_count": null,
      "outputs": [
        {
          "output_type": "execute_result",
          "data": {
            "text/plain": [
              "               Time (ms)\n",
              "Python            910.00\n",
              "Numpy              62.30\n",
              "Fortran Magic     465.00\n",
              "Fortran           289.00\n",
              "C                 122.40\n",
              "C++               124.56"
            ],
            "text/html": [
              "\n",
              "  <div id=\"df-787e9e67-e9a9-4dc3-aa17-02e75d9159e3\">\n",
              "    <div class=\"colab-df-container\">\n",
              "      <div>\n",
              "<style scoped>\n",
              "    .dataframe tbody tr th:only-of-type {\n",
              "        vertical-align: middle;\n",
              "    }\n",
              "\n",
              "    .dataframe tbody tr th {\n",
              "        vertical-align: top;\n",
              "    }\n",
              "\n",
              "    .dataframe thead th {\n",
              "        text-align: right;\n",
              "    }\n",
              "</style>\n",
              "<table border=\"1\" class=\"dataframe\">\n",
              "  <thead>\n",
              "    <tr style=\"text-align: right;\">\n",
              "      <th></th>\n",
              "      <th>Time (ms)</th>\n",
              "    </tr>\n",
              "  </thead>\n",
              "  <tbody>\n",
              "    <tr>\n",
              "      <th>Python</th>\n",
              "      <td>910.00</td>\n",
              "    </tr>\n",
              "    <tr>\n",
              "      <th>Numpy</th>\n",
              "      <td>62.30</td>\n",
              "    </tr>\n",
              "    <tr>\n",
              "      <th>Fortran Magic</th>\n",
              "      <td>465.00</td>\n",
              "    </tr>\n",
              "    <tr>\n",
              "      <th>Fortran</th>\n",
              "      <td>289.00</td>\n",
              "    </tr>\n",
              "    <tr>\n",
              "      <th>C</th>\n",
              "      <td>122.40</td>\n",
              "    </tr>\n",
              "    <tr>\n",
              "      <th>C++</th>\n",
              "      <td>124.56</td>\n",
              "    </tr>\n",
              "  </tbody>\n",
              "</table>\n",
              "</div>\n",
              "      <button class=\"colab-df-convert\" onclick=\"convertToInteractive('df-787e9e67-e9a9-4dc3-aa17-02e75d9159e3')\"\n",
              "              title=\"Convert this dataframe to an interactive table.\"\n",
              "              style=\"display:none;\">\n",
              "        \n",
              "  <svg xmlns=\"http://www.w3.org/2000/svg\" height=\"24px\"viewBox=\"0 0 24 24\"\n",
              "       width=\"24px\">\n",
              "    <path d=\"M0 0h24v24H0V0z\" fill=\"none\"/>\n",
              "    <path d=\"M18.56 5.44l.94 2.06.94-2.06 2.06-.94-2.06-.94-.94-2.06-.94 2.06-2.06.94zm-11 1L8.5 8.5l.94-2.06 2.06-.94-2.06-.94L8.5 2.5l-.94 2.06-2.06.94zm10 10l.94 2.06.94-2.06 2.06-.94-2.06-.94-.94-2.06-.94 2.06-2.06.94z\"/><path d=\"M17.41 7.96l-1.37-1.37c-.4-.4-.92-.59-1.43-.59-.52 0-1.04.2-1.43.59L10.3 9.45l-7.72 7.72c-.78.78-.78 2.05 0 2.83L4 21.41c.39.39.9.59 1.41.59.51 0 1.02-.2 1.41-.59l7.78-7.78 2.81-2.81c.8-.78.8-2.07 0-2.86zM5.41 20L4 18.59l7.72-7.72 1.47 1.35L5.41 20z\"/>\n",
              "  </svg>\n",
              "      </button>\n",
              "      \n",
              "  <style>\n",
              "    .colab-df-container {\n",
              "      display:flex;\n",
              "      flex-wrap:wrap;\n",
              "      gap: 12px;\n",
              "    }\n",
              "\n",
              "    .colab-df-convert {\n",
              "      background-color: #E8F0FE;\n",
              "      border: none;\n",
              "      border-radius: 50%;\n",
              "      cursor: pointer;\n",
              "      display: none;\n",
              "      fill: #1967D2;\n",
              "      height: 32px;\n",
              "      padding: 0 0 0 0;\n",
              "      width: 32px;\n",
              "    }\n",
              "\n",
              "    .colab-df-convert:hover {\n",
              "      background-color: #E2EBFA;\n",
              "      box-shadow: 0px 1px 2px rgba(60, 64, 67, 0.3), 0px 1px 3px 1px rgba(60, 64, 67, 0.15);\n",
              "      fill: #174EA6;\n",
              "    }\n",
              "\n",
              "    [theme=dark] .colab-df-convert {\n",
              "      background-color: #3B4455;\n",
              "      fill: #D2E3FC;\n",
              "    }\n",
              "\n",
              "    [theme=dark] .colab-df-convert:hover {\n",
              "      background-color: #434B5C;\n",
              "      box-shadow: 0px 1px 3px 1px rgba(0, 0, 0, 0.15);\n",
              "      filter: drop-shadow(0px 1px 2px rgba(0, 0, 0, 0.3));\n",
              "      fill: #FFFFFF;\n",
              "    }\n",
              "  </style>\n",
              "\n",
              "      <script>\n",
              "        const buttonEl =\n",
              "          document.querySelector('#df-787e9e67-e9a9-4dc3-aa17-02e75d9159e3 button.colab-df-convert');\n",
              "        buttonEl.style.display =\n",
              "          google.colab.kernel.accessAllowed ? 'block' : 'none';\n",
              "\n",
              "        async function convertToInteractive(key) {\n",
              "          const element = document.querySelector('#df-787e9e67-e9a9-4dc3-aa17-02e75d9159e3');\n",
              "          const dataTable =\n",
              "            await google.colab.kernel.invokeFunction('convertToInteractive',\n",
              "                                                     [key], {});\n",
              "          if (!dataTable) return;\n",
              "\n",
              "          const docLinkHtml = 'Like what you see? Visit the ' +\n",
              "            '<a target=\"_blank\" href=https://colab.research.google.com/notebooks/data_table.ipynb>data table notebook</a>'\n",
              "            + ' to learn more about interactive tables.';\n",
              "          element.innerHTML = '';\n",
              "          dataTable['output_type'] = 'display_data';\n",
              "          await google.colab.output.renderOutput(dataTable, element);\n",
              "          const docLink = document.createElement('div');\n",
              "          docLink.innerHTML = docLinkHtml;\n",
              "          element.appendChild(docLink);\n",
              "        }\n",
              "      </script>\n",
              "    </div>\n",
              "  </div>\n",
              "  "
            ]
          },
          "metadata": {},
          "execution_count": 25
        }
      ]
    },
    {
      "cell_type": "markdown",
      "source": [
        "**My own example 25 - Creating a Java program that mutiplies 10 times A(600x100) and  B (100x600) matrices**"
      ],
      "metadata": {
        "id": "OjOecKv-d-ML"
      }
    },
    {
      "cell_type": "code",
      "source": [
        "# Run and print a shell command.\n",
        "def run(cmd):\n",
        "  print('>> {}'.format(cmd))\n",
        "  !{cmd}  # This is magic to run 'cmd' in the shell.\n",
        "  print('')\n",
        "\n",
        "# Copy the input file into the local filesystem.\n",
        "run('mkdir -p data')\n",
        "run('gsutil cp gs://dataflow-samples/shakespeare/kinglear.txt data/')"
      ],
      "metadata": {
        "id": "o8UPxOqs7C34",
        "colab": {
          "base_uri": "https://localhost:8080/"
        },
        "outputId": "5031985a-10d0-4dd5-9437-e3b266492827"
      },
      "execution_count": null,
      "outputs": [
        {
          "output_type": "stream",
          "name": "stdout",
          "text": [
            ">> mkdir -p data\n",
            "\n",
            ">> gsutil cp gs://dataflow-samples/shakespeare/kinglear.txt data/\n",
            "Copying gs://dataflow-samples/shakespeare/kinglear.txt...\n",
            "/ [1 files][153.6 KiB/153.6 KiB]                                                \n",
            "Operation completed over 1 objects/153.6 KiB.                                    \n",
            "\n"
          ]
        }
      ]
    },
    {
      "cell_type": "code",
      "source": [
        "# Update and upgrade the system before installing anything else.\n",
        "run('apt-get update > /dev/null')\n",
        "run('apt-get upgrade > /dev/null')\n",
        "\n",
        "# Install the Java JDK.\n",
        "run('apt-get install default-jdk > /dev/null')\n",
        "\n",
        "# Check the Java version to see if everything is working well.\n",
        "run('javac -version')"
      ],
      "metadata": {
        "id": "i0nYVOV6OgT8",
        "colab": {
          "base_uri": "https://localhost:8080/"
        },
        "outputId": "d4cfb213-9d2c-48de-90b4-285145dd1af3"
      },
      "execution_count": null,
      "outputs": [
        {
          "output_type": "stream",
          "name": "stdout",
          "text": [
            ">> apt-get update > /dev/null\n",
            "\n",
            ">> apt-get upgrade > /dev/null\n",
            "\n",
            ">> apt-get install default-jdk > /dev/null\n",
            "\n",
            ">> javac -version\n",
            "javac 11.0.16\n",
            "\n"
          ]
        }
      ]
    },
    {
      "cell_type": "code",
      "source": [
        "import os\n",
        "\n",
        "# Download the gradle source.\n",
        "gradle_version = 'gradle-5.0'\n",
        "gradle_path = f\"/opt/{gradle_version}\"\n",
        "if not os.path.exists(gradle_path):\n",
        "  run(f\"wget -q -nc -O gradle.zip https://services.gradle.org/distributions/{gradle_version}-bin.zip\")\n",
        "  run('unzip -q -d /opt gradle.zip')\n",
        "  run('rm -f gradle.zip')\n",
        "\n",
        "# We're choosing to use the absolute path instead of adding it to the $PATH environment variable.\n",
        "def gradle(args):\n",
        "  run(f\"{gradle_path}/bin/gradle --console=plain {args}\")\n",
        "\n",
        "gradle('-v')"
      ],
      "metadata": {
        "id": "y_zu0wh2KvVx",
        "colab": {
          "base_uri": "https://localhost:8080/"
        },
        "outputId": "a08a0d40-d9eb-468a-eb73-3579db8ab09b"
      },
      "execution_count": null,
      "outputs": [
        {
          "output_type": "stream",
          "name": "stdout",
          "text": [
            ">> /opt/gradle-5.0/bin/gradle --console=plain -v\n",
            "\u001b[m\n",
            "------------------------------------------------------------\n",
            "Gradle 5.0\n",
            "------------------------------------------------------------\n",
            "\n",
            "Build time:   2018-11-26 11:48:43 UTC\n",
            "Revision:     7fc6e5abf2fc5fe0824aec8a0f5462664dbcd987\n",
            "\n",
            "Kotlin DSL:   1.0.4\n",
            "Kotlin:       1.3.10\n",
            "Groovy:       2.5.4\n",
            "Ant:          Apache Ant(TM) version 1.9.13 compiled on July 10 2018\n",
            "JVM:          11.0.16 (Ubuntu 11.0.16+8-post-Ubuntu-0ubuntu118.04)\n",
            "OS:           Linux 5.4.188+ amd64\n",
            "\n",
            "\u001b[m\n"
          ]
        }
      ]
    },
    {
      "cell_type": "code",
      "source": [
        "%%writefile build.gradle\n",
        "\n",
        "plugins {\n",
        "  // id 'idea'     // Uncomment for IntelliJ IDE\n",
        "  // id 'eclipse'  // Uncomment for Eclipse IDE\n",
        "\n",
        "  // Apply java plugin and make it a runnable application.\n",
        "  id 'java'\n",
        "  id 'application'\n",
        "\n",
        "  // 'shadow' allows us to embed all the dependencies into a fat jar.\n",
        "  id 'com.github.johnrengelman.shadow' version '4.0.3'\n",
        "}\n",
        "\n",
        "// This is the path of the main class, stored within ./src/main/java/\n",
        "mainClassName = 'samples.quickstart.WordCount'\n",
        "\n",
        "// Declare the sources from which to fetch dependencies.\n",
        "repositories {\n",
        "  mavenCentral()\n",
        "}\n",
        "\n",
        "// Java version compatibility.\n",
        "sourceCompatibility = 1.8\n",
        "targetCompatibility = 1.8\n",
        "\n",
        "// Use the latest Apache Beam major version 2.\n",
        "// You can also lock into a minor version like '2.9.+'.\n",
        "ext.apacheBeamVersion = '2.+'\n",
        "\n",
        "// Declare the dependencies of the project.\n",
        "dependencies {\n",
        "  shadow \"org.apache.beam:beam-sdks-java-core:$apacheBeamVersion\"\n",
        "\n",
        "  runtime \"org.apache.beam:beam-runners-direct-java:$apacheBeamVersion\"\n",
        "  runtime \"org.slf4j:slf4j-api:1.+\"\n",
        "  runtime \"org.slf4j:slf4j-jdk14:1.+\"\n",
        "\n",
        "  testCompile \"junit:junit:4.+\"\n",
        "}\n",
        "\n",
        "// Configure 'shadowJar' instead of 'jar' to set up the fat jar.\n",
        "shadowJar {\n",
        "  baseName = 'WordCount'  // Name of the fat jar file.\n",
        "  classifier = null       // Set to null, otherwise 'shadow' appends a '-all' to the jar file name.\n",
        "  manifest {\n",
        "    attributes('Main-Class': mainClassName)  // Specify where the main class resides.\n",
        "  }\n",
        "}"
      ],
      "metadata": {
        "id": "XqstO1k5Pwiv",
        "colab": {
          "base_uri": "https://localhost:8080/"
        },
        "outputId": "061b8756-541f-490a-da27-e5d592248c34"
      },
      "execution_count": null,
      "outputs": [
        {
          "output_type": "stream",
          "name": "stdout",
          "text": [
            "Overwriting build.gradle\n"
          ]
        }
      ]
    },
    {
      "cell_type": "code",
      "source": [
        "run('mkdir -p src/main/java/samples/quickstart')"
      ],
      "metadata": {
        "id": "cRpgPzzDjo_X",
        "colab": {
          "base_uri": "https://localhost:8080/"
        },
        "outputId": "48fdc52b-c746-4713-827c-5f230de1e271"
      },
      "execution_count": null,
      "outputs": [
        {
          "output_type": "stream",
          "name": "stdout",
          "text": [
            ">> mkdir -p src/main/java/samples/quickstart\n",
            "\n"
          ]
        }
      ]
    },
    {
      "cell_type": "code",
      "source": [
        "%%writefile src/main/java/samples/quickstart/WordCount.java\n",
        "\n",
        "package samples.quickstart;\n",
        "import java.util.Arrays;\n",
        "import java.lang.Math;\n",
        "\n",
        "public class WordCount {\n",
        "  public static void main(String[] args) {\n",
        "\n",
        "    int [][] mat1 = new int [100][600];\n",
        "    int [][] mat2 = new int [600][100];\n",
        "\n",
        "    int [][] resp = new int [100][100];\n",
        "\n",
        "    for(int i = 0 ; i < 100 ; i++){\n",
        "      for(int j = 0 ; j < 600 ; j++){\n",
        "        mat1[i][j] = (int) (Math.random()*(9-1)) + 1;\n",
        "      }\n",
        "    }\n",
        "\n",
        "    for(int i = 0 ; i < 600 ; i++){\n",
        "      for(int j = 0 ; j < 100 ; j++){\n",
        "        mat2[i][j] = (int) (Math.random()*(9-1)) + 1;\n",
        "      }\n",
        "    }\n",
        "    \n",
        "    for(int i = 0 ; i < 100 ; i++){\n",
        "      for(int j = 0 ; j < 100 ; j++){\n",
        "        int aux = 0;\n",
        "        for(int k = 0 ; k < 600 ; k++){\n",
        "          aux += mat1[i][k] * mat2[k][j];\n",
        "        }\n",
        "        resp[i][j] = aux;\n",
        "      }\n",
        "    }\n",
        "  }\n",
        "}"
      ],
      "metadata": {
        "id": "WjiWpvTOjuO2",
        "colab": {
          "base_uri": "https://localhost:8080/"
        },
        "outputId": "74983a76-d740-4361-8d2c-3f4a65a8d7cb"
      },
      "execution_count": null,
      "outputs": [
        {
          "output_type": "stream",
          "name": "stdout",
          "text": [
            "Overwriting src/main/java/samples/quickstart/WordCount.java\n"
          ]
        }
      ]
    },
    {
      "cell_type": "code",
      "source": [
        "# Build the project.\n",
        "gradle('build')\n",
        "\n",
        "# Check the generated build files.\n",
        "run('ls -lh build/libs/')"
      ],
      "metadata": {
        "id": "YxnoLRrylrvQ",
        "colab": {
          "base_uri": "https://localhost:8080/"
        },
        "outputId": "ea6bc056-4f0a-45db-dbfb-8214e92a76d6"
      },
      "execution_count": null,
      "outputs": [
        {
          "output_type": "stream",
          "name": "stdout",
          "text": [
            ">> /opt/gradle-5.0/bin/gradle --console=plain build\n",
            "\u001b[m> Task :compileJava UP-TO-DATE\n",
            "> Task :processResources NO-SOURCE\n",
            "> Task :classes UP-TO-DATE\n",
            "> Task :jar UP-TO-DATE\n",
            "> Task :startScripts UP-TO-DATE\n",
            "> Task :distTar UP-TO-DATE\n",
            "> Task :distZip UP-TO-DATE\n",
            "> Task :shadowJar UP-TO-DATE\n",
            "> Task :startShadowScripts UP-TO-DATE\n",
            "> Task :shadowDistTar UP-TO-DATE\n",
            "> Task :shadowDistZip UP-TO-DATE\n",
            "> Task :assemble UP-TO-DATE\n",
            "> Task :compileTestJava NO-SOURCE\n",
            "> Task :processTestResources NO-SOURCE\n",
            "> Task :testClasses UP-TO-DATE\n",
            "> Task :test NO-SOURCE\n",
            "> Task :check UP-TO-DATE\n",
            "> Task :build UP-TO-DATE\n",
            "\n",
            "BUILD SUCCESSFUL in 1s\n",
            "9 actionable tasks: 9 up-to-date\n",
            "\u001b[m\n",
            ">> ls -lh build/libs/\n",
            "total 43M\n",
            "-rw-r--r-- 1 root root 1.3K Sep  5 00:04 content.jar\n",
            "-rw-r--r-- 1 root root  43M Sep  5 00:04 WordCount.jar\n",
            "\n"
          ]
        }
      ]
    },
    {
      "cell_type": "markdown",
      "source": [
        "**My own example 26 - Running the Java program that mutiplies 10 times A(600x100) and  B (100x600) matrices**"
      ],
      "metadata": {
        "id": "J75aKNvZeFHx"
      }
    },
    {
      "cell_type": "code",
      "source": [
        "%%time\n",
        "run('cp build/libs/WordCount.jar .')\n",
        "run('java -jar WordCount.jar')"
      ],
      "metadata": {
        "id": "NP_QcZqA7EPn",
        "colab": {
          "base_uri": "https://localhost:8080/"
        },
        "outputId": "c57007de-90ba-42bb-fd3a-0f55e458e045"
      },
      "execution_count": null,
      "outputs": [
        {
          "output_type": "stream",
          "name": "stdout",
          "text": [
            ">> cp build/libs/WordCount.jar .\n",
            "\n",
            ">> java -jar WordCount.jar\n",
            "\n",
            "CPU times: user 13.4 ms, sys: 19.1 ms, total: 32.6 ms\n",
            "Wall time: 346 ms\n"
          ]
        }
      ]
    },
    {
      "cell_type": "code",
      "source": [
        "%%time\n",
        "run('cp build/libs/WordCount.jar .')\n",
        "run('java -jar WordCount.jar')"
      ],
      "metadata": {
        "id": "wKKQO4ulqZYw",
        "colab": {
          "base_uri": "https://localhost:8080/"
        },
        "outputId": "0009d869-230b-4f45-b352-a86d697fe284"
      },
      "execution_count": null,
      "outputs": [
        {
          "output_type": "stream",
          "name": "stdout",
          "text": [
            ">> cp build/libs/WordCount.jar .\n",
            "\n",
            ">> java -jar WordCount.jar\n",
            "\n",
            "CPU times: user 20.8 ms, sys: 28.2 ms, total: 49 ms\n",
            "Wall time: 361 ms\n"
          ]
        }
      ]
    },
    {
      "cell_type": "code",
      "source": [
        "%%time\n",
        "run('cp build/libs/WordCount.jar .')\n",
        "run('java -jar WordCount.jar')"
      ],
      "metadata": {
        "id": "bXSNmBShqZPI",
        "colab": {
          "base_uri": "https://localhost:8080/"
        },
        "outputId": "84ad24bb-2120-4995-c13b-22d672f48694"
      },
      "execution_count": null,
      "outputs": [
        {
          "output_type": "stream",
          "name": "stdout",
          "text": [
            ">> cp build/libs/WordCount.jar .\n",
            "\n",
            ">> java -jar WordCount.jar\n",
            "\n",
            "CPU times: user 22.1 ms, sys: 28.3 ms, total: 50.4 ms\n",
            "Wall time: 362 ms\n"
          ]
        }
      ]
    },
    {
      "cell_type": "code",
      "source": [
        "%%time\n",
        "run('cp build/libs/WordCount.jar .')\n",
        "run('java -jar WordCount.jar')"
      ],
      "metadata": {
        "id": "BevL3Kb-qZGX",
        "colab": {
          "base_uri": "https://localhost:8080/"
        },
        "outputId": "12a669d9-e890-47e5-9fc3-3f5de7f5a008"
      },
      "execution_count": null,
      "outputs": [
        {
          "output_type": "stream",
          "name": "stdout",
          "text": [
            ">> cp build/libs/WordCount.jar .\n",
            "\n",
            ">> java -jar WordCount.jar\n",
            "\n",
            "CPU times: user 16.8 ms, sys: 27.2 ms, total: 44 ms\n",
            "Wall time: 354 ms\n"
          ]
        }
      ]
    },
    {
      "cell_type": "code",
      "source": [
        "%%time\n",
        "run('cp build/libs/WordCount.jar .')\n",
        "run('java -jar WordCount.jar')"
      ],
      "metadata": {
        "id": "E-ah33S9qY86",
        "colab": {
          "base_uri": "https://localhost:8080/"
        },
        "outputId": "7f753f24-21a3-41b7-a32b-d4cf0db14d8b"
      },
      "execution_count": null,
      "outputs": [
        {
          "output_type": "stream",
          "name": "stdout",
          "text": [
            ">> cp build/libs/WordCount.jar .\n",
            "\n",
            ">> java -jar WordCount.jar\n",
            "\n",
            "CPU times: user 17.5 ms, sys: 24.2 ms, total: 41.7 ms\n",
            "Wall time: 349 ms\n"
          ]
        }
      ]
    },
    {
      "cell_type": "code",
      "source": [
        "%%time\n",
        "run('cp build/libs/WordCount.jar .')\n",
        "run('java -jar WordCount.jar')"
      ],
      "metadata": {
        "id": "0CBMB0LJqY0f",
        "colab": {
          "base_uri": "https://localhost:8080/"
        },
        "outputId": "087331de-a54e-49ab-d13f-7966807ce725"
      },
      "execution_count": null,
      "outputs": [
        {
          "output_type": "stream",
          "name": "stdout",
          "text": [
            ">> cp build/libs/WordCount.jar .\n",
            "\n",
            ">> java -jar WordCount.jar\n",
            "\n",
            "CPU times: user 22.8 ms, sys: 21.1 ms, total: 44 ms\n",
            "Wall time: 355 ms\n"
          ]
        }
      ]
    },
    {
      "cell_type": "code",
      "source": [
        "%%time\n",
        "run('cp build/libs/WordCount.jar .')\n",
        "run('java -jar WordCount.jar')"
      ],
      "metadata": {
        "id": "5mXjY7JIqYSX",
        "colab": {
          "base_uri": "https://localhost:8080/"
        },
        "outputId": "097b2763-0e5b-48d7-be87-b4568933c9c5"
      },
      "execution_count": null,
      "outputs": [
        {
          "output_type": "stream",
          "name": "stdout",
          "text": [
            ">> cp build/libs/WordCount.jar .\n",
            "\n",
            ">> java -jar WordCount.jar\n",
            "\n",
            "CPU times: user 19.8 ms, sys: 20.1 ms, total: 39.9 ms\n",
            "Wall time: 352 ms\n"
          ]
        }
      ]
    },
    {
      "cell_type": "code",
      "source": [
        "%%time\n",
        "run('cp build/libs/WordCount.jar .')\n",
        "run('java -jar WordCount.jar')"
      ],
      "metadata": {
        "id": "4MVTxG4IqYKf",
        "colab": {
          "base_uri": "https://localhost:8080/"
        },
        "outputId": "442520fd-8f4c-4297-ff3f-27e9c1707c67"
      },
      "execution_count": null,
      "outputs": [
        {
          "output_type": "stream",
          "name": "stdout",
          "text": [
            ">> cp build/libs/WordCount.jar .\n",
            "\n",
            ">> java -jar WordCount.jar\n",
            "\n",
            "CPU times: user 18.7 ms, sys: 24.3 ms, total: 42.9 ms\n",
            "Wall time: 362 ms\n"
          ]
        }
      ]
    },
    {
      "cell_type": "code",
      "source": [
        "%%time\n",
        "run('cp build/libs/WordCount.jar .')\n",
        "run('java -jar WordCount.jar')"
      ],
      "metadata": {
        "id": "7ZyI-ZoEqYB3",
        "colab": {
          "base_uri": "https://localhost:8080/"
        },
        "outputId": "3ad3b28d-4f11-48cc-9b2b-db84c93716c6"
      },
      "execution_count": null,
      "outputs": [
        {
          "output_type": "stream",
          "name": "stdout",
          "text": [
            ">> cp build/libs/WordCount.jar .\n",
            "\n",
            ">> java -jar WordCount.jar\n",
            "\n",
            "CPU times: user 17.5 ms, sys: 36.3 ms, total: 53.8 ms\n",
            "Wall time: 373 ms\n"
          ]
        }
      ]
    },
    {
      "cell_type": "code",
      "source": [
        "%%time\n",
        "run('cp build/libs/WordCount.jar .')\n",
        "run('java -jar WordCount.jar')"
      ],
      "metadata": {
        "id": "7S03Kqn9qX5n",
        "colab": {
          "base_uri": "https://localhost:8080/"
        },
        "outputId": "eda740bb-5c47-4f6c-ea95-d26f4571073b"
      },
      "execution_count": null,
      "outputs": [
        {
          "output_type": "stream",
          "name": "stdout",
          "text": [
            ">> cp build/libs/WordCount.jar .\n",
            "\n",
            ">> java -jar WordCount.jar\n",
            "\n",
            "CPU times: user 22.9 ms, sys: 31.9 ms, total: 54.8 ms\n",
            "Wall time: 376 ms\n"
          ]
        }
      ]
    },
    {
      "cell_type": "markdown",
      "source": [
        "**My own example 27 - Adding Java average execution time to the data frame**"
      ],
      "metadata": {
        "id": "C75pEHRieNfo"
      }
    },
    {
      "cell_type": "code",
      "source": [
        "from statistics import mean\n",
        "totalJava = (401, 342, 256, 347, 308, 313, 350, 291, 306, 322)\n",
        "promedioJava = mean(totalJava)\n",
        "promedioJava"
      ],
      "metadata": {
        "id": "5ZDLYWrY7Fhi",
        "colab": {
          "base_uri": "https://localhost:8080/"
        },
        "outputId": "6598cc57-c0e7-4e0f-dacd-64d64de8df32"
      },
      "execution_count": null,
      "outputs": [
        {
          "output_type": "execute_result",
          "data": {
            "text/plain": [
              "323.6"
            ]
          },
          "metadata": {},
          "execution_count": 27
        }
      ]
    },
    {
      "cell_type": "code",
      "source": [
        "avgExec.loc[\"Java\"] = [promedioJava]\n",
        "avgExec"
      ],
      "metadata": {
        "id": "RgVnXC_mlbpK",
        "colab": {
          "base_uri": "https://localhost:8080/",
          "height": 269
        },
        "outputId": "0d8e9ebd-3fba-4913-c5aa-da4c864ca8b3"
      },
      "execution_count": null,
      "outputs": [
        {
          "output_type": "execute_result",
          "data": {
            "text/plain": [
              "               Time (ms)\n",
              "Python            910.00\n",
              "Numpy              62.30\n",
              "Fortran Magic     465.00\n",
              "Fortran           289.00\n",
              "C                 122.40\n",
              "C++               124.56\n",
              "Java              323.60"
            ],
            "text/html": [
              "\n",
              "  <div id=\"df-70d91238-1e5c-417d-b694-7a6dbeb5df22\">\n",
              "    <div class=\"colab-df-container\">\n",
              "      <div>\n",
              "<style scoped>\n",
              "    .dataframe tbody tr th:only-of-type {\n",
              "        vertical-align: middle;\n",
              "    }\n",
              "\n",
              "    .dataframe tbody tr th {\n",
              "        vertical-align: top;\n",
              "    }\n",
              "\n",
              "    .dataframe thead th {\n",
              "        text-align: right;\n",
              "    }\n",
              "</style>\n",
              "<table border=\"1\" class=\"dataframe\">\n",
              "  <thead>\n",
              "    <tr style=\"text-align: right;\">\n",
              "      <th></th>\n",
              "      <th>Time (ms)</th>\n",
              "    </tr>\n",
              "  </thead>\n",
              "  <tbody>\n",
              "    <tr>\n",
              "      <th>Python</th>\n",
              "      <td>910.00</td>\n",
              "    </tr>\n",
              "    <tr>\n",
              "      <th>Numpy</th>\n",
              "      <td>62.30</td>\n",
              "    </tr>\n",
              "    <tr>\n",
              "      <th>Fortran Magic</th>\n",
              "      <td>465.00</td>\n",
              "    </tr>\n",
              "    <tr>\n",
              "      <th>Fortran</th>\n",
              "      <td>289.00</td>\n",
              "    </tr>\n",
              "    <tr>\n",
              "      <th>C</th>\n",
              "      <td>122.40</td>\n",
              "    </tr>\n",
              "    <tr>\n",
              "      <th>C++</th>\n",
              "      <td>124.56</td>\n",
              "    </tr>\n",
              "    <tr>\n",
              "      <th>Java</th>\n",
              "      <td>323.60</td>\n",
              "    </tr>\n",
              "  </tbody>\n",
              "</table>\n",
              "</div>\n",
              "      <button class=\"colab-df-convert\" onclick=\"convertToInteractive('df-70d91238-1e5c-417d-b694-7a6dbeb5df22')\"\n",
              "              title=\"Convert this dataframe to an interactive table.\"\n",
              "              style=\"display:none;\">\n",
              "        \n",
              "  <svg xmlns=\"http://www.w3.org/2000/svg\" height=\"24px\"viewBox=\"0 0 24 24\"\n",
              "       width=\"24px\">\n",
              "    <path d=\"M0 0h24v24H0V0z\" fill=\"none\"/>\n",
              "    <path d=\"M18.56 5.44l.94 2.06.94-2.06 2.06-.94-2.06-.94-.94-2.06-.94 2.06-2.06.94zm-11 1L8.5 8.5l.94-2.06 2.06-.94-2.06-.94L8.5 2.5l-.94 2.06-2.06.94zm10 10l.94 2.06.94-2.06 2.06-.94-2.06-.94-.94-2.06-.94 2.06-2.06.94z\"/><path d=\"M17.41 7.96l-1.37-1.37c-.4-.4-.92-.59-1.43-.59-.52 0-1.04.2-1.43.59L10.3 9.45l-7.72 7.72c-.78.78-.78 2.05 0 2.83L4 21.41c.39.39.9.59 1.41.59.51 0 1.02-.2 1.41-.59l7.78-7.78 2.81-2.81c.8-.78.8-2.07 0-2.86zM5.41 20L4 18.59l7.72-7.72 1.47 1.35L5.41 20z\"/>\n",
              "  </svg>\n",
              "      </button>\n",
              "      \n",
              "  <style>\n",
              "    .colab-df-container {\n",
              "      display:flex;\n",
              "      flex-wrap:wrap;\n",
              "      gap: 12px;\n",
              "    }\n",
              "\n",
              "    .colab-df-convert {\n",
              "      background-color: #E8F0FE;\n",
              "      border: none;\n",
              "      border-radius: 50%;\n",
              "      cursor: pointer;\n",
              "      display: none;\n",
              "      fill: #1967D2;\n",
              "      height: 32px;\n",
              "      padding: 0 0 0 0;\n",
              "      width: 32px;\n",
              "    }\n",
              "\n",
              "    .colab-df-convert:hover {\n",
              "      background-color: #E2EBFA;\n",
              "      box-shadow: 0px 1px 2px rgba(60, 64, 67, 0.3), 0px 1px 3px 1px rgba(60, 64, 67, 0.15);\n",
              "      fill: #174EA6;\n",
              "    }\n",
              "\n",
              "    [theme=dark] .colab-df-convert {\n",
              "      background-color: #3B4455;\n",
              "      fill: #D2E3FC;\n",
              "    }\n",
              "\n",
              "    [theme=dark] .colab-df-convert:hover {\n",
              "      background-color: #434B5C;\n",
              "      box-shadow: 0px 1px 3px 1px rgba(0, 0, 0, 0.15);\n",
              "      filter: drop-shadow(0px 1px 2px rgba(0, 0, 0, 0.3));\n",
              "      fill: #FFFFFF;\n",
              "    }\n",
              "  </style>\n",
              "\n",
              "      <script>\n",
              "        const buttonEl =\n",
              "          document.querySelector('#df-70d91238-1e5c-417d-b694-7a6dbeb5df22 button.colab-df-convert');\n",
              "        buttonEl.style.display =\n",
              "          google.colab.kernel.accessAllowed ? 'block' : 'none';\n",
              "\n",
              "        async function convertToInteractive(key) {\n",
              "          const element = document.querySelector('#df-70d91238-1e5c-417d-b694-7a6dbeb5df22');\n",
              "          const dataTable =\n",
              "            await google.colab.kernel.invokeFunction('convertToInteractive',\n",
              "                                                     [key], {});\n",
              "          if (!dataTable) return;\n",
              "\n",
              "          const docLinkHtml = 'Like what you see? Visit the ' +\n",
              "            '<a target=\"_blank\" href=https://colab.research.google.com/notebooks/data_table.ipynb>data table notebook</a>'\n",
              "            + ' to learn more about interactive tables.';\n",
              "          element.innerHTML = '';\n",
              "          dataTable['output_type'] = 'display_data';\n",
              "          await google.colab.output.renderOutput(dataTable, element);\n",
              "          const docLink = document.createElement('div');\n",
              "          docLink.innerHTML = docLinkHtml;\n",
              "          element.appendChild(docLink);\n",
              "        }\n",
              "      </script>\n",
              "    </div>\n",
              "  </div>\n",
              "  "
            ]
          },
          "metadata": {},
          "execution_count": 28
        }
      ]
    },
    {
      "cell_type": "markdown",
      "source": [
        "**My own example 28 - Creating a Javascript program that mutiplies 10 times A(600x100) and  B (100x600) matrices**"
      ],
      "metadata": {
        "id": "nHtevrHEeUiI"
      }
    },
    {
      "cell_type": "code",
      "source": [
        "!npm install -g npm@latest\n",
        "!npm cache verify\n",
        "!npm install -g --unsafe-perm ijavascript\n",
        "!ijsinstall --install=global\n",
        "!jupyter-kernelspec list"
      ],
      "metadata": {
        "id": "LT-Z3OYmCcnh",
        "colab": {
          "base_uri": "https://localhost:8080/"
        },
        "outputId": "cb1ea39e-01fb-4436-d32f-ad8e30e0b716"
      },
      "execution_count": null,
      "outputs": [
        {
          "output_type": "stream",
          "name": "stdout",
          "text": [
            "\u001b[K\u001b[?25h\n",
            "changed 16 packages, and audited 212 packages in 2s\n",
            "\n",
            "11 packages are looking for funding\n",
            "  run `npm fund` for details\n",
            "\n",
            "found \u001b[32m\u001b[1m0\u001b[22m\u001b[39m vulnerabilities\n",
            "Cache verified and compressed (~/.npm/_cacache)\n",
            "Content verified: 92 (27502770 bytes)\n",
            "Index entries: 93\n",
            "Finished in 0.477s\n",
            "\u001b[K\u001b[?25h\u001b[37;40mnpm\u001b[0m \u001b[0m\u001b[30;43mWARN\u001b[0m \u001b[0m\u001b[35mdeprecated\u001b[0m uuid@3.4.0: Please upgrade  to version 7 or higher.  Older versions may use Math.random() in certain circumstances, which is known to be problematic.  See https://v8.dev/blog/math-random for details.\n",
            "\u001b[K\u001b[?25h\n",
            "changed 8 packages, and audited 9 packages in 37s\n",
            "\n",
            "found \u001b[32m\u001b[1m0\u001b[22m\u001b[39m vulnerabilities\n",
            "Available kernels:\n",
            "  ir            /usr/local/share/jupyter/kernels/ir\n",
            "  javascript    /usr/local/share/jupyter/kernels/javascript\n",
            "  python3       /usr/local/share/jupyter/kernels/python3\n"
          ]
        }
      ]
    },
    {
      "cell_type": "code",
      "source": [
        "%%javascript\n",
        "var { spawn } = require('child_process');\n",
        "var sh = (cmd) => {\n",
        "    $$.async();\n",
        "    var sp = spawn(cmd, { cwd: process.cwd(), stdio: 'pipe', shell: true, encoding: 'utf-8' });\n",
        "    sp.stdout.on('data', data => console.log(data.toString()));\n",
        "    sp.stderr.on('data', data => console.error(data.toString()));\n",
        "    sp.on('close', () => $$.done());\n",
        "};"
      ],
      "metadata": {
        "id": "BIrMemHB-bfx",
        "colab": {
          "base_uri": "https://localhost:8080/",
          "height": 17
        },
        "outputId": "c642ab07-28fc-445d-dee1-4a585ec21f2c"
      },
      "execution_count": null,
      "outputs": [
        {
          "output_type": "display_data",
          "data": {
            "text/plain": [
              "<IPython.core.display.Javascript object>"
            ],
            "application/javascript": [
              "var { spawn } = require('child_process');\n",
              "var sh = (cmd) => {\n",
              "    $$.async();\n",
              "    var sp = spawn(cmd, { cwd: process.cwd(), stdio: 'pipe', shell: true, encoding: 'utf-8' });\n",
              "    sp.stdout.on('data', data => console.log(data.toString()));\n",
              "    sp.stderr.on('data', data => console.error(data.toString()));\n",
              "    sp.on('close', () => $$.done());\n",
              "};\n"
            ]
          },
          "metadata": {}
        }
      ]
    },
    {
      "cell_type": "code",
      "source": [
        "%%javascript\n",
        "sh('npm init -y');\n",
        "sh('node -v; npm -v');\n",
        "sh('npm install @tensorflow/tfjs-node-gpu');"
      ],
      "metadata": {
        "id": "4aUaSKQ_-4D3",
        "colab": {
          "base_uri": "https://localhost:8080/",
          "height": 17
        },
        "outputId": "d2149b8f-5ddc-44c0-f9e2-bfd82d6568f4"
      },
      "execution_count": null,
      "outputs": [
        {
          "output_type": "display_data",
          "data": {
            "text/plain": [
              "<IPython.core.display.Javascript object>"
            ],
            "application/javascript": [
              "sh('npm init -y');\n",
              "sh('node -v; npm -v');\n",
              "sh('npm install @tensorflow/tfjs-node-gpu');\n"
            ]
          },
          "metadata": {}
        }
      ]
    },
    {
      "cell_type": "code",
      "source": [
        "%%javascript\n",
        "function dotArray(mat1, mat2){\n",
        "  var res = [];\n",
        "  for(var i = 0 ; i < 100; i++){\n",
        "    var fil = []\n",
        "    for(var j = 0 ; j < 100 ; j++){\n",
        "      var aux = 0;\n",
        "      for(int k = 0 ; k < 600 ; k++){\n",
        "        aux = aux + (mat1[i][k]*mat2[k][j]);\n",
        "      }\n",
        "      fil.push(aux);\n",
        "    }\n",
        "    res.push(fil)\n",
        "  }\n",
        "  return res;\n",
        "}"
      ],
      "metadata": {
        "id": "oc4r-SJI_A29",
        "colab": {
          "base_uri": "https://localhost:8080/",
          "height": 17
        },
        "outputId": "5ed4c918-2a3f-4e1a-9557-57ada34a74be"
      },
      "execution_count": null,
      "outputs": [
        {
          "output_type": "display_data",
          "data": {
            "text/plain": [
              "<IPython.core.display.Javascript object>"
            ],
            "application/javascript": [
              "function dotArray(mat1, mat2){\n",
              "  var res = [];\n",
              "  for(var i = 0 ; i < 100; i++){\n",
              "    var fil = []\n",
              "    for(var j = 0 ; j < 100 ; j++){\n",
              "      var aux = 0;\n",
              "      for(int k = 0 ; k < 600 ; k++){\n",
              "        aux = aux + (mat1[i][k]*mat2[k][j]);\n",
              "      }\n",
              "      fil.push(aux);\n",
              "    }\n",
              "    res.push(fil)\n",
              "  }\n",
              "  return res;\n",
              "}\n"
            ]
          },
          "metadata": {}
        }
      ]
    },
    {
      "cell_type": "code",
      "source": [
        "%%javascript\n",
        "function matriz1(){\n",
        "  var mat1 = [];\n",
        "  for(var i = 0 ; i < 100 ; i++){\n",
        "    var fil = [];\n",
        "    for(var j = 0 ; j < 600 ; j++){\n",
        "      fil.push(Math.random() * (9 - 1));\n",
        "    }\n",
        "    mat.push(fil);\n",
        "  }\n",
        "  return mat1;\n",
        "}"
      ],
      "metadata": {
        "id": "lidKlMpVCUmB",
        "colab": {
          "base_uri": "https://localhost:8080/",
          "height": 17
        },
        "outputId": "c5b10cdb-3eff-4002-db4b-a3d289483d01"
      },
      "execution_count": null,
      "outputs": [
        {
          "output_type": "display_data",
          "data": {
            "text/plain": [
              "<IPython.core.display.Javascript object>"
            ],
            "application/javascript": [
              "function matriz1(){\n",
              "  var mat1 = [];\n",
              "  for(var i = 0 ; i < 100 ; i++){\n",
              "    var fil = [];\n",
              "    for(var j = 0 ; j < 600 ; j++){\n",
              "      fil.push(Math.random() * (9 - 1));\n",
              "    }\n",
              "    mat.push(fil);\n",
              "  }\n",
              "  return mat1;\n",
              "}\n"
            ]
          },
          "metadata": {}
        }
      ]
    },
    {
      "cell_type": "code",
      "source": [
        "%%javascript\n",
        "function matriz2(){\n",
        "  var mat1 = [];\n",
        "  for(var i = 0 ; i < 600 ; i++){\n",
        "    var fil = [];\n",
        "    for(var j = 0 ; j < 100 ; j++){\n",
        "      fil.push(Math.random() * (9 - 1));\n",
        "    }\n",
        "    mat.push(fil);\n",
        "  }\n",
        "  return mat1;\n",
        "}"
      ],
      "metadata": {
        "id": "XasD5FREDW6N",
        "colab": {
          "base_uri": "https://localhost:8080/",
          "height": 17
        },
        "outputId": "cafece09-3fe7-49a8-ffdc-327f91934bd1"
      },
      "execution_count": null,
      "outputs": [
        {
          "output_type": "display_data",
          "data": {
            "text/plain": [
              "<IPython.core.display.Javascript object>"
            ],
            "application/javascript": [
              "function matriz2(){\n",
              "  var mat1 = [];\n",
              "  for(var i = 0 ; i < 600 ; i++){\n",
              "    var fil = [];\n",
              "    for(var j = 0 ; j < 100 ; j++){\n",
              "      fil.push(Math.random() * (9 - 1));\n",
              "    }\n",
              "    mat.push(fil);\n",
              "  }\n",
              "  return mat1;\n",
              "}\n"
            ]
          },
          "metadata": {}
        }
      ]
    },
    {
      "cell_type": "markdown",
      "source": [
        "**My own example 29 - Running the Javascript program that mutiplies 10 times A(600x100) and  B (100x600) matrices**"
      ],
      "metadata": {
        "id": "87XpOlCteUZJ"
      }
    },
    {
      "cell_type": "code",
      "source": [
        "%%time\n",
        "%%javascript\n",
        "mat1 = matriz1();\n",
        "mat2 = matriz2();\n",
        "\n",
        "dotArray(mat1,mat2);"
      ],
      "metadata": {
        "id": "QEm52oVe7HyF",
        "colab": {
          "base_uri": "https://localhost:8080/",
          "height": 52
        },
        "outputId": "58660c18-1ead-411d-8401-19da9c8f737d"
      },
      "execution_count": null,
      "outputs": [
        {
          "output_type": "display_data",
          "data": {
            "text/plain": [
              "<IPython.core.display.Javascript object>"
            ],
            "application/javascript": [
              "mat1 = matriz1();\n",
              "mat2 = matriz2();\n",
              "\n",
              "dotArray(mat1,mat2);\n"
            ]
          },
          "metadata": {}
        },
        {
          "output_type": "stream",
          "name": "stdout",
          "text": [
            "CPU times: user 3.82 ms, sys: 0 ns, total: 3.82 ms\n",
            "Wall time: 3.79 ms\n"
          ]
        }
      ]
    },
    {
      "cell_type": "code",
      "source": [
        "%%time\n",
        "%%javascript\n",
        "mat1 = matriz1();\n",
        "mat2 = matriz2();\n",
        "\n",
        "dotArray(mat1,mat2);"
      ],
      "metadata": {
        "id": "zF7uy_NVDm4W",
        "colab": {
          "base_uri": "https://localhost:8080/",
          "height": 52
        },
        "outputId": "561e4a18-f991-4bec-836c-8cb1bcf5470d"
      },
      "execution_count": null,
      "outputs": [
        {
          "output_type": "display_data",
          "data": {
            "text/plain": [
              "<IPython.core.display.Javascript object>"
            ],
            "application/javascript": [
              "mat1 = matriz1();\n",
              "mat2 = matriz2();\n",
              "\n",
              "dotArray(mat1,mat2);\n"
            ]
          },
          "metadata": {}
        },
        {
          "output_type": "stream",
          "name": "stdout",
          "text": [
            "CPU times: user 3.56 ms, sys: 1.96 ms, total: 5.52 ms\n",
            "Wall time: 6.27 ms\n"
          ]
        }
      ]
    },
    {
      "cell_type": "code",
      "source": [
        "%%time\n",
        "%%javascript\n",
        "mat1 = matriz1();\n",
        "mat2 = matriz2();\n",
        "\n",
        "dotArray(mat1,mat2);"
      ],
      "metadata": {
        "id": "6K0yw-FMDmuL",
        "colab": {
          "base_uri": "https://localhost:8080/",
          "height": 52
        },
        "outputId": "fedd04d4-cc2b-425c-8cf3-58e415d486eb"
      },
      "execution_count": null,
      "outputs": [
        {
          "output_type": "display_data",
          "data": {
            "text/plain": [
              "<IPython.core.display.Javascript object>"
            ],
            "application/javascript": [
              "mat1 = matriz1();\n",
              "mat2 = matriz2();\n",
              "\n",
              "dotArray(mat1,mat2);\n"
            ]
          },
          "metadata": {}
        },
        {
          "output_type": "stream",
          "name": "stdout",
          "text": [
            "CPU times: user 4.53 ms, sys: 0 ns, total: 4.53 ms\n",
            "Wall time: 4.59 ms\n"
          ]
        }
      ]
    },
    {
      "cell_type": "code",
      "source": [
        "%%time\n",
        "%%javascript\n",
        "mat1 = matriz1();\n",
        "mat2 = matriz2();\n",
        "\n",
        "dotArray(mat1,mat2);"
      ],
      "metadata": {
        "id": "Wwknj3bEDmgb",
        "colab": {
          "base_uri": "https://localhost:8080/",
          "height": 52
        },
        "outputId": "162e13bb-9f85-43ce-f821-4a1f399a6e86"
      },
      "execution_count": null,
      "outputs": [
        {
          "output_type": "display_data",
          "data": {
            "text/plain": [
              "<IPython.core.display.Javascript object>"
            ],
            "application/javascript": [
              "mat1 = matriz1();\n",
              "mat2 = matriz2();\n",
              "\n",
              "dotArray(mat1,mat2);\n"
            ]
          },
          "metadata": {}
        },
        {
          "output_type": "stream",
          "name": "stdout",
          "text": [
            "CPU times: user 2.62 ms, sys: 0 ns, total: 2.62 ms\n",
            "Wall time: 2.68 ms\n"
          ]
        }
      ]
    },
    {
      "cell_type": "code",
      "source": [
        "%%time\n",
        "%%javascript\n",
        "mat1 = matriz1();\n",
        "mat2 = matriz2();\n",
        "\n",
        "dotArray(mat1,mat2);"
      ],
      "metadata": {
        "id": "n0b_f4QvDmUt",
        "colab": {
          "base_uri": "https://localhost:8080/",
          "height": 52
        },
        "outputId": "af42b336-c1da-4688-9209-f57437b847dc"
      },
      "execution_count": null,
      "outputs": [
        {
          "output_type": "display_data",
          "data": {
            "text/plain": [
              "<IPython.core.display.Javascript object>"
            ],
            "application/javascript": [
              "mat1 = matriz1();\n",
              "mat2 = matriz2();\n",
              "\n",
              "dotArray(mat1,mat2);\n"
            ]
          },
          "metadata": {}
        },
        {
          "output_type": "stream",
          "name": "stdout",
          "text": [
            "CPU times: user 9.73 ms, sys: 1.97 ms, total: 11.7 ms\n",
            "Wall time: 12.9 ms\n"
          ]
        }
      ]
    },
    {
      "cell_type": "code",
      "source": [
        "%%time\n",
        "%%javascript\n",
        "mat1 = matriz1();\n",
        "mat2 = matriz2();\n",
        "\n",
        "dotArray(mat1,mat2);"
      ],
      "metadata": {
        "id": "Us8WSERwDmJE",
        "colab": {
          "base_uri": "https://localhost:8080/",
          "height": 52
        },
        "outputId": "114ecd85-375c-43d0-81b4-293f050d37cf"
      },
      "execution_count": null,
      "outputs": [
        {
          "output_type": "display_data",
          "data": {
            "text/plain": [
              "<IPython.core.display.Javascript object>"
            ],
            "application/javascript": [
              "mat1 = matriz1();\n",
              "mat2 = matriz2();\n",
              "\n",
              "dotArray(mat1,mat2);\n"
            ]
          },
          "metadata": {}
        },
        {
          "output_type": "stream",
          "name": "stdout",
          "text": [
            "CPU times: user 4.22 ms, sys: 7 µs, total: 4.23 ms\n",
            "Wall time: 6.93 ms\n"
          ]
        }
      ]
    },
    {
      "cell_type": "code",
      "source": [
        "%%time\n",
        "%%javascript\n",
        "mat1 = matriz1();\n",
        "mat2 = matriz2();\n",
        "\n",
        "dotArray(mat1,mat2);"
      ],
      "metadata": {
        "id": "aiAwmFGsDl6t",
        "colab": {
          "base_uri": "https://localhost:8080/",
          "height": 52
        },
        "outputId": "2621ab4e-1977-4966-83e6-b810d202ee56"
      },
      "execution_count": null,
      "outputs": [
        {
          "output_type": "display_data",
          "data": {
            "text/plain": [
              "<IPython.core.display.Javascript object>"
            ],
            "application/javascript": [
              "mat1 = matriz1();\n",
              "mat2 = matriz2();\n",
              "\n",
              "dotArray(mat1,mat2);\n"
            ]
          },
          "metadata": {}
        },
        {
          "output_type": "stream",
          "name": "stdout",
          "text": [
            "CPU times: user 3.93 ms, sys: 0 ns, total: 3.93 ms\n",
            "Wall time: 7.71 ms\n"
          ]
        }
      ]
    },
    {
      "cell_type": "code",
      "source": [
        "%%time\n",
        "%%javascript\n",
        "mat1 = matriz1();\n",
        "mat2 = matriz2();\n",
        "\n",
        "dotArray(mat1,mat2);"
      ],
      "metadata": {
        "id": "G4uKvEZiDlxr",
        "colab": {
          "base_uri": "https://localhost:8080/",
          "height": 52
        },
        "outputId": "0a34e216-29fe-4c35-fbdd-d0f4f5b4196f"
      },
      "execution_count": null,
      "outputs": [
        {
          "output_type": "display_data",
          "data": {
            "text/plain": [
              "<IPython.core.display.Javascript object>"
            ],
            "application/javascript": [
              "mat1 = matriz1();\n",
              "mat2 = matriz2();\n",
              "\n",
              "dotArray(mat1,mat2);\n"
            ]
          },
          "metadata": {}
        },
        {
          "output_type": "stream",
          "name": "stdout",
          "text": [
            "CPU times: user 4.06 ms, sys: 1 µs, total: 4.06 ms\n",
            "Wall time: 5.34 ms\n"
          ]
        }
      ]
    },
    {
      "cell_type": "code",
      "source": [
        "%%time\n",
        "%%javascript\n",
        "mat1 = matriz1();\n",
        "mat2 = matriz2();\n",
        "\n",
        "dotArray(mat1,mat2);"
      ],
      "metadata": {
        "id": "cALMIjzjDlpM",
        "colab": {
          "base_uri": "https://localhost:8080/",
          "height": 52
        },
        "outputId": "bc671850-89c5-498e-a5e1-d5b7128d1144"
      },
      "execution_count": null,
      "outputs": [
        {
          "output_type": "display_data",
          "data": {
            "text/plain": [
              "<IPython.core.display.Javascript object>"
            ],
            "application/javascript": [
              "mat1 = matriz1();\n",
              "mat2 = matriz2();\n",
              "\n",
              "dotArray(mat1,mat2);\n"
            ]
          },
          "metadata": {}
        },
        {
          "output_type": "stream",
          "name": "stdout",
          "text": [
            "CPU times: user 3.72 ms, sys: 27 µs, total: 3.75 ms\n",
            "Wall time: 5.34 ms\n"
          ]
        }
      ]
    },
    {
      "cell_type": "code",
      "source": [
        "%%time\n",
        "%%javascript\n",
        "mat1 = matriz1();\n",
        "mat2 = matriz2();\n",
        "\n",
        "dotArray(mat1,mat2);"
      ],
      "metadata": {
        "id": "G_iA7v3WDlEE",
        "colab": {
          "base_uri": "https://localhost:8080/",
          "height": 52
        },
        "outputId": "5e3039aa-fb25-47d6-cc81-fcbb8bd5129e"
      },
      "execution_count": null,
      "outputs": [
        {
          "output_type": "display_data",
          "data": {
            "text/plain": [
              "<IPython.core.display.Javascript object>"
            ],
            "application/javascript": [
              "mat1 = matriz1();\n",
              "mat2 = matriz2();\n",
              "\n",
              "dotArray(mat1,mat2);\n"
            ]
          },
          "metadata": {}
        },
        {
          "output_type": "stream",
          "name": "stdout",
          "text": [
            "CPU times: user 6.5 ms, sys: 0 ns, total: 6.5 ms\n",
            "Wall time: 9.87 ms\n"
          ]
        }
      ]
    },
    {
      "cell_type": "markdown",
      "source": [
        "**My own example 30 - Adding Javascript average execution time to the data frame**"
      ],
      "metadata": {
        "id": "LvxaACodc9-K"
      }
    },
    {
      "cell_type": "code",
      "source": [
        "from statistics import mean\n",
        "totalJavaScript = (38.6, 34, 65.2, 35.5, 34.2, 40.9, 38.6, 45.3, 37.7, 37.7)\n",
        "promedioJavaScript = mean(totalJavaScript)\n",
        "promedioJavaScript"
      ],
      "metadata": {
        "id": "BP_cdxR17J50",
        "colab": {
          "base_uri": "https://localhost:8080/"
        },
        "outputId": "2667898b-6cc0-43a9-c14e-c42aea1d0cb1"
      },
      "execution_count": null,
      "outputs": [
        {
          "output_type": "execute_result",
          "data": {
            "text/plain": [
              "40.77"
            ]
          },
          "metadata": {},
          "execution_count": 29
        }
      ]
    },
    {
      "cell_type": "code",
      "source": [
        "avgExec.loc[\"JavaScript\"] = [promedioJavaScript]\n",
        "avgExec"
      ],
      "metadata": {
        "id": "DXXbQYOblih5",
        "colab": {
          "base_uri": "https://localhost:8080/",
          "height": 300
        },
        "outputId": "6e3e2d88-c032-4a33-a516-8e877f039729"
      },
      "execution_count": null,
      "outputs": [
        {
          "output_type": "execute_result",
          "data": {
            "text/plain": [
              "               Time (ms)\n",
              "Python            910.00\n",
              "Numpy              62.30\n",
              "Fortran Magic     465.00\n",
              "Fortran           289.00\n",
              "C                 122.40\n",
              "C++               124.56\n",
              "Java              323.60\n",
              "JavaScript         40.77"
            ],
            "text/html": [
              "\n",
              "  <div id=\"df-b5b8f23b-5e4e-437d-be32-ec868e12be7d\">\n",
              "    <div class=\"colab-df-container\">\n",
              "      <div>\n",
              "<style scoped>\n",
              "    .dataframe tbody tr th:only-of-type {\n",
              "        vertical-align: middle;\n",
              "    }\n",
              "\n",
              "    .dataframe tbody tr th {\n",
              "        vertical-align: top;\n",
              "    }\n",
              "\n",
              "    .dataframe thead th {\n",
              "        text-align: right;\n",
              "    }\n",
              "</style>\n",
              "<table border=\"1\" class=\"dataframe\">\n",
              "  <thead>\n",
              "    <tr style=\"text-align: right;\">\n",
              "      <th></th>\n",
              "      <th>Time (ms)</th>\n",
              "    </tr>\n",
              "  </thead>\n",
              "  <tbody>\n",
              "    <tr>\n",
              "      <th>Python</th>\n",
              "      <td>910.00</td>\n",
              "    </tr>\n",
              "    <tr>\n",
              "      <th>Numpy</th>\n",
              "      <td>62.30</td>\n",
              "    </tr>\n",
              "    <tr>\n",
              "      <th>Fortran Magic</th>\n",
              "      <td>465.00</td>\n",
              "    </tr>\n",
              "    <tr>\n",
              "      <th>Fortran</th>\n",
              "      <td>289.00</td>\n",
              "    </tr>\n",
              "    <tr>\n",
              "      <th>C</th>\n",
              "      <td>122.40</td>\n",
              "    </tr>\n",
              "    <tr>\n",
              "      <th>C++</th>\n",
              "      <td>124.56</td>\n",
              "    </tr>\n",
              "    <tr>\n",
              "      <th>Java</th>\n",
              "      <td>323.60</td>\n",
              "    </tr>\n",
              "    <tr>\n",
              "      <th>JavaScript</th>\n",
              "      <td>40.77</td>\n",
              "    </tr>\n",
              "  </tbody>\n",
              "</table>\n",
              "</div>\n",
              "      <button class=\"colab-df-convert\" onclick=\"convertToInteractive('df-b5b8f23b-5e4e-437d-be32-ec868e12be7d')\"\n",
              "              title=\"Convert this dataframe to an interactive table.\"\n",
              "              style=\"display:none;\">\n",
              "        \n",
              "  <svg xmlns=\"http://www.w3.org/2000/svg\" height=\"24px\"viewBox=\"0 0 24 24\"\n",
              "       width=\"24px\">\n",
              "    <path d=\"M0 0h24v24H0V0z\" fill=\"none\"/>\n",
              "    <path d=\"M18.56 5.44l.94 2.06.94-2.06 2.06-.94-2.06-.94-.94-2.06-.94 2.06-2.06.94zm-11 1L8.5 8.5l.94-2.06 2.06-.94-2.06-.94L8.5 2.5l-.94 2.06-2.06.94zm10 10l.94 2.06.94-2.06 2.06-.94-2.06-.94-.94-2.06-.94 2.06-2.06.94z\"/><path d=\"M17.41 7.96l-1.37-1.37c-.4-.4-.92-.59-1.43-.59-.52 0-1.04.2-1.43.59L10.3 9.45l-7.72 7.72c-.78.78-.78 2.05 0 2.83L4 21.41c.39.39.9.59 1.41.59.51 0 1.02-.2 1.41-.59l7.78-7.78 2.81-2.81c.8-.78.8-2.07 0-2.86zM5.41 20L4 18.59l7.72-7.72 1.47 1.35L5.41 20z\"/>\n",
              "  </svg>\n",
              "      </button>\n",
              "      \n",
              "  <style>\n",
              "    .colab-df-container {\n",
              "      display:flex;\n",
              "      flex-wrap:wrap;\n",
              "      gap: 12px;\n",
              "    }\n",
              "\n",
              "    .colab-df-convert {\n",
              "      background-color: #E8F0FE;\n",
              "      border: none;\n",
              "      border-radius: 50%;\n",
              "      cursor: pointer;\n",
              "      display: none;\n",
              "      fill: #1967D2;\n",
              "      height: 32px;\n",
              "      padding: 0 0 0 0;\n",
              "      width: 32px;\n",
              "    }\n",
              "\n",
              "    .colab-df-convert:hover {\n",
              "      background-color: #E2EBFA;\n",
              "      box-shadow: 0px 1px 2px rgba(60, 64, 67, 0.3), 0px 1px 3px 1px rgba(60, 64, 67, 0.15);\n",
              "      fill: #174EA6;\n",
              "    }\n",
              "\n",
              "    [theme=dark] .colab-df-convert {\n",
              "      background-color: #3B4455;\n",
              "      fill: #D2E3FC;\n",
              "    }\n",
              "\n",
              "    [theme=dark] .colab-df-convert:hover {\n",
              "      background-color: #434B5C;\n",
              "      box-shadow: 0px 1px 3px 1px rgba(0, 0, 0, 0.15);\n",
              "      filter: drop-shadow(0px 1px 2px rgba(0, 0, 0, 0.3));\n",
              "      fill: #FFFFFF;\n",
              "    }\n",
              "  </style>\n",
              "\n",
              "      <script>\n",
              "        const buttonEl =\n",
              "          document.querySelector('#df-b5b8f23b-5e4e-437d-be32-ec868e12be7d button.colab-df-convert');\n",
              "        buttonEl.style.display =\n",
              "          google.colab.kernel.accessAllowed ? 'block' : 'none';\n",
              "\n",
              "        async function convertToInteractive(key) {\n",
              "          const element = document.querySelector('#df-b5b8f23b-5e4e-437d-be32-ec868e12be7d');\n",
              "          const dataTable =\n",
              "            await google.colab.kernel.invokeFunction('convertToInteractive',\n",
              "                                                     [key], {});\n",
              "          if (!dataTable) return;\n",
              "\n",
              "          const docLinkHtml = 'Like what you see? Visit the ' +\n",
              "            '<a target=\"_blank\" href=https://colab.research.google.com/notebooks/data_table.ipynb>data table notebook</a>'\n",
              "            + ' to learn more about interactive tables.';\n",
              "          element.innerHTML = '';\n",
              "          dataTable['output_type'] = 'display_data';\n",
              "          await google.colab.output.renderOutput(dataTable, element);\n",
              "          const docLink = document.createElement('div');\n",
              "          docLink.innerHTML = docLinkHtml;\n",
              "          element.appendChild(docLink);\n",
              "        }\n",
              "      </script>\n",
              "    </div>\n",
              "  </div>\n",
              "  "
            ]
          },
          "metadata": {},
          "execution_count": 30
        }
      ]
    },
    {
      "cell_type": "markdown",
      "source": [
        "**My own example 31 - Finding the minimun average esecuiton time in the data frame**"
      ],
      "metadata": {
        "id": "XPP0Ir1dezN6"
      }
    },
    {
      "cell_type": "code",
      "source": [
        "avgExec.min()"
      ],
      "metadata": {
        "id": "y0rA3N9v7KyM",
        "colab": {
          "base_uri": "https://localhost:8080/"
        },
        "outputId": "bf188683-bd2c-457b-a370-2079d71b6c48"
      },
      "execution_count": null,
      "outputs": [
        {
          "output_type": "execute_result",
          "data": {
            "text/plain": [
              "Time (ms)    40.77\n",
              "dtype: float64"
            ]
          },
          "metadata": {},
          "execution_count": 31
        }
      ]
    },
    {
      "cell_type": "markdown",
      "source": [
        "**My own example 32 - Adding the Speed factor columne to the data frame**"
      ],
      "metadata": {
        "id": "_IjH2K6ldJAQ"
      }
    },
    {
      "cell_type": "code",
      "source": [
        "avgExec[\"SpeedFactor\"] = avgExec['Time (ms)'].apply(lambda x: x/avgExec.min())\n"
      ],
      "metadata": {
        "id": "IpA7DoiMyTPw"
      },
      "execution_count": null,
      "outputs": []
    },
    {
      "cell_type": "code",
      "source": [
        "avgExec"
      ],
      "metadata": {
        "id": "d8eiDHB0GpBF",
        "colab": {
          "base_uri": "https://localhost:8080/",
          "height": 300
        },
        "outputId": "97708069-d3db-4e71-ad95-2ec14f32a970"
      },
      "execution_count": null,
      "outputs": [
        {
          "output_type": "execute_result",
          "data": {
            "text/plain": [
              "               Time (ms)  SpeedFactor\n",
              "Python            910.00    22.320334\n",
              "Numpy              62.30     1.528084\n",
              "Fortran Magic     465.00    11.405445\n",
              "Fortran           289.00     7.088545\n",
              "C                 122.40     3.002208\n",
              "C++               124.56     3.055188\n",
              "Java              323.60     7.937209\n",
              "JavaScript         40.77     1.000000"
            ],
            "text/html": [
              "\n",
              "  <div id=\"df-e4dd3e64-31ac-495b-8c94-2bc843c52ffa\">\n",
              "    <div class=\"colab-df-container\">\n",
              "      <div>\n",
              "<style scoped>\n",
              "    .dataframe tbody tr th:only-of-type {\n",
              "        vertical-align: middle;\n",
              "    }\n",
              "\n",
              "    .dataframe tbody tr th {\n",
              "        vertical-align: top;\n",
              "    }\n",
              "\n",
              "    .dataframe thead th {\n",
              "        text-align: right;\n",
              "    }\n",
              "</style>\n",
              "<table border=\"1\" class=\"dataframe\">\n",
              "  <thead>\n",
              "    <tr style=\"text-align: right;\">\n",
              "      <th></th>\n",
              "      <th>Time (ms)</th>\n",
              "      <th>SpeedFactor</th>\n",
              "    </tr>\n",
              "  </thead>\n",
              "  <tbody>\n",
              "    <tr>\n",
              "      <th>Python</th>\n",
              "      <td>910.00</td>\n",
              "      <td>22.320334</td>\n",
              "    </tr>\n",
              "    <tr>\n",
              "      <th>Numpy</th>\n",
              "      <td>62.30</td>\n",
              "      <td>1.528084</td>\n",
              "    </tr>\n",
              "    <tr>\n",
              "      <th>Fortran Magic</th>\n",
              "      <td>465.00</td>\n",
              "      <td>11.405445</td>\n",
              "    </tr>\n",
              "    <tr>\n",
              "      <th>Fortran</th>\n",
              "      <td>289.00</td>\n",
              "      <td>7.088545</td>\n",
              "    </tr>\n",
              "    <tr>\n",
              "      <th>C</th>\n",
              "      <td>122.40</td>\n",
              "      <td>3.002208</td>\n",
              "    </tr>\n",
              "    <tr>\n",
              "      <th>C++</th>\n",
              "      <td>124.56</td>\n",
              "      <td>3.055188</td>\n",
              "    </tr>\n",
              "    <tr>\n",
              "      <th>Java</th>\n",
              "      <td>323.60</td>\n",
              "      <td>7.937209</td>\n",
              "    </tr>\n",
              "    <tr>\n",
              "      <th>JavaScript</th>\n",
              "      <td>40.77</td>\n",
              "      <td>1.000000</td>\n",
              "    </tr>\n",
              "  </tbody>\n",
              "</table>\n",
              "</div>\n",
              "      <button class=\"colab-df-convert\" onclick=\"convertToInteractive('df-e4dd3e64-31ac-495b-8c94-2bc843c52ffa')\"\n",
              "              title=\"Convert this dataframe to an interactive table.\"\n",
              "              style=\"display:none;\">\n",
              "        \n",
              "  <svg xmlns=\"http://www.w3.org/2000/svg\" height=\"24px\"viewBox=\"0 0 24 24\"\n",
              "       width=\"24px\">\n",
              "    <path d=\"M0 0h24v24H0V0z\" fill=\"none\"/>\n",
              "    <path d=\"M18.56 5.44l.94 2.06.94-2.06 2.06-.94-2.06-.94-.94-2.06-.94 2.06-2.06.94zm-11 1L8.5 8.5l.94-2.06 2.06-.94-2.06-.94L8.5 2.5l-.94 2.06-2.06.94zm10 10l.94 2.06.94-2.06 2.06-.94-2.06-.94-.94-2.06-.94 2.06-2.06.94z\"/><path d=\"M17.41 7.96l-1.37-1.37c-.4-.4-.92-.59-1.43-.59-.52 0-1.04.2-1.43.59L10.3 9.45l-7.72 7.72c-.78.78-.78 2.05 0 2.83L4 21.41c.39.39.9.59 1.41.59.51 0 1.02-.2 1.41-.59l7.78-7.78 2.81-2.81c.8-.78.8-2.07 0-2.86zM5.41 20L4 18.59l7.72-7.72 1.47 1.35L5.41 20z\"/>\n",
              "  </svg>\n",
              "      </button>\n",
              "      \n",
              "  <style>\n",
              "    .colab-df-container {\n",
              "      display:flex;\n",
              "      flex-wrap:wrap;\n",
              "      gap: 12px;\n",
              "    }\n",
              "\n",
              "    .colab-df-convert {\n",
              "      background-color: #E8F0FE;\n",
              "      border: none;\n",
              "      border-radius: 50%;\n",
              "      cursor: pointer;\n",
              "      display: none;\n",
              "      fill: #1967D2;\n",
              "      height: 32px;\n",
              "      padding: 0 0 0 0;\n",
              "      width: 32px;\n",
              "    }\n",
              "\n",
              "    .colab-df-convert:hover {\n",
              "      background-color: #E2EBFA;\n",
              "      box-shadow: 0px 1px 2px rgba(60, 64, 67, 0.3), 0px 1px 3px 1px rgba(60, 64, 67, 0.15);\n",
              "      fill: #174EA6;\n",
              "    }\n",
              "\n",
              "    [theme=dark] .colab-df-convert {\n",
              "      background-color: #3B4455;\n",
              "      fill: #D2E3FC;\n",
              "    }\n",
              "\n",
              "    [theme=dark] .colab-df-convert:hover {\n",
              "      background-color: #434B5C;\n",
              "      box-shadow: 0px 1px 3px 1px rgba(0, 0, 0, 0.15);\n",
              "      filter: drop-shadow(0px 1px 2px rgba(0, 0, 0, 0.3));\n",
              "      fill: #FFFFFF;\n",
              "    }\n",
              "  </style>\n",
              "\n",
              "      <script>\n",
              "        const buttonEl =\n",
              "          document.querySelector('#df-e4dd3e64-31ac-495b-8c94-2bc843c52ffa button.colab-df-convert');\n",
              "        buttonEl.style.display =\n",
              "          google.colab.kernel.accessAllowed ? 'block' : 'none';\n",
              "\n",
              "        async function convertToInteractive(key) {\n",
              "          const element = document.querySelector('#df-e4dd3e64-31ac-495b-8c94-2bc843c52ffa');\n",
              "          const dataTable =\n",
              "            await google.colab.kernel.invokeFunction('convertToInteractive',\n",
              "                                                     [key], {});\n",
              "          if (!dataTable) return;\n",
              "\n",
              "          const docLinkHtml = 'Like what you see? Visit the ' +\n",
              "            '<a target=\"_blank\" href=https://colab.research.google.com/notebooks/data_table.ipynb>data table notebook</a>'\n",
              "            + ' to learn more about interactive tables.';\n",
              "          element.innerHTML = '';\n",
              "          dataTable['output_type'] = 'display_data';\n",
              "          await google.colab.output.renderOutput(dataTable, element);\n",
              "          const docLink = document.createElement('div');\n",
              "          docLink.innerHTML = docLinkHtml;\n",
              "          element.appendChild(docLink);\n",
              "        }\n",
              "      </script>\n",
              "    </div>\n",
              "  </div>\n",
              "  "
            ]
          },
          "metadata": {},
          "execution_count": 33
        }
      ]
    },
    {
      "cell_type": "markdown",
      "source": [
        "**My own example 33 - Sorting the the data frame by average execution time**"
      ],
      "metadata": {
        "id": "CjiN21fvdRch"
      }
    },
    {
      "cell_type": "code",
      "source": [
        "avgExec.sort_values(\"Time (ms)\")"
      ],
      "metadata": {
        "id": "H0sTPBur0Q-F",
        "colab": {
          "base_uri": "https://localhost:8080/",
          "height": 300
        },
        "outputId": "28bb876e-fc49-4e6f-cacc-45607a6b0665"
      },
      "execution_count": null,
      "outputs": [
        {
          "output_type": "execute_result",
          "data": {
            "text/plain": [
              "               Time (ms)  SpeedFactor\n",
              "JavaScript         40.77     1.000000\n",
              "Numpy              62.30     1.528084\n",
              "C                 122.40     3.002208\n",
              "C++               124.56     3.055188\n",
              "Fortran           289.00     7.088545\n",
              "Java              323.60     7.937209\n",
              "Fortran Magic     465.00    11.405445\n",
              "Python            910.00    22.320334"
            ],
            "text/html": [
              "\n",
              "  <div id=\"df-6acc57ee-54f2-4d22-aa88-7a334530fe41\">\n",
              "    <div class=\"colab-df-container\">\n",
              "      <div>\n",
              "<style scoped>\n",
              "    .dataframe tbody tr th:only-of-type {\n",
              "        vertical-align: middle;\n",
              "    }\n",
              "\n",
              "    .dataframe tbody tr th {\n",
              "        vertical-align: top;\n",
              "    }\n",
              "\n",
              "    .dataframe thead th {\n",
              "        text-align: right;\n",
              "    }\n",
              "</style>\n",
              "<table border=\"1\" class=\"dataframe\">\n",
              "  <thead>\n",
              "    <tr style=\"text-align: right;\">\n",
              "      <th></th>\n",
              "      <th>Time (ms)</th>\n",
              "      <th>SpeedFactor</th>\n",
              "    </tr>\n",
              "  </thead>\n",
              "  <tbody>\n",
              "    <tr>\n",
              "      <th>JavaScript</th>\n",
              "      <td>40.77</td>\n",
              "      <td>1.000000</td>\n",
              "    </tr>\n",
              "    <tr>\n",
              "      <th>Numpy</th>\n",
              "      <td>62.30</td>\n",
              "      <td>1.528084</td>\n",
              "    </tr>\n",
              "    <tr>\n",
              "      <th>C</th>\n",
              "      <td>122.40</td>\n",
              "      <td>3.002208</td>\n",
              "    </tr>\n",
              "    <tr>\n",
              "      <th>C++</th>\n",
              "      <td>124.56</td>\n",
              "      <td>3.055188</td>\n",
              "    </tr>\n",
              "    <tr>\n",
              "      <th>Fortran</th>\n",
              "      <td>289.00</td>\n",
              "      <td>7.088545</td>\n",
              "    </tr>\n",
              "    <tr>\n",
              "      <th>Java</th>\n",
              "      <td>323.60</td>\n",
              "      <td>7.937209</td>\n",
              "    </tr>\n",
              "    <tr>\n",
              "      <th>Fortran Magic</th>\n",
              "      <td>465.00</td>\n",
              "      <td>11.405445</td>\n",
              "    </tr>\n",
              "    <tr>\n",
              "      <th>Python</th>\n",
              "      <td>910.00</td>\n",
              "      <td>22.320334</td>\n",
              "    </tr>\n",
              "  </tbody>\n",
              "</table>\n",
              "</div>\n",
              "      <button class=\"colab-df-convert\" onclick=\"convertToInteractive('df-6acc57ee-54f2-4d22-aa88-7a334530fe41')\"\n",
              "              title=\"Convert this dataframe to an interactive table.\"\n",
              "              style=\"display:none;\">\n",
              "        \n",
              "  <svg xmlns=\"http://www.w3.org/2000/svg\" height=\"24px\"viewBox=\"0 0 24 24\"\n",
              "       width=\"24px\">\n",
              "    <path d=\"M0 0h24v24H0V0z\" fill=\"none\"/>\n",
              "    <path d=\"M18.56 5.44l.94 2.06.94-2.06 2.06-.94-2.06-.94-.94-2.06-.94 2.06-2.06.94zm-11 1L8.5 8.5l.94-2.06 2.06-.94-2.06-.94L8.5 2.5l-.94 2.06-2.06.94zm10 10l.94 2.06.94-2.06 2.06-.94-2.06-.94-.94-2.06-.94 2.06-2.06.94z\"/><path d=\"M17.41 7.96l-1.37-1.37c-.4-.4-.92-.59-1.43-.59-.52 0-1.04.2-1.43.59L10.3 9.45l-7.72 7.72c-.78.78-.78 2.05 0 2.83L4 21.41c.39.39.9.59 1.41.59.51 0 1.02-.2 1.41-.59l7.78-7.78 2.81-2.81c.8-.78.8-2.07 0-2.86zM5.41 20L4 18.59l7.72-7.72 1.47 1.35L5.41 20z\"/>\n",
              "  </svg>\n",
              "      </button>\n",
              "      \n",
              "  <style>\n",
              "    .colab-df-container {\n",
              "      display:flex;\n",
              "      flex-wrap:wrap;\n",
              "      gap: 12px;\n",
              "    }\n",
              "\n",
              "    .colab-df-convert {\n",
              "      background-color: #E8F0FE;\n",
              "      border: none;\n",
              "      border-radius: 50%;\n",
              "      cursor: pointer;\n",
              "      display: none;\n",
              "      fill: #1967D2;\n",
              "      height: 32px;\n",
              "      padding: 0 0 0 0;\n",
              "      width: 32px;\n",
              "    }\n",
              "\n",
              "    .colab-df-convert:hover {\n",
              "      background-color: #E2EBFA;\n",
              "      box-shadow: 0px 1px 2px rgba(60, 64, 67, 0.3), 0px 1px 3px 1px rgba(60, 64, 67, 0.15);\n",
              "      fill: #174EA6;\n",
              "    }\n",
              "\n",
              "    [theme=dark] .colab-df-convert {\n",
              "      background-color: #3B4455;\n",
              "      fill: #D2E3FC;\n",
              "    }\n",
              "\n",
              "    [theme=dark] .colab-df-convert:hover {\n",
              "      background-color: #434B5C;\n",
              "      box-shadow: 0px 1px 3px 1px rgba(0, 0, 0, 0.15);\n",
              "      filter: drop-shadow(0px 1px 2px rgba(0, 0, 0, 0.3));\n",
              "      fill: #FFFFFF;\n",
              "    }\n",
              "  </style>\n",
              "\n",
              "      <script>\n",
              "        const buttonEl =\n",
              "          document.querySelector('#df-6acc57ee-54f2-4d22-aa88-7a334530fe41 button.colab-df-convert');\n",
              "        buttonEl.style.display =\n",
              "          google.colab.kernel.accessAllowed ? 'block' : 'none';\n",
              "\n",
              "        async function convertToInteractive(key) {\n",
              "          const element = document.querySelector('#df-6acc57ee-54f2-4d22-aa88-7a334530fe41');\n",
              "          const dataTable =\n",
              "            await google.colab.kernel.invokeFunction('convertToInteractive',\n",
              "                                                     [key], {});\n",
              "          if (!dataTable) return;\n",
              "\n",
              "          const docLinkHtml = 'Like what you see? Visit the ' +\n",
              "            '<a target=\"_blank\" href=https://colab.research.google.com/notebooks/data_table.ipynb>data table notebook</a>'\n",
              "            + ' to learn more about interactive tables.';\n",
              "          element.innerHTML = '';\n",
              "          dataTable['output_type'] = 'display_data';\n",
              "          await google.colab.output.renderOutput(dataTable, element);\n",
              "          const docLink = document.createElement('div');\n",
              "          docLink.innerHTML = docLinkHtml;\n",
              "          element.appendChild(docLink);\n",
              "        }\n",
              "      </script>\n",
              "    </div>\n",
              "  </div>\n",
              "  "
            ]
          },
          "metadata": {},
          "execution_count": 34
        }
      ]
    },
    {
      "cell_type": "markdown",
      "metadata": {
        "id": "5RlZ-kCGiXcO"
      },
      "source": [
        "## Why is the Python Version so Much Slower?"
      ]
    },
    {
      "cell_type": "code",
      "execution_count": null,
      "metadata": {
        "id": "rWOUuY4QiXcP",
        "colab": {
          "base_uri": "https://localhost:8080/"
        },
        "outputId": "42014432-5a7b-48a4-add3-2be20d39e814"
      },
      "outputs": [
        {
          "output_type": "execute_result",
          "data": {
            "text/plain": [
              "[1, (4+0j), 9.0, 'fourfourfourfour']"
            ]
          },
          "metadata": {},
          "execution_count": 334
        }
      ],
      "source": [
        "# Dynamic typing.\n",
        "def mul_elemwise(xs, ys):\n",
        "    return [x * y for x, y in zip(xs, ys)]\n",
        "\n",
        "mul_elemwise([1, 2, 3, 4], [1, 2 + 0j, 3.0, 'four'])\n",
        "#[type(x) for x in _]"
      ]
    },
    {
      "cell_type": "code",
      "execution_count": null,
      "metadata": {
        "id": "cW0Jexk6iXcP",
        "colab": {
          "base_uri": "https://localhost:8080/"
        },
        "outputId": "cf9088d7-bafb-4568-8142-971da616908d"
      },
      "outputs": [
        {
          "output_type": "stream",
          "name": "stdout",
          "text": [
            "  1           0 LOAD_NAME                0 (a)\n",
            "              2 LOAD_NAME                1 (b)\n",
            "              4 LOAD_NAME                2 (c)\n",
            "              6 BINARY_MULTIPLY\n",
            "              8 BINARY_ADD\n",
            "             10 RETURN_VALUE\n"
          ]
        }
      ],
      "source": [
        "# Interpretation overhead.\n",
        "source_code = 'a + b * c'\n",
        "bytecode = compile(source_code, '', 'eval')\n",
        "import dis; dis.dis(bytecode)"
      ]
    },
    {
      "cell_type": "markdown",
      "metadata": {
        "id": "BdvCAketiXcP"
      },
      "source": [
        "## Why is the Python Version so Slow?\n",
        "- Dynamic typing means that every single operation requires dispatching on the input type.\n",
        "- Having an interpreter means that every instruction is fetched and dispatched at runtime.\n",
        "- Other overheads:\n",
        "  - Arbitrary-size integers.\n",
        "  - Reference-counted garbage collection."
      ]
    },
    {
      "cell_type": "markdown",
      "metadata": {
        "id": "zvFKYtobiXcP"
      },
      "source": [
        "> This is the paradox that we have to work with when we're doing scientific or numerically-intensive Python. What makes Python fast for development -- this high-level, interpreted, and dynamically-typed aspect of the language -- is exactly what makes it slow for code execution.\n",
        "\n",
        "- Jake VanderPlas, [*Losing Your Loops: Fast Numerical Computing with NumPy*](https://www.youtube.com/watch?v=EEUXKG97YRw)"
      ]
    },
    {
      "cell_type": "markdown",
      "metadata": {
        "id": "UqE431pkiXcP"
      },
      "source": [
        "# What Do We Do?"
      ]
    },
    {
      "cell_type": "markdown",
      "metadata": {
        "id": "4uh7h3HyiXcP"
      },
      "source": [
        "<center><img src=\"https://raw.githubusercontent.com/ssanderson/pydata-toolbox/master/notebooks/images/runaway.gif\" alt=\"Drawing\" style=\"width: 50%;\"/></center>"
      ]
    },
    {
      "cell_type": "markdown",
      "metadata": {
        "id": "-9z62YT1iXcP"
      },
      "source": [
        "<center><img src=\"https://raw.githubusercontent.com/ssanderson/pydata-toolbox/master/notebooks/images/thisisfine.gif\" alt=\"Drawing\" style=\"width: 1080px;\"/></center>"
      ]
    },
    {
      "cell_type": "markdown",
      "metadata": {
        "id": "0Moc6UrkiXcQ"
      },
      "source": [
        "- Python is slow for numerical computation because it performs dynamic dispatch on every operation we perform..."
      ]
    },
    {
      "cell_type": "markdown",
      "metadata": {
        "collapsed": true,
        "id": "U4gN8tp2iXcQ"
      },
      "source": [
        "- ...but often, we just want to do the same thing over and over in a loop!"
      ]
    },
    {
      "cell_type": "markdown",
      "metadata": {
        "id": "Yu0ySyEhiXcQ"
      },
      "source": [
        "- If we don't need Python's dynamicism, we don't want to pay (much) for it."
      ]
    },
    {
      "cell_type": "markdown",
      "metadata": {
        "id": "KUwG9isRiXcQ"
      },
      "source": [
        "- **Idea:** Dispatch **once per operation** instead of **once per element**."
      ]
    },
    {
      "cell_type": "code",
      "execution_count": null,
      "metadata": {
        "id": "62itImahiXcQ",
        "colab": {
          "base_uri": "https://localhost:8080/"
        },
        "outputId": "b9299aa2-fc95-41ef-8c96-ffe773c58bf8"
      },
      "outputs": [
        {
          "output_type": "execute_result",
          "data": {
            "text/plain": [
              "array([1, 2, 3, 4])"
            ]
          },
          "metadata": {},
          "execution_count": 336
        }
      ],
      "source": [
        "import numpy as np\n",
        "\n",
        "data = np.array([1, 2, 3, 4])\n",
        "data"
      ]
    },
    {
      "cell_type": "code",
      "execution_count": null,
      "metadata": {
        "id": "q6qikr_tiXcQ",
        "colab": {
          "base_uri": "https://localhost:8080/"
        },
        "outputId": "7e26a8b0-da37-4969-fbd8-fd70f86a063f"
      },
      "outputs": [
        {
          "output_type": "execute_result",
          "data": {
            "text/plain": [
              "array([2, 4, 6, 8])"
            ]
          },
          "metadata": {},
          "execution_count": 337
        }
      ],
      "source": [
        "data + data"
      ]
    },
    {
      "cell_type": "code",
      "execution_count": null,
      "metadata": {
        "id": "26QlWUw8iXcQ",
        "colab": {
          "base_uri": "https://localhost:8080/"
        },
        "outputId": "f7799411-6887-434e-d99b-a2c107d6429d"
      },
      "outputs": [
        {
          "output_type": "stream",
          "name": "stdout",
          "text": [
            "CPU times: user 583 µs, sys: 24 µs, total: 607 µs\n",
            "Wall time: 581 µs\n"
          ]
        },
        {
          "output_type": "execute_result",
          "data": {
            "text/plain": [
              "333328333350000.0"
            ]
          },
          "metadata": {},
          "execution_count": 338
        }
      ],
      "source": [
        "%%time\n",
        "# Naive dot product\n",
        "(array_data * array_data).sum()"
      ]
    },
    {
      "cell_type": "code",
      "execution_count": null,
      "metadata": {
        "id": "xoigDrpEiXcQ",
        "colab": {
          "base_uri": "https://localhost:8080/"
        },
        "outputId": "77b510c5-8ad8-4ca9-e432-e5ae36eab49a"
      },
      "outputs": [
        {
          "output_type": "stream",
          "name": "stdout",
          "text": [
            "CPU times: user 2.61 ms, sys: 0 ns, total: 2.61 ms\n",
            "Wall time: 1.88 ms\n"
          ]
        },
        {
          "output_type": "execute_result",
          "data": {
            "text/plain": [
              "333328333350000.0"
            ]
          },
          "metadata": {},
          "execution_count": 339
        }
      ],
      "source": [
        "%%time\n",
        "# Built-in dot product.\n",
        "array_data.dot(array_data)"
      ]
    },
    {
      "cell_type": "code",
      "execution_count": null,
      "metadata": {
        "id": "tcewetQ0iXcR",
        "colab": {
          "base_uri": "https://localhost:8080/"
        },
        "outputId": "365b1fa0-8807-4ddb-80a9-9e0dc99cabba"
      },
      "outputs": [
        {
          "output_type": "stream",
          "name": "stdout",
          "text": [
            "CPU times: user 130 µs, sys: 6 µs, total: 136 µs\n",
            "Wall time: 141 µs\n"
          ]
        },
        {
          "output_type": "execute_result",
          "data": {
            "text/plain": [
              "333328333350000.0"
            ]
          },
          "metadata": {},
          "execution_count": 340
        }
      ],
      "source": [
        "%%time\n",
        "fortran_dot_product(array_data, array_data)"
      ]
    },
    {
      "cell_type": "code",
      "execution_count": null,
      "metadata": {
        "id": "Whkcgo1xiXcR",
        "colab": {
          "base_uri": "https://localhost:8080/",
          "height": 183
        },
        "outputId": "68b9d323-c204-49d0-aaf3-5529400ee5f2"
      },
      "outputs": [
        {
          "output_type": "error",
          "ename": "ValueError",
          "evalue": "ignored",
          "traceback": [
            "\u001b[0;31m---------------------------------------------------------------------------\u001b[0m",
            "\u001b[0;31mValueError\u001b[0m                                Traceback (most recent call last)",
            "\u001b[0;32m<ipython-input-341-1ae73c964fd5>\u001b[0m in \u001b[0;36m<module>\u001b[0;34m\u001b[0m\n\u001b[1;32m      1\u001b[0m \u001b[0;31m# Numpy won't allow us to write a string into an int array.\u001b[0m\u001b[0;34m\u001b[0m\u001b[0;34m\u001b[0m\u001b[0;34m\u001b[0m\u001b[0m\n\u001b[0;32m----> 2\u001b[0;31m \u001b[0mdata\u001b[0m\u001b[0;34m[\u001b[0m\u001b[0;36m0\u001b[0m\u001b[0;34m]\u001b[0m \u001b[0;34m=\u001b[0m \u001b[0;34m\"foo\"\u001b[0m\u001b[0;34m\u001b[0m\u001b[0;34m\u001b[0m\u001b[0m\n\u001b[0m",
            "\u001b[0;31mValueError\u001b[0m: invalid literal for int() with base 10: 'foo'"
          ]
        }
      ],
      "source": [
        "# Numpy won't allow us to write a string into an int array.\n",
        "data[0] = \"foo\""
      ]
    },
    {
      "cell_type": "code",
      "execution_count": null,
      "metadata": {
        "collapsed": true,
        "id": "OM_YUwF0iXcR"
      },
      "outputs": [],
      "source": [
        "# We also can't grow an array once it's created.\n",
        "data.append(3)"
      ]
    },
    {
      "cell_type": "code",
      "execution_count": null,
      "metadata": {
        "collapsed": true,
        "id": "_ByTInO5iXcR"
      },
      "outputs": [],
      "source": [
        "# We **can** reshape an array though.\n",
        "two_by_two = data.reshape(2, 2)\n",
        "two_by_two"
      ]
    },
    {
      "cell_type": "markdown",
      "metadata": {
        "id": "rqUM9z90iXcR"
      },
      "source": [
        "Numpy arrays are:\n",
        "\n",
        "- Fixed-type"
      ]
    },
    {
      "cell_type": "markdown",
      "metadata": {
        "id": "xI5M1gzviXcR"
      },
      "source": [
        "- Size-immutable"
      ]
    },
    {
      "cell_type": "markdown",
      "metadata": {
        "id": "Xb7Dkl2tiXcS"
      },
      "source": [
        "- Multi-dimensional"
      ]
    },
    {
      "cell_type": "markdown",
      "metadata": {
        "id": "r0oMRqQXiXcS"
      },
      "source": [
        "- Fast\\*"
      ]
    },
    {
      "cell_type": "markdown",
      "metadata": {
        "id": "kz1MurDBiXcS"
      },
      "source": [
        "\\* If you use them correctly."
      ]
    },
    {
      "cell_type": "markdown",
      "metadata": {
        "id": "Qivn_IZOiXcS"
      },
      "source": [
        "# What's in an Array?"
      ]
    },
    {
      "cell_type": "code",
      "execution_count": null,
      "metadata": {
        "id": "vAuc9ZoYiXcS"
      },
      "outputs": [],
      "source": [
        "arr = np.array([1, 2, 3, 4, 5, 6], dtype='int16').reshape(2, 3)\n",
        "print(\"Array:\\n\", arr, sep='')\n",
        "print(\"===========\")\n",
        "print(\"DType:\", arr.dtype)\n",
        "print(\"Shape:\", arr.shape)\n",
        "print(\"Strides:\", arr.strides)\n",
        "print(\"Data:\", arr.data.tobytes())"
      ]
    },
    {
      "cell_type": "markdown",
      "metadata": {
        "id": "K81LXWsCiXcS"
      },
      "source": [
        "# Core Operations\n",
        "\n",
        "- Vectorized **ufuncs** for elementwise operations.\n",
        "- Fancy indexing and masking for selection and filtering.\n",
        "- Aggregations across axes.\n",
        "- Broadcasting"
      ]
    },
    {
      "cell_type": "markdown",
      "metadata": {
        "id": "kwVm_T0UiXcS"
      },
      "source": [
        "# UFuncs\n",
        "\n",
        "UFuncs (universal functions) are functions that operate elementwise on one or more arrays."
      ]
    },
    {
      "cell_type": "code",
      "execution_count": null,
      "metadata": {
        "id": "bltDIE9jiXcS"
      },
      "outputs": [],
      "source": [
        "data = np.arange(15).reshape(3, 5)\n",
        "data"
      ]
    },
    {
      "cell_type": "code",
      "execution_count": null,
      "metadata": {
        "id": "STwE0VCpiXcT"
      },
      "outputs": [],
      "source": [
        "# Binary operators.\n",
        "data * data"
      ]
    },
    {
      "cell_type": "code",
      "execution_count": null,
      "metadata": {
        "id": "N__jqMifiXcT"
      },
      "outputs": [],
      "source": [
        "# Unary functions.\n",
        "np.sqrt(data)"
      ]
    },
    {
      "cell_type": "code",
      "execution_count": null,
      "metadata": {
        "id": "j-2fPm3LiXcT"
      },
      "outputs": [],
      "source": [
        "# Comparison operations\n",
        "(data % 3) == 0"
      ]
    },
    {
      "cell_type": "code",
      "execution_count": null,
      "metadata": {
        "id": "iDUXVIuhiXcT"
      },
      "outputs": [],
      "source": [
        "# Boolean combinators.\n",
        "((data % 2) == 0) & ((data % 3) == 0)"
      ]
    },
    {
      "cell_type": "code",
      "execution_count": null,
      "metadata": {
        "id": "f2FWSuiJiXcT"
      },
      "outputs": [],
      "source": [
        "# as of python 3.5, @ is matrix-multiply\n",
        "data @ data.T"
      ]
    },
    {
      "cell_type": "markdown",
      "metadata": {
        "id": "9EsiKbSCiXcT"
      },
      "source": [
        "# UFuncs Review\n",
        "\n",
        "- UFuncs provide efficient elementwise operations applied across one or more arrays.\n",
        "- Arithmetic Operators (`+`, `*`, `/`)\n",
        "- Comparisons (`==`, `>`, `!=`)\n",
        "- Boolean Operators (`&`, `|`, `^`)\n",
        "- Trigonometric Functions (`sin`, `cos`)\n",
        "- Transcendental Functions (`exp`, `log`)"
      ]
    },
    {
      "cell_type": "markdown",
      "metadata": {
        "id": "GGLCgF20iXcU"
      },
      "source": [
        "# Selections"
      ]
    },
    {
      "cell_type": "markdown",
      "metadata": {
        "id": "3SAH9am8iXcU"
      },
      "source": [
        "We often want to perform an operation on just a subset of our data."
      ]
    },
    {
      "cell_type": "code",
      "execution_count": null,
      "metadata": {
        "id": "AWmtLHYwiXcU"
      },
      "outputs": [],
      "source": [
        "sines = np.sin(np.linspace(0, 3.14, 10))\n",
        "cosines = np.cos(np.linspace(0, 3.14, 10))\n",
        "sines"
      ]
    },
    {
      "cell_type": "code",
      "execution_count": null,
      "metadata": {
        "id": "u8LHY0j9iXcU"
      },
      "outputs": [],
      "source": [
        "# Slicing works with the same semantics as Python lists.\n",
        "sines[0]"
      ]
    },
    {
      "cell_type": "code",
      "execution_count": null,
      "metadata": {
        "id": "hh6dTObciXcU"
      },
      "outputs": [],
      "source": [
        "sines[:3]  # First three elements  "
      ]
    },
    {
      "cell_type": "code",
      "execution_count": null,
      "metadata": {
        "id": "rqB_uVABiXcU"
      },
      "outputs": [],
      "source": [
        "sines[5:]  # Elements from 5 on."
      ]
    },
    {
      "cell_type": "code",
      "execution_count": null,
      "metadata": {
        "id": "j2KDBhZaiXcU"
      },
      "outputs": [],
      "source": [
        "sines[::2]  # Every other element."
      ]
    },
    {
      "cell_type": "code",
      "execution_count": null,
      "metadata": {
        "id": "lR7JjjhjiXcV"
      },
      "outputs": [],
      "source": [
        "# More interesting: we can index with boolean arrays to filter by a predicate.\n",
        "print(\"sines:\\n\", sines)\n",
        "print(\"sines > 0.5:\\n\", sines > 0.5)\n",
        "print(\"sines[sines > 0.5]:\\n\", sines[sines > 0.5])"
      ]
    },
    {
      "cell_type": "code",
      "execution_count": null,
      "metadata": {
        "id": "gORuDL3RiXcV"
      },
      "outputs": [],
      "source": [
        "# We index with lists/arrays of integers to select values at those indices.\n",
        "print(sines)\n",
        "sines[[0, 4, 7]]"
      ]
    },
    {
      "cell_type": "code",
      "execution_count": null,
      "metadata": {
        "collapsed": true,
        "id": "Gu2vDHNgiXcV"
      },
      "outputs": [],
      "source": [
        "# Index arrays are often used for sorting one or more arrays.\n",
        "unsorted_data = np.array([1, 3, 2, 12, -1, 5, 2])"
      ]
    },
    {
      "cell_type": "code",
      "execution_count": null,
      "metadata": {
        "id": "uroIWxu1iXcV"
      },
      "outputs": [],
      "source": [
        "sort_indices = np.argsort(unsorted_data)\n",
        "sort_indices"
      ]
    },
    {
      "cell_type": "code",
      "execution_count": null,
      "metadata": {
        "id": "igwLM_b1iXcV"
      },
      "outputs": [],
      "source": [
        "unsorted_data[sort_indices]"
      ]
    },
    {
      "cell_type": "code",
      "execution_count": null,
      "metadata": {
        "collapsed": true,
        "id": "7IRVEVvdiXcV"
      },
      "outputs": [],
      "source": [
        "market_caps = np.array([12, 6, 10, 5, 6])  # Presumably in dollars?\n",
        "assets = np.array(['A', 'B', 'C', 'D', 'E'])"
      ]
    },
    {
      "cell_type": "code",
      "execution_count": null,
      "metadata": {
        "id": "jE8KVrn9iXcV"
      },
      "outputs": [],
      "source": [
        "# Sort assets by market cap by using the permutation that would sort market caps on ``assets``.\n",
        "sort_by_mcap = np.argsort(market_caps)\n",
        "assets[sort_by_mcap]"
      ]
    },
    {
      "cell_type": "code",
      "execution_count": null,
      "metadata": {
        "scrolled": true,
        "id": "jaGW-7fTiXcW"
      },
      "outputs": [],
      "source": [
        "# Indexers are also useful for aligning data.\n",
        "print(\"Dates:\\n\", repr(event_dates))\n",
        "print(\"Values:\\n\", repr(event_values))\n",
        "print(\"Calendar:\\n\", repr(calendar))"
      ]
    },
    {
      "cell_type": "code",
      "execution_count": null,
      "metadata": {
        "id": "Uo28AVcTiXcW"
      },
      "outputs": [],
      "source": [
        "print(\"Raw Dates:\", event_dates)\n",
        "print(\"Indices:\", calendar.searchsorted(event_dates))\n",
        "print(\"Forward-Filled Dates:\", calendar[calendar.searchsorted(event_dates)])"
      ]
    },
    {
      "cell_type": "markdown",
      "metadata": {
        "id": "oDEVEEOriXcW"
      },
      "source": [
        "On multi-dimensional arrays, we can slice along each axis independently."
      ]
    },
    {
      "cell_type": "code",
      "execution_count": null,
      "metadata": {
        "id": "prPSgZhniXcW"
      },
      "outputs": [],
      "source": [
        "data = np.arange(25).reshape(5, 5)\n",
        "data"
      ]
    },
    {
      "cell_type": "code",
      "execution_count": null,
      "metadata": {
        "id": "KAulAQ2yiXcW"
      },
      "outputs": [],
      "source": [
        "data[:2, :2]  # First two rows and first two columns."
      ]
    },
    {
      "cell_type": "code",
      "execution_count": null,
      "metadata": {
        "id": "f9_S0RcdiXcW"
      },
      "outputs": [],
      "source": [
        "data[:2, [0, -1]]  # First two rows, first and last columns."
      ]
    },
    {
      "cell_type": "code",
      "execution_count": null,
      "metadata": {
        "id": "rre5hGs9iXcW"
      },
      "outputs": [],
      "source": [
        "data[(data[:, 0] % 2) == 0]  # Rows where the first column is divisible by two."
      ]
    },
    {
      "cell_type": "markdown",
      "metadata": {
        "id": "zl1zYEQgiXcX"
      },
      "source": [
        "# Selections Review\n",
        "\n",
        "- Indexing with an integer removes a dimension.\n",
        "- Slicing operations work on Numpy arrays the same way they do on lists.\n",
        "- Indexing with a boolean array filters to True locations.\n",
        "- Indexing with an integer array selects indices along an axis.\n",
        "- Multidimensional arrays can apply selections independently along different axes."
      ]
    },
    {
      "cell_type": "markdown",
      "metadata": {
        "id": "0tDspA_KiXcX"
      },
      "source": [
        "## Reductions\n",
        "\n",
        "Functions that reduce an array to a scalar."
      ]
    },
    {
      "cell_type": "markdown",
      "metadata": {
        "id": "1s42E1qCiXcX"
      },
      "source": [
        "$Var(X) = \\frac{1}{N}\\sqrt{\\sum_{i=1}^N (x_i - \\bar{x})^2}$"
      ]
    },
    {
      "cell_type": "code",
      "execution_count": null,
      "metadata": {
        "collapsed": true,
        "id": "pkjccK94iXcX"
      },
      "outputs": [],
      "source": [
        "def variance(x):\n",
        "    return ((x - x.mean()) ** 2).sum() / len(x)"
      ]
    },
    {
      "cell_type": "code",
      "execution_count": null,
      "metadata": {
        "id": "jqiZV_FMiXcX"
      },
      "outputs": [],
      "source": [
        "variance(np.random.standard_normal(1000))"
      ]
    },
    {
      "cell_type": "markdown",
      "metadata": {
        "id": "WHVBON1qiXcX"
      },
      "source": [
        "- `sum()` and `mean()` are both **reductions**."
      ]
    },
    {
      "cell_type": "markdown",
      "metadata": {
        "id": "w7gh4_vmiXcX"
      },
      "source": [
        "- In the simplest case, we use these to reduce an entire array into a single value..."
      ]
    },
    {
      "cell_type": "code",
      "execution_count": null,
      "metadata": {
        "id": "Hxr-Py7ciXcY"
      },
      "outputs": [],
      "source": [
        "data = np.arange(30)\n",
        "data.mean()"
      ]
    },
    {
      "cell_type": "markdown",
      "metadata": {
        "id": "M1mqf-RfiXcY"
      },
      "source": [
        "- ...but we can do more interesting things with multi-dimensional arrays."
      ]
    },
    {
      "cell_type": "code",
      "execution_count": null,
      "metadata": {
        "id": "okW92XNriXcY"
      },
      "outputs": [],
      "source": [
        "data = np.arange(30).reshape(3, 10)\n",
        "data"
      ]
    },
    {
      "cell_type": "code",
      "execution_count": null,
      "metadata": {
        "id": "_DwCYNHQiXcY"
      },
      "outputs": [],
      "source": [
        "data.mean()"
      ]
    },
    {
      "cell_type": "code",
      "execution_count": null,
      "metadata": {
        "id": "Z7S6mpm3iXcY"
      },
      "outputs": [],
      "source": [
        "data.mean(axis=0)"
      ]
    },
    {
      "cell_type": "code",
      "execution_count": null,
      "metadata": {
        "id": "g-DOKtM4iXcY"
      },
      "outputs": [],
      "source": [
        "data.mean(axis=1)"
      ]
    },
    {
      "cell_type": "markdown",
      "metadata": {
        "id": "zsIEVqkgiXcY"
      },
      "source": [
        "## Reductions Review\n",
        "\n",
        "- Reductions allow us to perform efficient aggregations over arrays.\n",
        "- We can do aggregations over a single axis to collapse a single dimension.\n",
        "- Many built-in reductions (`mean`, `sum`, `min`, `max`, `median`, ...)."
      ]
    },
    {
      "cell_type": "markdown",
      "metadata": {
        "id": "hvqRiy2qiXcZ"
      },
      "source": [
        "# Broadcasting"
      ]
    },
    {
      "cell_type": "code",
      "execution_count": null,
      "metadata": {
        "id": "OyIDakdiiXcZ"
      },
      "outputs": [],
      "source": [
        "row = np.array([1, 2, 3, 4])\n",
        "column = np.array([[1], [2], [3]])\n",
        "print(\"Row:\\n\", row, sep='')\n",
        "print(\"Column:\\n\", column, sep='')"
      ]
    },
    {
      "cell_type": "code",
      "execution_count": null,
      "metadata": {
        "id": "Dej4wsX-iXcZ"
      },
      "outputs": [],
      "source": [
        "row + column"
      ]
    },
    {
      "cell_type": "markdown",
      "metadata": {
        "id": "tMdSsqXfiXcZ"
      },
      "source": [
        "<center><img src=\"https://raw.githubusercontent.com/ssanderson/pydata-toolbox/master/notebooks/images/broadcasting.png\" alt=\"Drawing\" style=\"width: 60%;\"/></center>\n",
        "\n",
        "<h5>Source: http://www.scipy-lectures.org/_images/numpy_broadcasting.png</h5>"
      ]
    },
    {
      "cell_type": "code",
      "execution_count": null,
      "metadata": {
        "id": "JVLNvazIiXcZ"
      },
      "outputs": [],
      "source": [
        "# Broadcasting is particularly useful in conjunction with reductions.\n",
        "print(\"Data:\\n\", data, sep='')\n",
        "print(\"Mean:\\n\", data.mean(axis=0), sep='')\n",
        "print(\"Data - Mean:\\n\", data - data.mean(axis=0), sep='')"
      ]
    },
    {
      "cell_type": "markdown",
      "metadata": {
        "id": "JHmGF_mGiXcZ"
      },
      "source": [
        "# Broadcasting Review\n",
        "\n",
        "- Numpy operations can work on arrays of different dimensions as long as the arrays' shapes are still \"compatible\".\n",
        "- Broadcasting works by \"tiling\" the smaller array along the missing dimension.\n",
        "- The result of a broadcasted operation is always at least as large in each dimension as the largest array in that dimension."
      ]
    },
    {
      "cell_type": "markdown",
      "metadata": {
        "id": "Tmy_pKVniXca"
      },
      "source": [
        "# Numpy Review"
      ]
    },
    {
      "cell_type": "markdown",
      "metadata": {
        "id": "TiKskIDqiXca"
      },
      "source": [
        "- Numerical algorithms are slow in pure Python because the overhead dynamic dispatch dominates our runtime."
      ]
    },
    {
      "cell_type": "markdown",
      "metadata": {
        "id": "WRex_YahiXca"
      },
      "source": [
        "- Numpy solves this problem by:\n",
        "  1. Imposing additional restrictions on the contents of arrays.\n",
        "  2. Moving the inner loops of our algorithms into compiled C code."
      ]
    },
    {
      "cell_type": "markdown",
      "metadata": {
        "id": "HHcs1cowiXca"
      },
      "source": [
        "- Using Numpy effectively often requires reworking an algorithms to use vectorized operations instead of for-loops, but the resulting operations are usually simpler, clearer, and faster than the pure Python equivalent."
      ]
    },
    {
      "cell_type": "markdown",
      "metadata": {
        "id": "GoPdOSfSiXca"
      },
      "source": [
        "<center><img src=\"https://raw.githubusercontent.com/ssanderson/pydata-toolbox/master/notebooks/images/unicorn.jpg\" alt=\"Drawing\" style=\"width: 75%;\"/></center>"
      ]
    },
    {
      "cell_type": "markdown",
      "metadata": {
        "id": "GqyHpT0DiXca"
      },
      "source": [
        "Numpy is great for many things, but..."
      ]
    },
    {
      "cell_type": "markdown",
      "metadata": {
        "id": "t2pSdZyeiXca"
      },
      "source": [
        "- Sometimes our data is equipped with a natural set of **labels**:\n",
        "  - Dates/Times\n",
        "  - Stock Tickers\n",
        "  - Field Names (e.g. Open/High/Low/Close)"
      ]
    },
    {
      "cell_type": "markdown",
      "metadata": {
        "id": "eQkbld3YiXca"
      },
      "source": [
        "- Sometimes we have **more than one type of data** that we want to keep grouped together.\n",
        "  - Tables with a mix of real-valued and categorical data."
      ]
    },
    {
      "cell_type": "markdown",
      "metadata": {
        "id": "FUUCEShmiXcb"
      },
      "source": [
        "- Sometimes we have **missing** data, which we need to ignore, fill, or otherwise work around."
      ]
    },
    {
      "cell_type": "markdown",
      "metadata": {
        "id": "7BErgdXjiXcb"
      },
      "source": [
        "<center><img src=\"https://raw.githubusercontent.com/ssanderson/pydata-toolbox/master/notebooks/images/panda-wrangling.gif\" alt=\"Drawing\" style=\"width: 75%;\"/></center>"
      ]
    },
    {
      "cell_type": "markdown",
      "metadata": {
        "id": "B-LuFQ2BiXcb"
      },
      "source": [
        "<center><img src=\"https://raw.githubusercontent.com/ssanderson/pydata-toolbox/master/notebooks/images/pandas_logo.png\" alt=\"Drawing\" style=\"width: 75%;\"/></center>\n"
      ]
    },
    {
      "cell_type": "markdown",
      "metadata": {
        "id": "B8Hv2pY4iXcb"
      },
      "source": [
        "Pandas extends Numpy with more complex data structures:\n",
        "\n",
        "- `Series`: 1-dimensional, homogenously-typed, labelled array.\n",
        "- `DataFrame`: 2-dimensional, semi-homogenous, labelled table."
      ]
    },
    {
      "cell_type": "markdown",
      "metadata": {
        "id": "xYDFME14iXcb"
      },
      "source": [
        "Pandas also provides many utilities for: \n",
        "- Input/Output\n",
        "- Data Cleaning\n",
        "- Rolling Algorithms\n",
        "- Plotting"
      ]
    },
    {
      "cell_type": "markdown",
      "metadata": {
        "id": "uOvK2ZfeiXcb"
      },
      "source": [
        "# Selection in Pandas"
      ]
    },
    {
      "cell_type": "code",
      "execution_count": null,
      "metadata": {
        "id": "G6ploxoOiXcb"
      },
      "outputs": [],
      "source": [
        "s = pd.Series(index=['a', 'b', 'c', 'd', 'e'], data=[1, 2, 3, 4, 5])\n",
        "s"
      ]
    },
    {
      "cell_type": "code",
      "execution_count": null,
      "metadata": {
        "id": "PU-7iKpqiXcc"
      },
      "outputs": [],
      "source": [
        "# There are two pieces to a Series: the index and the values.\n",
        "print(\"The index is:\", s.index)\n",
        "print(\"The values are:\", s.values)"
      ]
    },
    {
      "cell_type": "code",
      "execution_count": null,
      "metadata": {
        "id": "pUnHyGr5iXcc"
      },
      "outputs": [],
      "source": [
        "# We can look up values out of a Series by position...\n",
        "s.iloc[0]"
      ]
    },
    {
      "cell_type": "code",
      "execution_count": null,
      "metadata": {
        "id": "IyM3qqygiXcc"
      },
      "outputs": [],
      "source": [
        "# ... or by label.\n",
        "s.loc['a']"
      ]
    },
    {
      "cell_type": "code",
      "execution_count": null,
      "metadata": {
        "id": "JrCItQtiiXcc"
      },
      "outputs": [],
      "source": [
        "# Slicing works as expected...\n",
        "s.iloc[:2]"
      ]
    },
    {
      "cell_type": "code",
      "execution_count": null,
      "metadata": {
        "id": "tzTbbk9YiXcc"
      },
      "outputs": [],
      "source": [
        "# ...but it works with labels too!\n",
        "s.loc[:'c']"
      ]
    },
    {
      "cell_type": "code",
      "execution_count": null,
      "metadata": {
        "id": "qrVQ0b0ziXcd"
      },
      "outputs": [],
      "source": [
        "# Fancy indexing works the same as in numpy.\n",
        "s.iloc[[0, -1]]"
      ]
    },
    {
      "cell_type": "code",
      "execution_count": null,
      "metadata": {
        "id": "THswhsDLiXcd"
      },
      "outputs": [],
      "source": [
        "# As does boolean masking.\n",
        "s.loc[s > 2]"
      ]
    },
    {
      "cell_type": "code",
      "execution_count": null,
      "metadata": {
        "id": "nYGjpHaIiXcd"
      },
      "outputs": [],
      "source": [
        "# Element-wise operations are aligned by index.\n",
        "other_s = pd.Series({'a': 10.0, 'c': 20.0, 'd': 30.0, 'z': 40.0})\n",
        "other_s"
      ]
    },
    {
      "cell_type": "code",
      "execution_count": null,
      "metadata": {
        "id": "nkK07CuEiXcd"
      },
      "outputs": [],
      "source": [
        "s + other_s"
      ]
    },
    {
      "cell_type": "code",
      "execution_count": null,
      "metadata": {
        "id": "pePOoBl3iXcd"
      },
      "outputs": [],
      "source": [
        "# We can fill in missing values with fillna().\n",
        "(s + other_s).fillna(0.0)"
      ]
    },
    {
      "cell_type": "code",
      "execution_count": null,
      "metadata": {
        "id": "8LYqk1oDiXcd"
      },
      "outputs": [],
      "source": [
        "# Most real datasets are read in from an external file format.\n",
        "aapl = pd.read_csv('AAPL.csv', parse_dates=['Date'], index_col='Date')\n",
        "aapl.head()"
      ]
    },
    {
      "cell_type": "code",
      "execution_count": null,
      "metadata": {
        "id": "JasJjximiXcd"
      },
      "outputs": [],
      "source": [
        "# Slicing generalizes to two dimensions as you'd expect:\n",
        "aapl.iloc[:2, :2]"
      ]
    },
    {
      "cell_type": "code",
      "execution_count": null,
      "metadata": {
        "id": "aAnXEGHMiXce"
      },
      "outputs": [],
      "source": [
        "aapl.loc[pd.Timestamp('2010-02-01'):pd.Timestamp('2010-02-04'), ['Close', 'Volume']]"
      ]
    },
    {
      "cell_type": "markdown",
      "metadata": {
        "id": "Up935r8GiXce"
      },
      "source": [
        "# Rolling Operations"
      ]
    },
    {
      "cell_type": "markdown",
      "metadata": {
        "id": "28dFZSZmiXce"
      },
      "source": [
        "<center><img src=\"https://raw.githubusercontent.com/ssanderson/pydata-toolbox/master/notebooks/images/rolling.gif\" alt=\"Drawing\" style=\"width: 75%;\"/></center>"
      ]
    },
    {
      "cell_type": "code",
      "execution_count": null,
      "metadata": {
        "id": "-YvkXxL0iXce"
      },
      "outputs": [],
      "source": [
        "aapl.rolling(5)[['Close', 'Adj Close']].mean().plot();"
      ]
    },
    {
      "cell_type": "code",
      "execution_count": null,
      "metadata": {
        "id": "HKynE6AMiXce"
      },
      "outputs": [],
      "source": [
        "# Drop `Volume`, since it's way bigger than everything else.\n",
        "aapl.drop('Volume', axis=1).resample('2W').max().plot();"
      ]
    },
    {
      "cell_type": "code",
      "execution_count": null,
      "metadata": {
        "id": "ayoPHapZiXce"
      },
      "outputs": [],
      "source": [
        "# 30-day rolling exponentially-weighted stddev of returns.\n",
        "aapl['Close'].pct_change().ewm(span=30).std().plot();"
      ]
    },
    {
      "cell_type": "markdown",
      "metadata": {
        "id": "npT_ZgpYiXce"
      },
      "source": [
        "# \"Real World\" Data"
      ]
    },
    {
      "cell_type": "markdown",
      "source": [
        "[Aquí está el csv para que toda la vaina funcione ;D](https://drive.google.com/file/d/1pi8Bk3aeZhaZ10TZwSQapwl3pZTciFHo/view?usp=sharing)"
      ],
      "metadata": {
        "id": "SQD_o24vT6pd"
      }
    },
    {
      "cell_type": "markdown",
      "source": [
        "![image.png](data:image/png;base64,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)"
      ],
      "metadata": {
        "id": "B8jPEWu8VOSB"
      }
    },
    {
      "cell_type": "code",
      "source": [
        "import pandas as pd\n",
        "motos = pd.read_csv('Encuesta_Motociclistas.csv')\n",
        "motos"
      ],
      "metadata": {
        "colab": {
          "base_uri": "https://localhost:8080/",
          "height": 971
        },
        "id": "Deuv14IDAStZ",
        "outputId": "a772d26c-7826-49c7-f394-fa2b218774a7"
      },
      "execution_count": null,
      "outputs": [
        {
          "output_type": "execute_result",
          "data": {
            "text/plain": [
              "            uuid     municipio  estrato_vivienda  hombre  sin_grupo_etnico  \\\n",
              "0         1_10_1      MEDELLÍN               2.0       1                 1   \n",
              "1        1_10_10      MEDELLÍN               3.0       1                 1   \n",
              "2       1_10_100      MEDELLÍN               3.0       1                 1   \n",
              "3      1_10_1000      MEDELLÍN               3.0       1                 1   \n",
              "4      1_10_1001      MEDELLÍN               4.0       1                 1   \n",
              "...          ...           ...               ...     ...               ...   \n",
              "25112   5_7_3150  CUNDINAMARCA               2.0       1                 1   \n",
              "25113   5_7_3151  CUNDINAMARCA               3.0       1                 1   \n",
              "25114   5_7_3152  CUNDINAMARCA               4.0       1                 1   \n",
              "25115   5_7_3153  CUNDINAMARCA               4.0       1                 1   \n",
              "25116   5_7_3154  CUNDINAMARCA               2.0       0                 1   \n",
              "\n",
              "       etnia_afrocolombiano edad_grupo            nivel_educativo  \\\n",
              "0                         0      41-45                 Secundaria   \n",
              "1                         0      36-40                 Secundaria   \n",
              "2                         0      31-35      Técnica / Tecnológica   \n",
              "3                         0      31-35                 Secundaria   \n",
              "4                         0      41-45  Universitaria o postgrado   \n",
              "...                     ...        ...                        ...   \n",
              "25112                     0      31-35      Técnica / Tecnológica   \n",
              "25113                     0      56-60      Técnica / Tecnológica   \n",
              "25114                     0      46-50  Universitaria o postgrado   \n",
              "25115                     0      46-50  Universitaria o postgrado   \n",
              "25116                     0      41-45      Técnica / Tecnológica   \n",
              "\n",
              "       moto_street  moto_scooter  ...  epp_guantes epp_botas epp_rodilleras  \\\n",
              "0                1             0  ...            0         1              0   \n",
              "1                1             0  ...            0         0              0   \n",
              "2                1             0  ...            0         0              0   \n",
              "3                1             0  ...            0         0              0   \n",
              "4                0             0  ...            0         0              0   \n",
              "...            ...           ...  ...          ...       ...            ...   \n",
              "25112            0             0  ...            0         0              0   \n",
              "25113            0             0  ...            0         0              0   \n",
              "25114            0             0  ...            0         0              0   \n",
              "25115            0             0  ...            1         0              0   \n",
              "25116            0             0  ...            0         0              0   \n",
              "\n",
              "       epp_reflectivos  epp_chaquetaprot  epp_chaquetairbag con_acompañantes  \\\n",
              "0                    0                 1                  0                1   \n",
              "1                    1                 0                  0                0   \n",
              "2                    1                 0                  0                1   \n",
              "3                    0                 0                  0                0   \n",
              "4                    0                 0                  0                0   \n",
              "...                ...               ...                ...              ...   \n",
              "25112                0                 0                  0                1   \n",
              "25113                0                 0                  0                0   \n",
              "25114                0                 0                  0                1   \n",
              "25115                0                 0                  0                0   \n",
              "25116                0                 0                  0                1   \n",
              "\n",
              "       con_acompañantes_menores  perfil_siniestros1  perfil_comparendos1  \n",
              "0                           0.0                   1                    1  \n",
              "1                           NaN                   1                    1  \n",
              "2                           0.0                   1                    1  \n",
              "3                           NaN                   1                    1  \n",
              "4                           NaN                   1                    1  \n",
              "...                         ...                 ...                  ...  \n",
              "25112                       0.0                   1                    1  \n",
              "25113                       NaN                   1                    0  \n",
              "25114                       1.0                   0                    0  \n",
              "25115                       NaN                   1                    0  \n",
              "25116                       0.0                   1                    1  \n",
              "\n",
              "[25117 rows x 50 columns]"
            ],
            "text/html": [
              "\n",
              "  <div id=\"df-d210634f-db73-4b93-9b51-c4c04c8a449e\">\n",
              "    <div class=\"colab-df-container\">\n",
              "      <div>\n",
              "<style scoped>\n",
              "    .dataframe tbody tr th:only-of-type {\n",
              "        vertical-align: middle;\n",
              "    }\n",
              "\n",
              "    .dataframe tbody tr th {\n",
              "        vertical-align: top;\n",
              "    }\n",
              "\n",
              "    .dataframe thead th {\n",
              "        text-align: right;\n",
              "    }\n",
              "</style>\n",
              "<table border=\"1\" class=\"dataframe\">\n",
              "  <thead>\n",
              "    <tr style=\"text-align: right;\">\n",
              "      <th></th>\n",
              "      <th>uuid</th>\n",
              "      <th>municipio</th>\n",
              "      <th>estrato_vivienda</th>\n",
              "      <th>hombre</th>\n",
              "      <th>sin_grupo_etnico</th>\n",
              "      <th>etnia_afrocolombiano</th>\n",
              "      <th>edad_grupo</th>\n",
              "      <th>nivel_educativo</th>\n",
              "      <th>moto_street</th>\n",
              "      <th>moto_scooter</th>\n",
              "      <th>...</th>\n",
              "      <th>epp_guantes</th>\n",
              "      <th>epp_botas</th>\n",
              "      <th>epp_rodilleras</th>\n",
              "      <th>epp_reflectivos</th>\n",
              "      <th>epp_chaquetaprot</th>\n",
              "      <th>epp_chaquetairbag</th>\n",
              "      <th>con_acompañantes</th>\n",
              "      <th>con_acompañantes_menores</th>\n",
              "      <th>perfil_siniestros1</th>\n",
              "      <th>perfil_comparendos1</th>\n",
              "    </tr>\n",
              "  </thead>\n",
              "  <tbody>\n",
              "    <tr>\n",
              "      <th>0</th>\n",
              "      <td>1_10_1</td>\n",
              "      <td>MEDELLÍN</td>\n",
              "      <td>2.0</td>\n",
              "      <td>1</td>\n",
              "      <td>1</td>\n",
              "      <td>0</td>\n",
              "      <td>41-45</td>\n",
              "      <td>Secundaria</td>\n",
              "      <td>1</td>\n",
              "      <td>0</td>\n",
              "      <td>...</td>\n",
              "      <td>0</td>\n",
              "      <td>1</td>\n",
              "      <td>0</td>\n",
              "      <td>0</td>\n",
              "      <td>1</td>\n",
              "      <td>0</td>\n",
              "      <td>1</td>\n",
              "      <td>0.0</td>\n",
              "      <td>1</td>\n",
              "      <td>1</td>\n",
              "    </tr>\n",
              "    <tr>\n",
              "      <th>1</th>\n",
              "      <td>1_10_10</td>\n",
              "      <td>MEDELLÍN</td>\n",
              "      <td>3.0</td>\n",
              "      <td>1</td>\n",
              "      <td>1</td>\n",
              "      <td>0</td>\n",
              "      <td>36-40</td>\n",
              "      <td>Secundaria</td>\n",
              "      <td>1</td>\n",
              "      <td>0</td>\n",
              "      <td>...</td>\n",
              "      <td>0</td>\n",
              "      <td>0</td>\n",
              "      <td>0</td>\n",
              "      <td>1</td>\n",
              "      <td>0</td>\n",
              "      <td>0</td>\n",
              "      <td>0</td>\n",
              "      <td>NaN</td>\n",
              "      <td>1</td>\n",
              "      <td>1</td>\n",
              "    </tr>\n",
              "    <tr>\n",
              "      <th>2</th>\n",
              "      <td>1_10_100</td>\n",
              "      <td>MEDELLÍN</td>\n",
              "      <td>3.0</td>\n",
              "      <td>1</td>\n",
              "      <td>1</td>\n",
              "      <td>0</td>\n",
              "      <td>31-35</td>\n",
              "      <td>Técnica / Tecnológica</td>\n",
              "      <td>1</td>\n",
              "      <td>0</td>\n",
              "      <td>...</td>\n",
              "      <td>0</td>\n",
              "      <td>0</td>\n",
              "      <td>0</td>\n",
              "      <td>1</td>\n",
              "      <td>0</td>\n",
              "      <td>0</td>\n",
              "      <td>1</td>\n",
              "      <td>0.0</td>\n",
              "      <td>1</td>\n",
              "      <td>1</td>\n",
              "    </tr>\n",
              "    <tr>\n",
              "      <th>3</th>\n",
              "      <td>1_10_1000</td>\n",
              "      <td>MEDELLÍN</td>\n",
              "      <td>3.0</td>\n",
              "      <td>1</td>\n",
              "      <td>1</td>\n",
              "      <td>0</td>\n",
              "      <td>31-35</td>\n",
              "      <td>Secundaria</td>\n",
              "      <td>1</td>\n",
              "      <td>0</td>\n",
              "      <td>...</td>\n",
              "      <td>0</td>\n",
              "      <td>0</td>\n",
              "      <td>0</td>\n",
              "      <td>0</td>\n",
              "      <td>0</td>\n",
              "      <td>0</td>\n",
              "      <td>0</td>\n",
              "      <td>NaN</td>\n",
              "      <td>1</td>\n",
              "      <td>1</td>\n",
              "    </tr>\n",
              "    <tr>\n",
              "      <th>4</th>\n",
              "      <td>1_10_1001</td>\n",
              "      <td>MEDELLÍN</td>\n",
              "      <td>4.0</td>\n",
              "      <td>1</td>\n",
              "      <td>1</td>\n",
              "      <td>0</td>\n",
              "      <td>41-45</td>\n",
              "      <td>Universitaria o postgrado</td>\n",
              "      <td>0</td>\n",
              "      <td>0</td>\n",
              "      <td>...</td>\n",
              "      <td>0</td>\n",
              "      <td>0</td>\n",
              "      <td>0</td>\n",
              "      <td>0</td>\n",
              "      <td>0</td>\n",
              "      <td>0</td>\n",
              "      <td>0</td>\n",
              "      <td>NaN</td>\n",
              "      <td>1</td>\n",
              "      <td>1</td>\n",
              "    </tr>\n",
              "    <tr>\n",
              "      <th>...</th>\n",
              "      <td>...</td>\n",
              "      <td>...</td>\n",
              "      <td>...</td>\n",
              "      <td>...</td>\n",
              "      <td>...</td>\n",
              "      <td>...</td>\n",
              "      <td>...</td>\n",
              "      <td>...</td>\n",
              "      <td>...</td>\n",
              "      <td>...</td>\n",
              "      <td>...</td>\n",
              "      <td>...</td>\n",
              "      <td>...</td>\n",
              "      <td>...</td>\n",
              "      <td>...</td>\n",
              "      <td>...</td>\n",
              "      <td>...</td>\n",
              "      <td>...</td>\n",
              "      <td>...</td>\n",
              "      <td>...</td>\n",
              "      <td>...</td>\n",
              "    </tr>\n",
              "    <tr>\n",
              "      <th>25112</th>\n",
              "      <td>5_7_3150</td>\n",
              "      <td>CUNDINAMARCA</td>\n",
              "      <td>2.0</td>\n",
              "      <td>1</td>\n",
              "      <td>1</td>\n",
              "      <td>0</td>\n",
              "      <td>31-35</td>\n",
              "      <td>Técnica / Tecnológica</td>\n",
              "      <td>0</td>\n",
              "      <td>0</td>\n",
              "      <td>...</td>\n",
              "      <td>0</td>\n",
              "      <td>0</td>\n",
              "      <td>0</td>\n",
              "      <td>0</td>\n",
              "      <td>0</td>\n",
              "      <td>0</td>\n",
              "      <td>1</td>\n",
              "      <td>0.0</td>\n",
              "      <td>1</td>\n",
              "      <td>1</td>\n",
              "    </tr>\n",
              "    <tr>\n",
              "      <th>25113</th>\n",
              "      <td>5_7_3151</td>\n",
              "      <td>CUNDINAMARCA</td>\n",
              "      <td>3.0</td>\n",
              "      <td>1</td>\n",
              "      <td>1</td>\n",
              "      <td>0</td>\n",
              "      <td>56-60</td>\n",
              "      <td>Técnica / Tecnológica</td>\n",
              "      <td>0</td>\n",
              "      <td>0</td>\n",
              "      <td>...</td>\n",
              "      <td>0</td>\n",
              "      <td>0</td>\n",
              "      <td>0</td>\n",
              "      <td>0</td>\n",
              "      <td>0</td>\n",
              "      <td>0</td>\n",
              "      <td>0</td>\n",
              "      <td>NaN</td>\n",
              "      <td>1</td>\n",
              "      <td>0</td>\n",
              "    </tr>\n",
              "    <tr>\n",
              "      <th>25114</th>\n",
              "      <td>5_7_3152</td>\n",
              "      <td>CUNDINAMARCA</td>\n",
              "      <td>4.0</td>\n",
              "      <td>1</td>\n",
              "      <td>1</td>\n",
              "      <td>0</td>\n",
              "      <td>46-50</td>\n",
              "      <td>Universitaria o postgrado</td>\n",
              "      <td>0</td>\n",
              "      <td>0</td>\n",
              "      <td>...</td>\n",
              "      <td>0</td>\n",
              "      <td>0</td>\n",
              "      <td>0</td>\n",
              "      <td>0</td>\n",
              "      <td>0</td>\n",
              "      <td>0</td>\n",
              "      <td>1</td>\n",
              "      <td>1.0</td>\n",
              "      <td>0</td>\n",
              "      <td>0</td>\n",
              "    </tr>\n",
              "    <tr>\n",
              "      <th>25115</th>\n",
              "      <td>5_7_3153</td>\n",
              "      <td>CUNDINAMARCA</td>\n",
              "      <td>4.0</td>\n",
              "      <td>1</td>\n",
              "      <td>1</td>\n",
              "      <td>0</td>\n",
              "      <td>46-50</td>\n",
              "      <td>Universitaria o postgrado</td>\n",
              "      <td>0</td>\n",
              "      <td>0</td>\n",
              "      <td>...</td>\n",
              "      <td>1</td>\n",
              "      <td>0</td>\n",
              "      <td>0</td>\n",
              "      <td>0</td>\n",
              "      <td>0</td>\n",
              "      <td>0</td>\n",
              "      <td>0</td>\n",
              "      <td>NaN</td>\n",
              "      <td>1</td>\n",
              "      <td>0</td>\n",
              "    </tr>\n",
              "    <tr>\n",
              "      <th>25116</th>\n",
              "      <td>5_7_3154</td>\n",
              "      <td>CUNDINAMARCA</td>\n",
              "      <td>2.0</td>\n",
              "      <td>0</td>\n",
              "      <td>1</td>\n",
              "      <td>0</td>\n",
              "      <td>41-45</td>\n",
              "      <td>Técnica / Tecnológica</td>\n",
              "      <td>0</td>\n",
              "      <td>0</td>\n",
              "      <td>...</td>\n",
              "      <td>0</td>\n",
              "      <td>0</td>\n",
              "      <td>0</td>\n",
              "      <td>0</td>\n",
              "      <td>0</td>\n",
              "      <td>0</td>\n",
              "      <td>1</td>\n",
              "      <td>0.0</td>\n",
              "      <td>1</td>\n",
              "      <td>1</td>\n",
              "    </tr>\n",
              "  </tbody>\n",
              "</table>\n",
              "<p>25117 rows × 50 columns</p>\n",
              "</div>\n",
              "      <button class=\"colab-df-convert\" onclick=\"convertToInteractive('df-d210634f-db73-4b93-9b51-c4c04c8a449e')\"\n",
              "              title=\"Convert this dataframe to an interactive table.\"\n",
              "              style=\"display:none;\">\n",
              "        \n",
              "  <svg xmlns=\"http://www.w3.org/2000/svg\" height=\"24px\"viewBox=\"0 0 24 24\"\n",
              "       width=\"24px\">\n",
              "    <path d=\"M0 0h24v24H0V0z\" fill=\"none\"/>\n",
              "    <path d=\"M18.56 5.44l.94 2.06.94-2.06 2.06-.94-2.06-.94-.94-2.06-.94 2.06-2.06.94zm-11 1L8.5 8.5l.94-2.06 2.06-.94-2.06-.94L8.5 2.5l-.94 2.06-2.06.94zm10 10l.94 2.06.94-2.06 2.06-.94-2.06-.94-.94-2.06-.94 2.06-2.06.94z\"/><path d=\"M17.41 7.96l-1.37-1.37c-.4-.4-.92-.59-1.43-.59-.52 0-1.04.2-1.43.59L10.3 9.45l-7.72 7.72c-.78.78-.78 2.05 0 2.83L4 21.41c.39.39.9.59 1.41.59.51 0 1.02-.2 1.41-.59l7.78-7.78 2.81-2.81c.8-.78.8-2.07 0-2.86zM5.41 20L4 18.59l7.72-7.72 1.47 1.35L5.41 20z\"/>\n",
              "  </svg>\n",
              "      </button>\n",
              "      \n",
              "  <style>\n",
              "    .colab-df-container {\n",
              "      display:flex;\n",
              "      flex-wrap:wrap;\n",
              "      gap: 12px;\n",
              "    }\n",
              "\n",
              "    .colab-df-convert {\n",
              "      background-color: #E8F0FE;\n",
              "      border: none;\n",
              "      border-radius: 50%;\n",
              "      cursor: pointer;\n",
              "      display: none;\n",
              "      fill: #1967D2;\n",
              "      height: 32px;\n",
              "      padding: 0 0 0 0;\n",
              "      width: 32px;\n",
              "    }\n",
              "\n",
              "    .colab-df-convert:hover {\n",
              "      background-color: #E2EBFA;\n",
              "      box-shadow: 0px 1px 2px rgba(60, 64, 67, 0.3), 0px 1px 3px 1px rgba(60, 64, 67, 0.15);\n",
              "      fill: #174EA6;\n",
              "    }\n",
              "\n",
              "    [theme=dark] .colab-df-convert {\n",
              "      background-color: #3B4455;\n",
              "      fill: #D2E3FC;\n",
              "    }\n",
              "\n",
              "    [theme=dark] .colab-df-convert:hover {\n",
              "      background-color: #434B5C;\n",
              "      box-shadow: 0px 1px 3px 1px rgba(0, 0, 0, 0.15);\n",
              "      filter: drop-shadow(0px 1px 2px rgba(0, 0, 0, 0.3));\n",
              "      fill: #FFFFFF;\n",
              "    }\n",
              "  </style>\n",
              "\n",
              "      <script>\n",
              "        const buttonEl =\n",
              "          document.querySelector('#df-d210634f-db73-4b93-9b51-c4c04c8a449e button.colab-df-convert');\n",
              "        buttonEl.style.display =\n",
              "          google.colab.kernel.accessAllowed ? 'block' : 'none';\n",
              "\n",
              "        async function convertToInteractive(key) {\n",
              "          const element = document.querySelector('#df-d210634f-db73-4b93-9b51-c4c04c8a449e');\n",
              "          const dataTable =\n",
              "            await google.colab.kernel.invokeFunction('convertToInteractive',\n",
              "                                                     [key], {});\n",
              "          if (!dataTable) return;\n",
              "\n",
              "          const docLinkHtml = 'Like what you see? Visit the ' +\n",
              "            '<a target=\"_blank\" href=https://colab.research.google.com/notebooks/data_table.ipynb>data table notebook</a>'\n",
              "            + ' to learn more about interactive tables.';\n",
              "          element.innerHTML = '';\n",
              "          dataTable['output_type'] = 'display_data';\n",
              "          await google.colab.output.renderOutput(dataTable, element);\n",
              "          const docLink = document.createElement('div');\n",
              "          docLink.innerHTML = docLinkHtml;\n",
              "          element.appendChild(docLink);\n",
              "        }\n",
              "      </script>\n",
              "    </div>\n",
              "  </div>\n",
              "  "
            ]
          },
          "metadata": {},
          "execution_count": 2
        },
        {
          "output_type": "stream",
          "name": "stdout",
          "text": [
            "Warning: Total number of columns (50) exceeds max_columns (20) limiting to first (20) columns.\n",
            "Warning: total number of rows (25117) exceeds max_rows (20000). Limiting to first (20000) rows.\n"
          ]
        }
      ]
    },
    {
      "cell_type": "code",
      "source": [
        "motos.head()"
      ],
      "metadata": {
        "colab": {
          "base_uri": "https://localhost:8080/",
          "height": 334
        },
        "id": "oGCPHamaEtPf",
        "outputId": "df496212-f252-4c6c-ee9e-e814e50f84fb"
      },
      "execution_count": null,
      "outputs": [
        {
          "output_type": "execute_result",
          "data": {
            "text/plain": [
              "        uuid municipio  estrato_vivienda  hombre  sin_grupo_etnico  \\\n",
              "0     1_10_1  MEDELLÍN               2.0       1                 1   \n",
              "1    1_10_10  MEDELLÍN               3.0       1                 1   \n",
              "2   1_10_100  MEDELLÍN               3.0       1                 1   \n",
              "3  1_10_1000  MEDELLÍN               3.0       1                 1   \n",
              "4  1_10_1001  MEDELLÍN               4.0       1                 1   \n",
              "\n",
              "   etnia_afrocolombiano edad_grupo            nivel_educativo  moto_street  \\\n",
              "0                     0      41-45                 Secundaria            1   \n",
              "1                     0      36-40                 Secundaria            1   \n",
              "2                     0      31-35      Técnica / Tecnológica            1   \n",
              "3                     0      31-35                 Secundaria            1   \n",
              "4                     0      41-45  Universitaria o postgrado            0   \n",
              "\n",
              "   moto_scooter  ...  epp_guantes epp_botas epp_rodilleras  epp_reflectivos  \\\n",
              "0             0  ...            0         1              0                0   \n",
              "1             0  ...            0         0              0                1   \n",
              "2             0  ...            0         0              0                1   \n",
              "3             0  ...            0         0              0                0   \n",
              "4             0  ...            0         0              0                0   \n",
              "\n",
              "   epp_chaquetaprot  epp_chaquetairbag con_acompañantes  \\\n",
              "0                 1                  0                1   \n",
              "1                 0                  0                0   \n",
              "2                 0                  0                1   \n",
              "3                 0                  0                0   \n",
              "4                 0                  0                0   \n",
              "\n",
              "   con_acompañantes_menores  perfil_siniestros1  perfil_comparendos1  \n",
              "0                       0.0                   1                    1  \n",
              "1                       NaN                   1                    1  \n",
              "2                       0.0                   1                    1  \n",
              "3                       NaN                   1                    1  \n",
              "4                       NaN                   1                    1  \n",
              "\n",
              "[5 rows x 50 columns]"
            ],
            "text/html": [
              "\n",
              "  <div id=\"df-42162b3d-f21f-4784-84dd-3c96182ce325\">\n",
              "    <div class=\"colab-df-container\">\n",
              "      <div>\n",
              "<style scoped>\n",
              "    .dataframe tbody tr th:only-of-type {\n",
              "        vertical-align: middle;\n",
              "    }\n",
              "\n",
              "    .dataframe tbody tr th {\n",
              "        vertical-align: top;\n",
              "    }\n",
              "\n",
              "    .dataframe thead th {\n",
              "        text-align: right;\n",
              "    }\n",
              "</style>\n",
              "<table border=\"1\" class=\"dataframe\">\n",
              "  <thead>\n",
              "    <tr style=\"text-align: right;\">\n",
              "      <th></th>\n",
              "      <th>uuid</th>\n",
              "      <th>municipio</th>\n",
              "      <th>estrato_vivienda</th>\n",
              "      <th>hombre</th>\n",
              "      <th>sin_grupo_etnico</th>\n",
              "      <th>etnia_afrocolombiano</th>\n",
              "      <th>edad_grupo</th>\n",
              "      <th>nivel_educativo</th>\n",
              "      <th>moto_street</th>\n",
              "      <th>moto_scooter</th>\n",
              "      <th>...</th>\n",
              "      <th>epp_guantes</th>\n",
              "      <th>epp_botas</th>\n",
              "      <th>epp_rodilleras</th>\n",
              "      <th>epp_reflectivos</th>\n",
              "      <th>epp_chaquetaprot</th>\n",
              "      <th>epp_chaquetairbag</th>\n",
              "      <th>con_acompañantes</th>\n",
              "      <th>con_acompañantes_menores</th>\n",
              "      <th>perfil_siniestros1</th>\n",
              "      <th>perfil_comparendos1</th>\n",
              "    </tr>\n",
              "  </thead>\n",
              "  <tbody>\n",
              "    <tr>\n",
              "      <th>0</th>\n",
              "      <td>1_10_1</td>\n",
              "      <td>MEDELLÍN</td>\n",
              "      <td>2.0</td>\n",
              "      <td>1</td>\n",
              "      <td>1</td>\n",
              "      <td>0</td>\n",
              "      <td>41-45</td>\n",
              "      <td>Secundaria</td>\n",
              "      <td>1</td>\n",
              "      <td>0</td>\n",
              "      <td>...</td>\n",
              "      <td>0</td>\n",
              "      <td>1</td>\n",
              "      <td>0</td>\n",
              "      <td>0</td>\n",
              "      <td>1</td>\n",
              "      <td>0</td>\n",
              "      <td>1</td>\n",
              "      <td>0.0</td>\n",
              "      <td>1</td>\n",
              "      <td>1</td>\n",
              "    </tr>\n",
              "    <tr>\n",
              "      <th>1</th>\n",
              "      <td>1_10_10</td>\n",
              "      <td>MEDELLÍN</td>\n",
              "      <td>3.0</td>\n",
              "      <td>1</td>\n",
              "      <td>1</td>\n",
              "      <td>0</td>\n",
              "      <td>36-40</td>\n",
              "      <td>Secundaria</td>\n",
              "      <td>1</td>\n",
              "      <td>0</td>\n",
              "      <td>...</td>\n",
              "      <td>0</td>\n",
              "      <td>0</td>\n",
              "      <td>0</td>\n",
              "      <td>1</td>\n",
              "      <td>0</td>\n",
              "      <td>0</td>\n",
              "      <td>0</td>\n",
              "      <td>NaN</td>\n",
              "      <td>1</td>\n",
              "      <td>1</td>\n",
              "    </tr>\n",
              "    <tr>\n",
              "      <th>2</th>\n",
              "      <td>1_10_100</td>\n",
              "      <td>MEDELLÍN</td>\n",
              "      <td>3.0</td>\n",
              "      <td>1</td>\n",
              "      <td>1</td>\n",
              "      <td>0</td>\n",
              "      <td>31-35</td>\n",
              "      <td>Técnica / Tecnológica</td>\n",
              "      <td>1</td>\n",
              "      <td>0</td>\n",
              "      <td>...</td>\n",
              "      <td>0</td>\n",
              "      <td>0</td>\n",
              "      <td>0</td>\n",
              "      <td>1</td>\n",
              "      <td>0</td>\n",
              "      <td>0</td>\n",
              "      <td>1</td>\n",
              "      <td>0.0</td>\n",
              "      <td>1</td>\n",
              "      <td>1</td>\n",
              "    </tr>\n",
              "    <tr>\n",
              "      <th>3</th>\n",
              "      <td>1_10_1000</td>\n",
              "      <td>MEDELLÍN</td>\n",
              "      <td>3.0</td>\n",
              "      <td>1</td>\n",
              "      <td>1</td>\n",
              "      <td>0</td>\n",
              "      <td>31-35</td>\n",
              "      <td>Secundaria</td>\n",
              "      <td>1</td>\n",
              "      <td>0</td>\n",
              "      <td>...</td>\n",
              "      <td>0</td>\n",
              "      <td>0</td>\n",
              "      <td>0</td>\n",
              "      <td>0</td>\n",
              "      <td>0</td>\n",
              "      <td>0</td>\n",
              "      <td>0</td>\n",
              "      <td>NaN</td>\n",
              "      <td>1</td>\n",
              "      <td>1</td>\n",
              "    </tr>\n",
              "    <tr>\n",
              "      <th>4</th>\n",
              "      <td>1_10_1001</td>\n",
              "      <td>MEDELLÍN</td>\n",
              "      <td>4.0</td>\n",
              "      <td>1</td>\n",
              "      <td>1</td>\n",
              "      <td>0</td>\n",
              "      <td>41-45</td>\n",
              "      <td>Universitaria o postgrado</td>\n",
              "      <td>0</td>\n",
              "      <td>0</td>\n",
              "      <td>...</td>\n",
              "      <td>0</td>\n",
              "      <td>0</td>\n",
              "      <td>0</td>\n",
              "      <td>0</td>\n",
              "      <td>0</td>\n",
              "      <td>0</td>\n",
              "      <td>0</td>\n",
              "      <td>NaN</td>\n",
              "      <td>1</td>\n",
              "      <td>1</td>\n",
              "    </tr>\n",
              "  </tbody>\n",
              "</table>\n",
              "<p>5 rows × 50 columns</p>\n",
              "</div>\n",
              "      <button class=\"colab-df-convert\" onclick=\"convertToInteractive('df-42162b3d-f21f-4784-84dd-3c96182ce325')\"\n",
              "              title=\"Convert this dataframe to an interactive table.\"\n",
              "              style=\"display:none;\">\n",
              "        \n",
              "  <svg xmlns=\"http://www.w3.org/2000/svg\" height=\"24px\"viewBox=\"0 0 24 24\"\n",
              "       width=\"24px\">\n",
              "    <path d=\"M0 0h24v24H0V0z\" fill=\"none\"/>\n",
              "    <path d=\"M18.56 5.44l.94 2.06.94-2.06 2.06-.94-2.06-.94-.94-2.06-.94 2.06-2.06.94zm-11 1L8.5 8.5l.94-2.06 2.06-.94-2.06-.94L8.5 2.5l-.94 2.06-2.06.94zm10 10l.94 2.06.94-2.06 2.06-.94-2.06-.94-.94-2.06-.94 2.06-2.06.94z\"/><path d=\"M17.41 7.96l-1.37-1.37c-.4-.4-.92-.59-1.43-.59-.52 0-1.04.2-1.43.59L10.3 9.45l-7.72 7.72c-.78.78-.78 2.05 0 2.83L4 21.41c.39.39.9.59 1.41.59.51 0 1.02-.2 1.41-.59l7.78-7.78 2.81-2.81c.8-.78.8-2.07 0-2.86zM5.41 20L4 18.59l7.72-7.72 1.47 1.35L5.41 20z\"/>\n",
              "  </svg>\n",
              "      </button>\n",
              "      \n",
              "  <style>\n",
              "    .colab-df-container {\n",
              "      display:flex;\n",
              "      flex-wrap:wrap;\n",
              "      gap: 12px;\n",
              "    }\n",
              "\n",
              "    .colab-df-convert {\n",
              "      background-color: #E8F0FE;\n",
              "      border: none;\n",
              "      border-radius: 50%;\n",
              "      cursor: pointer;\n",
              "      display: none;\n",
              "      fill: #1967D2;\n",
              "      height: 32px;\n",
              "      padding: 0 0 0 0;\n",
              "      width: 32px;\n",
              "    }\n",
              "\n",
              "    .colab-df-convert:hover {\n",
              "      background-color: #E2EBFA;\n",
              "      box-shadow: 0px 1px 2px rgba(60, 64, 67, 0.3), 0px 1px 3px 1px rgba(60, 64, 67, 0.15);\n",
              "      fill: #174EA6;\n",
              "    }\n",
              "\n",
              "    [theme=dark] .colab-df-convert {\n",
              "      background-color: #3B4455;\n",
              "      fill: #D2E3FC;\n",
              "    }\n",
              "\n",
              "    [theme=dark] .colab-df-convert:hover {\n",
              "      background-color: #434B5C;\n",
              "      box-shadow: 0px 1px 3px 1px rgba(0, 0, 0, 0.15);\n",
              "      filter: drop-shadow(0px 1px 2px rgba(0, 0, 0, 0.3));\n",
              "      fill: #FFFFFF;\n",
              "    }\n",
              "  </style>\n",
              "\n",
              "      <script>\n",
              "        const buttonEl =\n",
              "          document.querySelector('#df-42162b3d-f21f-4784-84dd-3c96182ce325 button.colab-df-convert');\n",
              "        buttonEl.style.display =\n",
              "          google.colab.kernel.accessAllowed ? 'block' : 'none';\n",
              "\n",
              "        async function convertToInteractive(key) {\n",
              "          const element = document.querySelector('#df-42162b3d-f21f-4784-84dd-3c96182ce325');\n",
              "          const dataTable =\n",
              "            await google.colab.kernel.invokeFunction('convertToInteractive',\n",
              "                                                     [key], {});\n",
              "          if (!dataTable) return;\n",
              "\n",
              "          const docLinkHtml = 'Like what you see? Visit the ' +\n",
              "            '<a target=\"_blank\" href=https://colab.research.google.com/notebooks/data_table.ipynb>data table notebook</a>'\n",
              "            + ' to learn more about interactive tables.';\n",
              "          element.innerHTML = '';\n",
              "          dataTable['output_type'] = 'display_data';\n",
              "          await google.colab.output.renderOutput(dataTable, element);\n",
              "          const docLink = document.createElement('div');\n",
              "          docLink.innerHTML = docLinkHtml;\n",
              "          element.appendChild(docLink);\n",
              "        }\n",
              "      </script>\n",
              "    </div>\n",
              "  </div>\n",
              "  "
            ]
          },
          "metadata": {},
          "execution_count": 3
        }
      ]
    },
    {
      "cell_type": "code",
      "source": [
        "motos.dtypes"
      ],
      "metadata": {
        "colab": {
          "base_uri": "https://localhost:8080/"
        },
        "id": "n0aGW1vQEycY",
        "outputId": "55148c01-09d3-49fb-ef9f-a1f404cdf0a4"
      },
      "execution_count": null,
      "outputs": [
        {
          "output_type": "execute_result",
          "data": {
            "text/plain": [
              "uuid                             object\n",
              "municipio                        object\n",
              "estrato_vivienda                float64\n",
              "hombre                            int64\n",
              "sin_grupo_etnico                  int64\n",
              "etnia_afrocolombiano              int64\n",
              "edad_grupo                       object\n",
              "nivel_educativo                  object\n",
              "moto_street                       int64\n",
              "moto_scooter                      int64\n",
              "moto_deportiva                    int64\n",
              "cilin_grupo                      object\n",
              "modelo_grupo                     object\n",
              "frenos_disco                      int64\n",
              "frenos_mixto                      int64\n",
              "frenos_tambor                     int64\n",
              "tec_frenado                      object\n",
              "dias_semana                       int64\n",
              "sector_comercio                   int64\n",
              "sector_servicios                  int64\n",
              "sector_transporte                 int64\n",
              "herramienta_trabajo               int64\n",
              "transporte_cotidiano              int64\n",
              "trabajo_domicilios              float64\n",
              "trabajo_transporte_pasajeros    float64\n",
              "frecuencia_revisionpre           object\n",
              "costo_casco                      object\n",
              "costo_mantenimiento              object\n",
              "gasto_anual                     float64\n",
              "licencia_moto                     int64\n",
              "licencia_curso                  float64\n",
              "experiencia                      object\n",
              "riesgo_velocidad                  int64\n",
              "riesgo_sinlucesdia                int64\n",
              "riesgo_sinlucesnoche              int64\n",
              "riesgo_sinreflectivos             int64\n",
              "motivo_dinero                     int64\n",
              "motivo_tiempo                     int64\n",
              "motivo_independencia              int64\n",
              "epp_casco                         int64\n",
              "epp_guantes                       int64\n",
              "epp_botas                         int64\n",
              "epp_rodilleras                    int64\n",
              "epp_reflectivos                   int64\n",
              "epp_chaquetaprot                  int64\n",
              "epp_chaquetairbag                 int64\n",
              "con_acompañantes                  int64\n",
              "con_acompañantes_menores        float64\n",
              "perfil_siniestros1                int64\n",
              "perfil_comparendos1               int64\n",
              "dtype: object"
            ]
          },
          "metadata": {},
          "execution_count": 4
        }
      ]
    },
    {
      "cell_type": "code",
      "source": [
        "metrallo = motos[motos.municipio == 'MEDELLÍN']\n",
        "metrallo.groupby([\"edad_grupo\", \"nivel_educativo\"])[\"estrato_vivienda\"].mean().unstack().ffill().plot();"
      ],
      "metadata": {
        "colab": {
          "base_uri": "https://localhost:8080/",
          "height": 280
        },
        "id": "EXI7H_iVE-Aj",
        "outputId": "3dd09e97-0303-42e3-f939-e8d5d2049f8d"
      },
      "execution_count": null,
      "outputs": [
        {
          "output_type": "display_data",
          "data": {
            "text/plain": [
              "<Figure size 432x288 with 1 Axes>"
            ],
            "image/png": "[encoded data removed]"
          },
          "metadata": {
            "needs_background": "light"
          }
        }
      ]
    },
    {
      "cell_type": "code",
      "source": [
        "def diferencia_estratos(group):\n",
        "  precios_estrato_sin_null = pd.DataFrame(group.dropna())\n",
        "  hombres = precios_estrato_sin_null.loc[:, 1]\n",
        "  mujeres = precios_estrato_sin_null.loc[:, 0]\n",
        "  diff = abs(hombres-mujeres)\n",
        "  return diff\n",
        "\n",
        "def precios_por_estrato(df):\n",
        "    return (\n",
        "        df\n",
        "        .groupby(['dias_semana', 'hombre'])['estrato_vivienda'].mean().unstack().ffill())"
      ],
      "metadata": {
        "id": "Din7b2WWIzEZ"
      },
      "execution_count": null,
      "outputs": []
    },
    {
      "cell_type": "code",
      "source": [
        "asdf = precios_por_estrato(metrallo)\n",
        "diferencia_estratos(asdf)\n"
      ],
      "metadata": {
        "colab": {
          "base_uri": "https://localhost:8080/"
        },
        "id": "ChgSsIGGQ2u6",
        "outputId": "9ce8adcb-c116-4c26-c4f7-cb2e98e6f986"
      },
      "execution_count": null,
      "outputs": [
        {
          "output_type": "execute_result",
          "data": {
            "text/plain": [
              "dias_semana\n",
              "2    0.167742\n",
              "3    0.535714\n",
              "4    2.153846\n",
              "5    0.061813\n",
              "6    0.032860\n",
              "7    0.086078\n",
              "dtype: float64"
            ]
          },
          "metadata": {},
          "execution_count": 84
        }
      ]
    },
    {
      "cell_type": "code",
      "source": [
        "asdf.plot()"
      ],
      "metadata": {
        "colab": {
          "base_uri": "https://localhost:8080/",
          "height": 298
        },
        "id": "pNoXIf97Tm7x",
        "outputId": "6d900953-b105-4f9d-dad0-690103d0c786"
      },
      "execution_count": null,
      "outputs": [
        {
          "output_type": "execute_result",
          "data": {
            "text/plain": [
              "<matplotlib.axes._subplots.AxesSubplot at 0x7f681a3a2450>"
            ]
          },
          "metadata": {},
          "execution_count": 85
        },
        {
          "output_type": "display_data",
          "data": {
            "text/plain": [
              "<Figure size 432x288 with 1 Axes>"
            ],
            "image/png": "[encoded data removed]"
          },
          "metadata": {
            "needs_background": "light"
          }
        }
      ]
    },
    {
      "cell_type": "code",
      "execution_count": null,
      "metadata": {
        "id": "XcYC7BGAiXcf",
        "colab": {
          "base_uri": "https://localhost:8080/",
          "height": 373
        },
        "outputId": "007aeb64-f55f-4910-ba57-09a262aad225"
      },
      "outputs": [
        {
          "output_type": "error",
          "ename": "ModuleNotFoundError",
          "evalue": "ignored",
          "traceback": [
            "\u001b[0;31m---------------------------------------------------------------------------\u001b[0m",
            "\u001b[0;31mModuleNotFoundError\u001b[0m                       Traceback (most recent call last)",
            "\u001b[0;32m<ipython-input-7-ca7191fa6ef8>\u001b[0m in \u001b[0;36m<module>\u001b[0;34m\u001b[0m\n\u001b[0;32m----> 1\u001b[0;31m \u001b[0;32mfrom\u001b[0m \u001b[0mdemos\u001b[0m\u001b[0;34m.\u001b[0m\u001b[0mavocados\u001b[0m \u001b[0;32mimport\u001b[0m \u001b[0mread_avocadata\u001b[0m\u001b[0;34m\u001b[0m\u001b[0;34m\u001b[0m\u001b[0m\n\u001b[0m\u001b[1;32m      2\u001b[0m \u001b[0;34m\u001b[0m\u001b[0m\n\u001b[1;32m      3\u001b[0m \u001b[0mavocados\u001b[0m \u001b[0;34m=\u001b[0m \u001b[0mread_avocadata\u001b[0m\u001b[0;34m(\u001b[0m\u001b[0;34m'2014'\u001b[0m\u001b[0;34m,\u001b[0m \u001b[0;34m'2016'\u001b[0m\u001b[0;34m)\u001b[0m\u001b[0;34m\u001b[0m\u001b[0;34m\u001b[0m\u001b[0m\n\u001b[1;32m      4\u001b[0m \u001b[0mavocados\u001b[0m\u001b[0;34m.\u001b[0m\u001b[0mhead\u001b[0m\u001b[0;34m(\u001b[0m\u001b[0;34m)\u001b[0m\u001b[0;34m\u001b[0m\u001b[0;34m\u001b[0m\u001b[0m\n",
            "\u001b[0;31mModuleNotFoundError\u001b[0m: No module named 'demos'",
            "",
            "\u001b[0;31m---------------------------------------------------------------------------\u001b[0;32m\nNOTE: If your import is failing due to a missing package, you can\nmanually install dependencies using either !pip or !apt.\n\nTo view examples of installing some common dependencies, click the\n\"Open Examples\" button below.\n\u001b[0;31m---------------------------------------------------------------------------\u001b[0m\n"
          ],
          "errorDetails": {
            "actions": [
              {
                "action": "open_url",
                "actionText": "Open Examples",
                "url": "/notebooks/snippets/importing_libraries.ipynb"
              }
            ]
          }
        }
      ],
      "source": [
        "from demos.avocados import read_avocadata\n",
        "\n",
        "avocados = read_avocadata('2014', '2016')\n",
        "avocados.head()"
      ]
    },
    {
      "cell_type": "code",
      "execution_count": null,
      "metadata": {
        "id": "tjk0EsEsiXcf"
      },
      "outputs": [],
      "source": [
        "# Unlike numpy arrays, pandas DataFrames can have a different dtype for each column.\n",
        "avocados.dtypes"
      ]
    },
    {
      "cell_type": "code",
      "execution_count": null,
      "metadata": {
        "id": "YcpqjQCdiXcf"
      },
      "outputs": [],
      "source": [
        "# What's the regional average price of a HASS avocado every day?\n",
        "hass = avocados[avocados.Variety == 'HASS']\n",
        "hass.groupby(['Date', 'Region'])['Weighted Avg Price'].mean().unstack().ffill().plot();"
      ]
    },
    {
      "cell_type": "code",
      "execution_count": null,
      "metadata": {
        "collapsed": true,
        "id": "k1Zdnr4jiXcf"
      },
      "outputs": [],
      "source": [
        "def _organic_spread(group):\n",
        "\n",
        "    if len(group.columns) != 2:\n",
        "        return pd.Series(index=group.index, data=0.0)\n",
        "    \n",
        "    is_organic = group.columns.get_level_values('Organic').values.astype(bool)\n",
        "    organics = group.loc[:, is_organic].squeeze()\n",
        "    non_organics = group.loc[:, ~is_organic].squeeze()\n",
        "    diff = organics - non_organics\n",
        "    return diff\n",
        "\n",
        "def organic_spread_by_region(df):\n",
        "    \"\"\"What's the difference between the price of an organic \n",
        "    and non-organic avocado within each region?\n",
        "    \"\"\"\n",
        "    return (\n",
        "        df\n",
        "        .set_index(['Date', 'Region', 'Organic'])\n",
        "         ['Weighted Avg Price']\n",
        "        .unstack(level=['Region', 'Organic'])\n",
        "        .ffill()\n",
        "        .groupby(level='Region', axis=1)\n",
        "        .apply(_organic_spread)\n",
        "    )"
      ]
    },
    {
      "cell_type": "code",
      "execution_count": null,
      "metadata": {
        "id": "iU-Th92BiXcf"
      },
      "outputs": [],
      "source": [
        "organic_spread_by_region(hass).plot();\n",
        "plt.gca().set_title(\"Daily Regional Organic Spread\");\n",
        "plt.legend(bbox_to_anchor=(1, 1));"
      ]
    },
    {
      "cell_type": "code",
      "execution_count": null,
      "metadata": {
        "id": "vjR02HpEiXcg"
      },
      "outputs": [],
      "source": [
        "spread_correlation = organic_spread_by_region(hass).corr()\n",
        "spread_correlation"
      ]
    },
    {
      "cell_type": "code",
      "execution_count": null,
      "metadata": {
        "id": "-fbKjqw6iXcg"
      },
      "outputs": [],
      "source": [
        "import seaborn as sns\n",
        "grid = sns.clustermap(spread_correlation, annot=True)\n",
        "fig = grid.fig\n",
        "axes = fig.axes\n",
        "ax = axes[2]\n",
        "ax.set_xticklabels(ax.get_xticklabels(), rotation=45);"
      ]
    },
    {
      "cell_type": "markdown",
      "metadata": {
        "id": "-6jsBAhQiXcg"
      },
      "source": [
        "# Pandas Review\n",
        "\n",
        "- Pandas extends numpy with more complex datastructures and algorithms.\n",
        "- If you understand numpy, you understand 90% of pandas.\n",
        "- `groupby`, `set_index`, and `unstack` are powerful tools for working with categorical data.\n",
        "- Avocado prices are surprisingly interesting :)"
      ]
    },
    {
      "cell_type": "markdown",
      "metadata": {
        "id": "_u_fG58UiXcg"
      },
      "source": [
        "# Thanks!"
      ]
    }
  ],
  "metadata": {
    "celltoolbar": "Slideshow",
    "kernelspec": {
      "display_name": "Python 3",
      "language": "python",
      "name": "python3"
    },
    "language_info": {
      "codemirror_mode": {
        "name": "ipython",
        "version": 3
      },
      "file_extension": ".py",
      "mimetype": "text/x-python",
      "name": "python",
      "nbconvert_exporter": "python",
      "pygments_lexer": "ipython3",
      "version": "3.5.2"
    },
    "livereveal": {
      "start_slideshow_at": "selected"
    },
    "name": "Main.ipynb",
    "colab": {
      "provenance": [],
      "collapsed_sections": [
        "gh1Uw4KtiXcK",
        "K81LXWsCiXcS",
        "9EsiKbSCiXcT",
        "zsIEVqkgiXcY",
        "JHmGF_mGiXcZ",
        "-6jsBAhQiXcg",
        "_u_fG58UiXcg"
      ],
      "include_colab_link": true
    }
  },
  "nbformat": 4,
  "nbformat_minor": 0
}